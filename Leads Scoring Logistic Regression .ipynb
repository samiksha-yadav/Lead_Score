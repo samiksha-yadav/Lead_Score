{
 "cells": [
  {
   "cell_type": "markdown",
   "id": "09822db7",
   "metadata": {},
   "source": [
    "## Importing Necessary Libraries"
   ]
  },
  {
   "cell_type": "code",
   "execution_count": 1,
   "id": "fba73c83",
   "metadata": {},
   "outputs": [],
   "source": [
    "# for analysis\n",
    "import pandas as pd\n",
    "import numpy as np\n",
    "\n",
    "# for visulaization\n",
    "import matplotlib.pyplot as plt\n",
    "from matplotlib.pyplot import xticks\n",
    "import seaborn as sns\n",
    "%matplotlib inline\n",
    "\n",
    "# Warnings\n",
    "import warnings\n",
    "warnings.filterwarnings(action=\"ignore\")\n",
    "\n",
    "# libraries for model building and metrics calculations\n",
    "from sklearn.model_selection import train_test_split\n",
    "from sklearn.preprocessing import StandardScaler\n",
    "from sklearn.linear_model import LogisticRegression\n",
    "from sklearn.feature_selection import RFE\n",
    "from statsmodels.stats.outliers_influence import variance_inflation_factor\n",
    "from sklearn import metrics\n",
    "import statsmodels.api as sm"
   ]
  },
  {
   "cell_type": "markdown",
   "id": "bf6a6b1f",
   "metadata": {},
   "source": [
    "## Data Loading"
   ]
  },
  {
   "cell_type": "code",
   "execution_count": 2,
   "id": "21913708",
   "metadata": {},
   "outputs": [],
   "source": [
    "#using pandas library and 'read_csv' function to read csv file \n",
    "df=pd.read_csv(\"leads.csv\") "
   ]
  },
  {
   "cell_type": "code",
   "execution_count": 3,
   "id": "6f6328f9",
   "metadata": {},
   "outputs": [
    {
     "data": {
      "text/html": [
       "<div>\n",
       "<style scoped>\n",
       "    .dataframe tbody tr th:only-of-type {\n",
       "        vertical-align: middle;\n",
       "    }\n",
       "\n",
       "    .dataframe tbody tr th {\n",
       "        vertical-align: top;\n",
       "    }\n",
       "\n",
       "    .dataframe thead th {\n",
       "        text-align: right;\n",
       "    }\n",
       "</style>\n",
       "<table border=\"1\" class=\"dataframe\">\n",
       "  <thead>\n",
       "    <tr style=\"text-align: right;\">\n",
       "      <th></th>\n",
       "      <th>Prospect ID</th>\n",
       "      <th>Lead Number</th>\n",
       "      <th>Lead Origin</th>\n",
       "      <th>Lead Source</th>\n",
       "      <th>Do Not Email</th>\n",
       "      <th>Do Not Call</th>\n",
       "      <th>Converted</th>\n",
       "      <th>TotalVisits</th>\n",
       "      <th>Total Time Spent on Website</th>\n",
       "      <th>Page Views Per Visit</th>\n",
       "      <th>...</th>\n",
       "      <th>Get updates on DM Content</th>\n",
       "      <th>Lead Profile</th>\n",
       "      <th>City</th>\n",
       "      <th>Asymmetrique Activity Index</th>\n",
       "      <th>Asymmetrique Profile Index</th>\n",
       "      <th>Asymmetrique Activity Score</th>\n",
       "      <th>Asymmetrique Profile Score</th>\n",
       "      <th>I agree to pay the amount through cheque</th>\n",
       "      <th>A free copy of Mastering The Interview</th>\n",
       "      <th>Last Notable Activity</th>\n",
       "    </tr>\n",
       "  </thead>\n",
       "  <tbody>\n",
       "    <tr>\n",
       "      <th>0</th>\n",
       "      <td>7927b2df-8bba-4d29-b9a2-b6e0beafe620</td>\n",
       "      <td>660737</td>\n",
       "      <td>API</td>\n",
       "      <td>Olark Chat</td>\n",
       "      <td>No</td>\n",
       "      <td>No</td>\n",
       "      <td>0</td>\n",
       "      <td>0.0</td>\n",
       "      <td>0</td>\n",
       "      <td>0.0</td>\n",
       "      <td>...</td>\n",
       "      <td>No</td>\n",
       "      <td>Select</td>\n",
       "      <td>Select</td>\n",
       "      <td>02.Medium</td>\n",
       "      <td>02.Medium</td>\n",
       "      <td>15.0</td>\n",
       "      <td>15.0</td>\n",
       "      <td>No</td>\n",
       "      <td>No</td>\n",
       "      <td>Modified</td>\n",
       "    </tr>\n",
       "    <tr>\n",
       "      <th>1</th>\n",
       "      <td>2a272436-5132-4136-86fa-dcc88c88f482</td>\n",
       "      <td>660728</td>\n",
       "      <td>API</td>\n",
       "      <td>Organic Search</td>\n",
       "      <td>No</td>\n",
       "      <td>No</td>\n",
       "      <td>0</td>\n",
       "      <td>5.0</td>\n",
       "      <td>674</td>\n",
       "      <td>2.5</td>\n",
       "      <td>...</td>\n",
       "      <td>No</td>\n",
       "      <td>Select</td>\n",
       "      <td>Select</td>\n",
       "      <td>02.Medium</td>\n",
       "      <td>02.Medium</td>\n",
       "      <td>15.0</td>\n",
       "      <td>15.0</td>\n",
       "      <td>No</td>\n",
       "      <td>No</td>\n",
       "      <td>Email Opened</td>\n",
       "    </tr>\n",
       "    <tr>\n",
       "      <th>2</th>\n",
       "      <td>8cc8c611-a219-4f35-ad23-fdfd2656bd8a</td>\n",
       "      <td>660727</td>\n",
       "      <td>Landing Page Submission</td>\n",
       "      <td>Direct Traffic</td>\n",
       "      <td>No</td>\n",
       "      <td>No</td>\n",
       "      <td>1</td>\n",
       "      <td>2.0</td>\n",
       "      <td>1532</td>\n",
       "      <td>2.0</td>\n",
       "      <td>...</td>\n",
       "      <td>No</td>\n",
       "      <td>Potential Lead</td>\n",
       "      <td>Mumbai</td>\n",
       "      <td>02.Medium</td>\n",
       "      <td>01.High</td>\n",
       "      <td>14.0</td>\n",
       "      <td>20.0</td>\n",
       "      <td>No</td>\n",
       "      <td>Yes</td>\n",
       "      <td>Email Opened</td>\n",
       "    </tr>\n",
       "    <tr>\n",
       "      <th>3</th>\n",
       "      <td>0cc2df48-7cf4-4e39-9de9-19797f9b38cc</td>\n",
       "      <td>660719</td>\n",
       "      <td>Landing Page Submission</td>\n",
       "      <td>Direct Traffic</td>\n",
       "      <td>No</td>\n",
       "      <td>No</td>\n",
       "      <td>0</td>\n",
       "      <td>1.0</td>\n",
       "      <td>305</td>\n",
       "      <td>1.0</td>\n",
       "      <td>...</td>\n",
       "      <td>No</td>\n",
       "      <td>Select</td>\n",
       "      <td>Mumbai</td>\n",
       "      <td>02.Medium</td>\n",
       "      <td>01.High</td>\n",
       "      <td>13.0</td>\n",
       "      <td>17.0</td>\n",
       "      <td>No</td>\n",
       "      <td>No</td>\n",
       "      <td>Modified</td>\n",
       "    </tr>\n",
       "    <tr>\n",
       "      <th>4</th>\n",
       "      <td>3256f628-e534-4826-9d63-4a8b88782852</td>\n",
       "      <td>660681</td>\n",
       "      <td>Landing Page Submission</td>\n",
       "      <td>Google</td>\n",
       "      <td>No</td>\n",
       "      <td>No</td>\n",
       "      <td>1</td>\n",
       "      <td>2.0</td>\n",
       "      <td>1428</td>\n",
       "      <td>1.0</td>\n",
       "      <td>...</td>\n",
       "      <td>No</td>\n",
       "      <td>Select</td>\n",
       "      <td>Mumbai</td>\n",
       "      <td>02.Medium</td>\n",
       "      <td>01.High</td>\n",
       "      <td>15.0</td>\n",
       "      <td>18.0</td>\n",
       "      <td>No</td>\n",
       "      <td>No</td>\n",
       "      <td>Modified</td>\n",
       "    </tr>\n",
       "  </tbody>\n",
       "</table>\n",
       "<p>5 rows × 37 columns</p>\n",
       "</div>"
      ],
      "text/plain": [
       "                            Prospect ID  Lead Number              Lead Origin  \\\n",
       "0  7927b2df-8bba-4d29-b9a2-b6e0beafe620       660737                      API   \n",
       "1  2a272436-5132-4136-86fa-dcc88c88f482       660728                      API   \n",
       "2  8cc8c611-a219-4f35-ad23-fdfd2656bd8a       660727  Landing Page Submission   \n",
       "3  0cc2df48-7cf4-4e39-9de9-19797f9b38cc       660719  Landing Page Submission   \n",
       "4  3256f628-e534-4826-9d63-4a8b88782852       660681  Landing Page Submission   \n",
       "\n",
       "      Lead Source Do Not Email Do Not Call  Converted  TotalVisits  \\\n",
       "0      Olark Chat           No          No          0          0.0   \n",
       "1  Organic Search           No          No          0          5.0   \n",
       "2  Direct Traffic           No          No          1          2.0   \n",
       "3  Direct Traffic           No          No          0          1.0   \n",
       "4          Google           No          No          1          2.0   \n",
       "\n",
       "   Total Time Spent on Website  Page Views Per Visit  ...  \\\n",
       "0                            0                   0.0  ...   \n",
       "1                          674                   2.5  ...   \n",
       "2                         1532                   2.0  ...   \n",
       "3                          305                   1.0  ...   \n",
       "4                         1428                   1.0  ...   \n",
       "\n",
       "  Get updates on DM Content    Lead Profile    City  \\\n",
       "0                        No          Select  Select   \n",
       "1                        No          Select  Select   \n",
       "2                        No  Potential Lead  Mumbai   \n",
       "3                        No          Select  Mumbai   \n",
       "4                        No          Select  Mumbai   \n",
       "\n",
       "  Asymmetrique Activity Index Asymmetrique Profile Index  \\\n",
       "0                   02.Medium                  02.Medium   \n",
       "1                   02.Medium                  02.Medium   \n",
       "2                   02.Medium                    01.High   \n",
       "3                   02.Medium                    01.High   \n",
       "4                   02.Medium                    01.High   \n",
       "\n",
       "  Asymmetrique Activity Score Asymmetrique Profile Score  \\\n",
       "0                        15.0                       15.0   \n",
       "1                        15.0                       15.0   \n",
       "2                        14.0                       20.0   \n",
       "3                        13.0                       17.0   \n",
       "4                        15.0                       18.0   \n",
       "\n",
       "  I agree to pay the amount through cheque  \\\n",
       "0                                       No   \n",
       "1                                       No   \n",
       "2                                       No   \n",
       "3                                       No   \n",
       "4                                       No   \n",
       "\n",
       "  A free copy of Mastering The Interview Last Notable Activity  \n",
       "0                                     No              Modified  \n",
       "1                                     No          Email Opened  \n",
       "2                                    Yes          Email Opened  \n",
       "3                                     No              Modified  \n",
       "4                                     No              Modified  \n",
       "\n",
       "[5 rows x 37 columns]"
      ]
     },
     "execution_count": 3,
     "metadata": {},
     "output_type": "execute_result"
    }
   ],
   "source": [
    "#examine head\n",
    "df.head()"
   ]
  },
  {
   "cell_type": "markdown",
   "id": "b9f1f655",
   "metadata": {},
   "source": [
    "# Data Sanity Checks"
   ]
  },
  {
   "cell_type": "code",
   "execution_count": 4,
   "id": "257f162e",
   "metadata": {},
   "outputs": [
    {
     "data": {
      "text/plain": [
       "(9240, 37)"
      ]
     },
     "execution_count": 4,
     "metadata": {},
     "output_type": "execute_result"
    }
   ],
   "source": [
    "#checking the number of rows and the number of columns, respectively\n",
    "df.shape"
   ]
  },
  {
   "cell_type": "code",
   "execution_count": 5,
   "id": "131933c9",
   "metadata": {},
   "outputs": [
    {
     "name": "stdout",
     "output_type": "stream",
     "text": [
      "<class 'pandas.core.frame.DataFrame'>\n",
      "RangeIndex: 9240 entries, 0 to 9239\n",
      "Data columns (total 37 columns):\n",
      " #   Column                                         Non-Null Count  Dtype  \n",
      "---  ------                                         --------------  -----  \n",
      " 0   Prospect ID                                    9240 non-null   object \n",
      " 1   Lead Number                                    9240 non-null   int64  \n",
      " 2   Lead Origin                                    9240 non-null   object \n",
      " 3   Lead Source                                    9204 non-null   object \n",
      " 4   Do Not Email                                   9240 non-null   object \n",
      " 5   Do Not Call                                    9240 non-null   object \n",
      " 6   Converted                                      9240 non-null   int64  \n",
      " 7   TotalVisits                                    9103 non-null   float64\n",
      " 8   Total Time Spent on Website                    9240 non-null   int64  \n",
      " 9   Page Views Per Visit                           9103 non-null   float64\n",
      " 10  Last Activity                                  9137 non-null   object \n",
      " 11  Country                                        6779 non-null   object \n",
      " 12  Specialization                                 7802 non-null   object \n",
      " 13  How did you hear about X Education             7033 non-null   object \n",
      " 14  What is your current occupation                6550 non-null   object \n",
      " 15  What matters most to you in choosing a course  6531 non-null   object \n",
      " 16  Search                                         9240 non-null   object \n",
      " 17  Magazine                                       9240 non-null   object \n",
      " 18  Newspaper Article                              9240 non-null   object \n",
      " 19  X Education Forums                             9240 non-null   object \n",
      " 20  Newspaper                                      9240 non-null   object \n",
      " 21  Digital Advertisement                          9240 non-null   object \n",
      " 22  Through Recommendations                        9240 non-null   object \n",
      " 23  Receive More Updates About Our Courses         9240 non-null   object \n",
      " 24  Tags                                           5887 non-null   object \n",
      " 25  Lead Quality                                   4473 non-null   object \n",
      " 26  Update me on Supply Chain Content              9240 non-null   object \n",
      " 27  Get updates on DM Content                      9240 non-null   object \n",
      " 28  Lead Profile                                   6531 non-null   object \n",
      " 29  City                                           7820 non-null   object \n",
      " 30  Asymmetrique Activity Index                    5022 non-null   object \n",
      " 31  Asymmetrique Profile Index                     5022 non-null   object \n",
      " 32  Asymmetrique Activity Score                    5022 non-null   float64\n",
      " 33  Asymmetrique Profile Score                     5022 non-null   float64\n",
      " 34  I agree to pay the amount through cheque       9240 non-null   object \n",
      " 35  A free copy of Mastering The Interview         9240 non-null   object \n",
      " 36  Last Notable Activity                          9240 non-null   object \n",
      "dtypes: float64(4), int64(3), object(30)\n",
      "memory usage: 2.6+ MB\n"
     ]
    }
   ],
   "source": [
    "df.info()"
   ]
  },
  {
   "cell_type": "code",
   "execution_count": 6,
   "id": "92e4b098",
   "metadata": {},
   "outputs": [],
   "source": [
    "# Replacing \"Select\" with NaN to signify no option selected\n",
    "df = df.replace('Select', np.nan)"
   ]
  },
  {
   "cell_type": "code",
   "execution_count": 7,
   "id": "3b781ba2",
   "metadata": {},
   "outputs": [
    {
     "data": {
      "text/plain": [
       "Prospect ID                                      9240\n",
       "Lead Number                                      9240\n",
       "Lead Origin                                         5\n",
       "Lead Source                                        21\n",
       "Do Not Email                                        2\n",
       "Do Not Call                                         2\n",
       "Converted                                           2\n",
       "TotalVisits                                        41\n",
       "Total Time Spent on Website                      1731\n",
       "Page Views Per Visit                              114\n",
       "Last Activity                                      17\n",
       "Country                                            38\n",
       "Specialization                                     18\n",
       "How did you hear about X Education                  9\n",
       "What is your current occupation                     6\n",
       "What matters most to you in choosing a course       3\n",
       "Search                                              2\n",
       "Magazine                                            1\n",
       "Newspaper Article                                   2\n",
       "X Education Forums                                  2\n",
       "Newspaper                                           2\n",
       "Digital Advertisement                               2\n",
       "Through Recommendations                             2\n",
       "Receive More Updates About Our Courses              1\n",
       "Tags                                               26\n",
       "Lead Quality                                        5\n",
       "Update me on Supply Chain Content                   1\n",
       "Get updates on DM Content                           1\n",
       "Lead Profile                                        5\n",
       "City                                                6\n",
       "Asymmetrique Activity Index                         3\n",
       "Asymmetrique Profile Index                          3\n",
       "Asymmetrique Activity Score                        12\n",
       "Asymmetrique Profile Score                         10\n",
       "I agree to pay the amount through cheque            1\n",
       "A free copy of Mastering The Interview              2\n",
       "Last Notable Activity                              16\n",
       "dtype: int64"
      ]
     },
     "execution_count": 7,
     "metadata": {},
     "output_type": "execute_result"
    }
   ],
   "source": [
    "# Checking for columns with only one unique value, as they will have no impact on our analysis\n",
    "df.nunique()"
   ]
  },
  {
   "cell_type": "markdown",
   "id": "5170c6e6",
   "metadata": {},
   "source": [
    "# Dropping unnecessary columns"
   ]
  },
  {
   "cell_type": "code",
   "execution_count": 8,
   "id": "ad7210b8",
   "metadata": {},
   "outputs": [],
   "source": [
    "df = df.drop(['Magazine','Prospect ID',\n",
    "              'Receive More Updates About Our Courses',\n",
    "              'I agree to pay the amount through cheque',\n",
    "              'Get updates on DM Content',\n",
    "              'Update me on Supply Chain Content'],axis=1)"
   ]
  },
  {
   "cell_type": "markdown",
   "id": "f35057c0",
   "metadata": {},
   "source": [
    "# Missing Value Check"
   ]
  },
  {
   "cell_type": "code",
   "execution_count": 9,
   "id": "97bfac41",
   "metadata": {},
   "outputs": [
    {
     "data": {
      "text/plain": [
       "Lead Number                                       0.00\n",
       "Lead Origin                                       0.00\n",
       "Lead Source                                       0.39\n",
       "Do Not Email                                      0.00\n",
       "Do Not Call                                       0.00\n",
       "Converted                                         0.00\n",
       "TotalVisits                                       1.48\n",
       "Total Time Spent on Website                       0.00\n",
       "Page Views Per Visit                              1.48\n",
       "Last Activity                                     1.11\n",
       "Country                                          26.63\n",
       "Specialization                                   36.58\n",
       "How did you hear about X Education               78.46\n",
       "What is your current occupation                  29.11\n",
       "What matters most to you in choosing a course    29.32\n",
       "Search                                            0.00\n",
       "Newspaper Article                                 0.00\n",
       "X Education Forums                                0.00\n",
       "Newspaper                                         0.00\n",
       "Digital Advertisement                             0.00\n",
       "Through Recommendations                           0.00\n",
       "Tags                                             36.29\n",
       "Lead Quality                                     51.59\n",
       "Lead Profile                                     74.19\n",
       "City                                             39.71\n",
       "Asymmetrique Activity Index                      45.65\n",
       "Asymmetrique Profile Index                       45.65\n",
       "Asymmetrique Activity Score                      45.65\n",
       "Asymmetrique Profile Score                       45.65\n",
       "A free copy of Mastering The Interview            0.00\n",
       "Last Notable Activity                             0.00\n",
       "dtype: float64"
      ]
     },
     "execution_count": 9,
     "metadata": {},
     "output_type": "execute_result"
    }
   ],
   "source": [
    "# Checking the percentage of missing values\n",
    "round(100*(df.isnull().sum()/len(df.index)), 2)"
   ]
  },
  {
   "cell_type": "code",
   "execution_count": 10,
   "id": "d3e9fa5d",
   "metadata": {},
   "outputs": [],
   "source": [
    "# Removing columns that have 50% equal or more null values\n",
    "dataf = df.loc[:, round(100*(df.isnull().sum()/len(df.index)), 2) < 50]"
   ]
  },
  {
   "cell_type": "code",
   "execution_count": 11,
   "id": "94414620",
   "metadata": {},
   "outputs": [
    {
     "data": {
      "text/plain": [
       "Lead Number                                       0.00\n",
       "Lead Origin                                       0.00\n",
       "Lead Source                                       0.39\n",
       "Do Not Email                                      0.00\n",
       "Do Not Call                                       0.00\n",
       "Converted                                         0.00\n",
       "TotalVisits                                       1.48\n",
       "Total Time Spent on Website                       0.00\n",
       "Page Views Per Visit                              1.48\n",
       "Last Activity                                     1.11\n",
       "Country                                          26.63\n",
       "Specialization                                   36.58\n",
       "What is your current occupation                  29.11\n",
       "What matters most to you in choosing a course    29.32\n",
       "Search                                            0.00\n",
       "Newspaper Article                                 0.00\n",
       "X Education Forums                                0.00\n",
       "Newspaper                                         0.00\n",
       "Digital Advertisement                             0.00\n",
       "Through Recommendations                           0.00\n",
       "Tags                                             36.29\n",
       "City                                             39.71\n",
       "Asymmetrique Activity Index                      45.65\n",
       "Asymmetrique Profile Index                       45.65\n",
       "Asymmetrique Activity Score                      45.65\n",
       "Asymmetrique Profile Score                       45.65\n",
       "A free copy of Mastering The Interview            0.00\n",
       "Last Notable Activity                             0.00\n",
       "dtype: float64"
      ]
     },
     "execution_count": 11,
     "metadata": {},
     "output_type": "execute_result"
    }
   ],
   "source": [
    "# Checking the percentage of missing values in the new dataframe\n",
    "round(100*(dataf.isnull().sum()/len(dataf.index)), 2)"
   ]
  },
  {
   "cell_type": "markdown",
   "id": "d0f61c52",
   "metadata": {},
   "source": [
    "# Handling null value columns"
   ]
  },
  {
   "cell_type": "code",
   "execution_count": 12,
   "id": "e91760f6",
   "metadata": {},
   "outputs": [
    {
     "data": {
      "image/png": "[encoded data removed]",
      "text/plain": [
       "<Figure size 576x504 with 4 Axes>"
      ]
     },
     "metadata": {
      "needs_background": "light"
     },
     "output_type": "display_data"
    }
   ],
   "source": [
    "# Visualizing these variables-Aysmmetrique Activity Index, Asymmetrique Profile Index, Asymmetrique Activity Score, Asymmetrique Profile Score have highest null percentages\n",
    "fig, axs = plt.subplots(2,2, figsize = (8,7))\n",
    "plot1 = sns.countplot(x = 'Asymmetrique Activity Index', ax = axs[0,0], data=dataf)\n",
    "plot2 = sns.boxplot(x = 'Asymmetrique Activity Score', ax = axs[0,1], data=dataf)\n",
    "plot3 = sns.countplot(x = 'Asymmetrique Profile Index', ax = axs[1,0], data=dataf)\n",
    "plot4 = sns.boxplot(x = 'Asymmetrique Profile Score', ax = axs[1,1], data=dataf)\n",
    "plt.tight_layout()"
   ]
  },
  {
   "cell_type": "code",
   "execution_count": 13,
   "id": "559d971a",
   "metadata": {},
   "outputs": [],
   "source": [
    "# To improve business insights and reduce variation, it is advisable to drop the unnecessary columns from the dataset\n",
    "\n",
    "df = dataf.drop(['Asymmetrique Activity Index',\n",
    "               'Asymmetrique Activity Score',\n",
    "               'Asymmetrique Profile Index',\n",
    "               'Asymmetrique Profile Score'],1)"
   ]
  },
  {
   "cell_type": "markdown",
   "id": "2da828b3",
   "metadata": {},
   "source": [
    "Analyze the columns with the highest null value percentages \n",
    "(City, Specialization, Tags, Country, What matters most to you in choosing a course, What is your current occupation)\n",
    "to determine the appropriate approach for handling the missing values"
   ]
  },
  {
   "cell_type": "code",
   "execution_count": 14,
   "id": "13fc4dca",
   "metadata": {},
   "outputs": [
    {
     "name": "stdout",
     "output_type": "stream",
     "text": [
      "Countplot for City\n"
     ]
    },
    {
     "data": {
      "image/png": "[encoded data removed]",
      "text/plain": [
       "<Figure size 576x288 with 1 Axes>"
      ]
     },
     "metadata": {
      "needs_background": "light"
     },
     "output_type": "display_data"
    },
    {
     "name": "stdout",
     "output_type": "stream",
     "text": [
      "Countplot for Specialization\n"
     ]
    },
    {
     "data": {
      "image/png": "[encoded data removed]",
      "text/plain": [
       "<Figure size 576x288 with 1 Axes>"
      ]
     },
     "metadata": {
      "needs_background": "light"
     },
     "output_type": "display_data"
    },
    {
     "name": "stdout",
     "output_type": "stream",
     "text": [
      "Countplot for Tags\n"
     ]
    },
    {
     "data": {
      "image/png": "[encoded data removed]",
      "text/plain": [
       "<Figure size 576x288 with 1 Axes>"
      ]
     },
     "metadata": {
      "needs_background": "light"
     },
     "output_type": "display_data"
    },
    {
     "name": "stdout",
     "output_type": "stream",
     "text": [
      "Countplot for Country\n"
     ]
    },
    {
     "data": {
      "image/png": "[encoded data removed]",
      "text/plain": [
       "<Figure size 576x288 with 1 Axes>"
      ]
     },
     "metadata": {
      "needs_background": "light"
     },
     "output_type": "display_data"
    },
    {
     "name": "stdout",
     "output_type": "stream",
     "text": [
      "Countplot for What matters most to you in choosing a course\n"
     ]
    },
    {
     "data": {
      "image/png": "[encoded data removed]",
      "text/plain": [
       "<Figure size 576x288 with 1 Axes>"
      ]
     },
     "metadata": {
      "needs_background": "light"
     },
     "output_type": "display_data"
    },
    {
     "name": "stdout",
     "output_type": "stream",
     "text": [
      "Countplot for What is your current occupation\n"
     ]
    },
    {
     "data": {
      "image/png": "[encoded data removed]",
      "text/plain": [
       "<Figure size 576x288 with 1 Axes>"
      ]
     },
     "metadata": {
      "needs_background": "light"
     },
     "output_type": "display_data"
    }
   ],
   "source": [
    "missing_val_col = ['City', 'Specialization', 'Tags', 'Country', 'What matters most to you in choosing a course', \n",
    "                 'What is your current occupation']\n",
    "\n",
    "for col in missing_val_col:\n",
    "    print(\"Countplot for\", col)\n",
    "    plt.rcParams[\"figure.figsize\"] = (8,4)\n",
    "    sns.countplot(x =col, data=df)\n",
    "    xticks(rotation = 90)\n",
    "    plt.show()"
   ]
  },
  {
   "cell_type": "markdown",
   "id": "04475d8c",
   "metadata": {},
   "source": [
    "# Checking Country and City Column for percentage distribution\n",
    "print('Country % distribution') print(round(100(df['Country'].value_counts(normalize=True)),2)) print('------------------------------------------------------') print('City % distribution') print(round(100(df['City'].value_counts(normalize=True)),2))"
   ]
  },
  {
   "cell_type": "code",
   "execution_count": 15,
   "id": "d5dd0628",
   "metadata": {},
   "outputs": [],
   "source": [
    "# Since more than 95% of the data pertains to the country 'India',the remaining countries hold less significance so we can drop the 'country' column.\n",
    "df = df.drop(['Country'], axis=1)\n",
    "\n",
    "# Impute 'Mumbai' for NaN values since it represents around 58% of the total data in the 'city' column\n",
    "df['City'] = df['City'].replace(np.nan, 'Mumbai')\n",
    "\n",
    "# Impute 'Not Provided' for NaN values in the remaining four columns where the data is unavailable\n",
    "df['Specialization'] = df['Specialization'].replace(np.nan, 'Not Provided')\n",
    "df['Tags'] = df['Tags'].replace(np.nan, 'Not Provided')\n",
    "df['What matters most to you in choosing a course'] = df['What matters most to you in choosing a course'].replace(np.nan, 'Not Provided')\n",
    "df['What is your current occupation'] = df['What is your current occupation'].replace(np.nan, 'Not Provided')\n"
   ]
  },
  {
   "cell_type": "code",
   "execution_count": 16,
   "id": "b934ccbd",
   "metadata": {},
   "outputs": [
    {
     "data": {
      "text/plain": [
       "Lead Number                     0.14\n",
       "Converted                       0.47\n",
       "TotalVisits                    19.91\n",
       "Total Time Spent on Website     0.96\n",
       "Page Views Per Visit            2.87\n",
       "dtype: float64"
      ]
     },
     "execution_count": 16,
     "metadata": {},
     "output_type": "execute_result"
    }
   ],
   "source": [
    "# Calculate the skewness of the data using the skew() function\n",
    "round(df.skew(skipna=True),2)"
   ]
  },
  {
   "cell_type": "markdown",
   "id": "dc932fc4",
   "metadata": {},
   "source": [
    "If the skewness is less than -1 or greater than 1, the distribution is highly skewed. \n",
    "In the case of TotalVisits, it is observed that the distribution is highly skewed towards the right, indicating the presence of outliers. \n",
    "Therefore, outlier treatment is necessary during exploratory data analysis (EDA)."
   ]
  },
  {
   "cell_type": "code",
   "execution_count": 17,
   "id": "2b7e042e",
   "metadata": {},
   "outputs": [
    {
     "data": {
      "text/plain": [
       "Lead Number                                      0.00\n",
       "Lead Origin                                      0.00\n",
       "Lead Source                                      0.39\n",
       "Do Not Email                                     0.00\n",
       "Do Not Call                                      0.00\n",
       "Converted                                        0.00\n",
       "TotalVisits                                      1.48\n",
       "Total Time Spent on Website                      0.00\n",
       "Page Views Per Visit                             1.48\n",
       "Last Activity                                    1.11\n",
       "Specialization                                   0.00\n",
       "What is your current occupation                  0.00\n",
       "What matters most to you in choosing a course    0.00\n",
       "Search                                           0.00\n",
       "Newspaper Article                                0.00\n",
       "X Education Forums                               0.00\n",
       "Newspaper                                        0.00\n",
       "Digital Advertisement                            0.00\n",
       "Through Recommendations                          0.00\n",
       "Tags                                             0.00\n",
       "City                                             0.00\n",
       "A free copy of Mastering The Interview           0.00\n",
       "Last Notable Activity                            0.00\n",
       "dtype: float64"
      ]
     },
     "execution_count": 17,
     "metadata": {},
     "output_type": "execute_result"
    }
   ],
   "source": [
    "# Check for null values in all columns after imputing the columns with high null values\n",
    "round(100*(df.isnull().sum()/len(df.index)), 2)"
   ]
  },
  {
   "cell_type": "markdown",
   "id": "1657b3b3",
   "metadata": {},
   "source": [
    "# Exploratory data analysis (EDA)"
   ]
  },
  {
   "cell_type": "markdown",
   "id": "46618146",
   "metadata": {},
   "source": [
    "# Univariate Analysis"
   ]
  },
  {
   "cell_type": "markdown",
   "id": "d6cfbc89",
   "metadata": {},
   "source": [
    "# Categorical Variables"
   ]
  },
  {
   "cell_type": "code",
   "execution_count": 18,
   "id": "bc6a809d",
   "metadata": {},
   "outputs": [
    {
     "name": "stdout",
     "output_type": "stream",
     "text": [
      "<class 'pandas.core.frame.DataFrame'>\n",
      "RangeIndex: 9240 entries, 0 to 9239\n",
      "Data columns (total 23 columns):\n",
      " #   Column                                         Non-Null Count  Dtype  \n",
      "---  ------                                         --------------  -----  \n",
      " 0   Lead Number                                    9240 non-null   int64  \n",
      " 1   Lead Origin                                    9240 non-null   object \n",
      " 2   Lead Source                                    9204 non-null   object \n",
      " 3   Do Not Email                                   9240 non-null   object \n",
      " 4   Do Not Call                                    9240 non-null   object \n",
      " 5   Converted                                      9240 non-null   int64  \n",
      " 6   TotalVisits                                    9103 non-null   float64\n",
      " 7   Total Time Spent on Website                    9240 non-null   int64  \n",
      " 8   Page Views Per Visit                           9103 non-null   float64\n",
      " 9   Last Activity                                  9137 non-null   object \n",
      " 10  Specialization                                 9240 non-null   object \n",
      " 11  What is your current occupation                9240 non-null   object \n",
      " 12  What matters most to you in choosing a course  9240 non-null   object \n",
      " 13  Search                                         9240 non-null   object \n",
      " 14  Newspaper Article                              9240 non-null   object \n",
      " 15  X Education Forums                             9240 non-null   object \n",
      " 16  Newspaper                                      9240 non-null   object \n",
      " 17  Digital Advertisement                          9240 non-null   object \n",
      " 18  Through Recommendations                        9240 non-null   object \n",
      " 19  Tags                                           9240 non-null   object \n",
      " 20  City                                           9240 non-null   object \n",
      " 21  A free copy of Mastering The Interview         9240 non-null   object \n",
      " 22  Last Notable Activity                          9240 non-null   object \n",
      "dtypes: float64(2), int64(3), object(18)\n",
      "memory usage: 1.6+ MB\n"
     ]
    }
   ],
   "source": [
    "df.info()"
   ]
  },
  {
   "cell_type": "code",
   "execution_count": 19,
   "id": "9b3d9598",
   "metadata": {},
   "outputs": [
    {
     "data": {
      "image/png": "[encoded data removed]",
      "text/plain": [
       "<Figure size 1296x792 with 9 Axes>"
      ]
     },
     "metadata": {
      "needs_background": "light"
     },
     "output_type": "display_data"
    }
   ],
   "source": [
    "# Performing analysis on selected categorical columns\n",
    "cat_cols = [ 'Do Not Email', 'Do Not Call',   \n",
    "            'Search', 'Newspaper Article', 'X Education Forums', 'Newspaper', \n",
    "            'Digital Advertisement', 'Through Recommendations',\n",
    "            'A free copy of Mastering The Interview']\n",
    "\n",
    "fig, ax = plt.subplots(3,3, figsize = (18,11))\n",
    "counter=0\n",
    "for i in cat_cols:\n",
    "    trace_x = counter // 3\n",
    "    trace_y = counter % 3\n",
    "    sns.countplot(x=i,ax=ax[trace_x, trace_y], data=df)\n",
    "    counter += 1\n",
    "plt.show()"
   ]
  },
  {
   "cell_type": "code",
   "execution_count": 20,
   "id": "b50b9a59",
   "metadata": {},
   "outputs": [
    {
     "data": {
      "image/png": "[encoded data removed]",
      "text/plain": [
       "<Figure size 432x216 with 1 Axes>"
      ]
     },
     "metadata": {
      "needs_background": "light"
     },
     "output_type": "display_data"
    },
    {
     "data": {
      "image/png": "[encoded data removed]",
      "text/plain": [
       "<Figure size 432x216 with 1 Axes>"
      ]
     },
     "metadata": {
      "needs_background": "light"
     },
     "output_type": "display_data"
    },
    {
     "data": {
      "image/png": "[encoded data removed]",
      "text/plain": [
       "<Figure size 432x216 with 1 Axes>"
      ]
     },
     "metadata": {
      "needs_background": "light"
     },
     "output_type": "display_data"
    },
    {
     "data": {
      "image/png": "[encoded data removed]",
      "text/plain": [
       "<Figure size 432x216 with 1 Axes>"
      ]
     },
     "metadata": {
      "needs_background": "light"
     },
     "output_type": "display_data"
    },
    {
     "data": {
      "image/png": "[encoded data removed]",
      "text/plain": [
       "<Figure size 432x216 with 1 Axes>"
      ]
     },
     "metadata": {
      "needs_background": "light"
     },
     "output_type": "display_data"
    }
   ],
   "source": [
    "# Create a function to plot a countplot\n",
    "def count_plot(column, dataframe):\n",
    "    plt.figure(figsize=(6,3))\n",
    "    sns.countplot(x=column, data=dataframe).tick_params(axis='x', rotation = 90)\n",
    "    plt.title(column)\n",
    "    plt.show()\n",
    "\n",
    "# Analyzing remaining category columns\n",
    "remaining_cat_col = ['Lead Origin', 'Last Activity', 'Last Notable Activity', 'Lead Source', 'Converted']\n",
    "for col in remaining_cat_col:\n",
    "    count_plot(col, df)"
   ]
  },
  {
   "cell_type": "markdown",
   "id": "13157bb6",
   "metadata": {},
   "source": [
    "# Numerical Variables"
   ]
  },
  {
   "cell_type": "code",
   "execution_count": 21,
   "id": "9e057118",
   "metadata": {},
   "outputs": [
    {
     "data": {
      "image/png": "[encoded data removed]",
      "text/plain": [
       "<Figure size 864x216 with 3 Axes>"
      ]
     },
     "metadata": {
      "needs_background": "light"
     },
     "output_type": "display_data"
    }
   ],
   "source": [
    "plt.figure(figsize = (12,3))\n",
    "plt.subplot(131)\n",
    "plt.hist(df['TotalVisits'], bins = 200)\n",
    "plt.title('Total Visits')\n",
    "plt.xlim(0,25)\n",
    "\n",
    "plt.subplot(132)\n",
    "plt.hist(df['Total Time Spent on Website'], bins = 10)\n",
    "plt.title('Total Time Spent on Website')\n",
    "\n",
    "plt.subplot(133)\n",
    "plt.hist(df['Page Views Per Visit'], bins = 20)\n",
    "plt.title('Page Views Per Visit')\n",
    "plt.xlim(0,20)\n",
    "plt.show()\n"
   ]
  },
  {
   "cell_type": "markdown",
   "id": "c63932c5",
   "metadata": {},
   "source": [
    "# Bivariate Analysis"
   ]
  },
  {
   "cell_type": "code",
   "execution_count": 22,
   "id": "8b5942fe",
   "metadata": {},
   "outputs": [
    {
     "data": {
      "image/png": "[encoded data removed]",
      "text/plain": [
       "<Figure size 1440x2880 with 11 Axes>"
      ]
     },
     "metadata": {
      "needs_background": "light"
     },
     "output_type": "display_data"
    }
   ],
   "source": [
    "plt.figure(figsize = (20, 40))\n",
    "\n",
    "# Function to plot upto 12 bivariate countplots\n",
    "def bivariate_countplot(fignum, x_col, hue_col, dataframe):\n",
    "    plt.subplot(6,2,fignum)\n",
    "    sns.countplot(x=x_col, hue=hue_col, data=dataframe).tick_params(axis='x', rotation = 90)\n",
    "    plt.title(x_col)\n",
    "\n",
    "bivariate_countplot(1,'Lead Origin', 'Converted', df)\n",
    "bivariate_countplot(2,'Lead Source', 'Converted', df)\n",
    "bivariate_countplot(3,'Do Not Email', 'Converted', df)\n",
    "bivariate_countplot(4,'Do Not Call', 'Converted', df)\n",
    "bivariate_countplot(5,'Last Activity', 'Converted', df)\n",
    "bivariate_countplot(6,'Specialization', 'Converted', df)\n",
    "bivariate_countplot(7,'What is your current occupation', 'Converted', df)\n",
    "bivariate_countplot(8,'What matters most to you in choosing a course', 'Converted', df)\n",
    "bivariate_countplot(9,'Search', 'Converted', df)\n",
    "bivariate_countplot(10,'Newspaper Article', 'Converted', df)\n",
    "bivariate_countplot(11,'X Education Forums', 'Converted', df)\n",
    "\n",
    "plt.tight_layout()\n",
    "plt.show()"
   ]
  },
  {
   "cell_type": "code",
   "execution_count": 23,
   "id": "9e3b3e29",
   "metadata": {},
   "outputs": [],
   "source": [
    "# Lead Source- nan values can be replaced with Null value\n",
    "df['Lead Source'] = df['Lead Source'].fillna('Null')\n",
    "\n",
    "# As observed from plot above, many lead sources do not contribute much\n",
    "# Replacing all other categories having low or no conversion into other platforms.\n",
    "df['Lead Source'] = df['Lead Source'].replace(['google'], 'Google')\n",
    "df['Lead Source'] = df['Lead Source'].replace([ 'blog', 'Pay per Click Ads', 'bing', 'Social Media', 'WeLearn', \n",
    "                                                  'Click2call', 'Live Chat','welearnblog_Home', 'youtubechannel', 'testone', \n",
    "                                                   'Press_Release', 'NC_EDM','Null'], 'Other_Platforms')"
   ]
  },
  {
   "cell_type": "code",
   "execution_count": 24,
   "id": "5b27f2f8",
   "metadata": {},
   "outputs": [],
   "source": [
    "# These Last Activity the categories are not making significant contributions - \n",
    "# 'Had a Phone Conversation', 'View in browser link Clicked', 'Visited Booth in Tradeshow', 'Approached upfront','Resubscribed to emails','Email Received', 'Email Marked Spam' \n",
    "# So we group them in Other_Activity.\n",
    "\n",
    "df['Last Activity'] = df['Last Activity'].replace(['Had a Phone Conversation', 'View in browser link Clicked', \n",
    "                                                   'Visited Booth in Tradeshow', 'Approached upfront',\n",
    "                                                   'Resubscribed to emails','Email Received', 'Email Marked Spam'], \n",
    "                                                   'Other_Activity')"
   ]
  },
  {
   "cell_type": "code",
   "execution_count": 25,
   "id": "7e6ffaa8",
   "metadata": {},
   "outputs": [],
   "source": [
    "# Conversion rate is higher in 'Will revert after reading the email'.\n",
    "\n",
    "# Let's keep considerable last activities as such and club all others to \"Other_Activity\"\n",
    "df['Tags'] = df['Tags'].replace(['In confusion whether part time or DLP', 'in touch with EINS','Diploma holder (Not Eligible)',\n",
    "                                     'Approached upfront','Graduation in progress','number not provided', 'opp hangup','Still Thinking',\n",
    "                                    'Lost to Others','Shall take in the next coming month','Lateral student','Interested in Next batch',\n",
    "                                    'Recognition issue (DEC approval)','Want to take admission but has financial problems',\n",
    "                                    'University not recognized'], 'Other_Tags')"
   ]
  },
  {
   "cell_type": "code",
   "execution_count": 26,
   "id": "f16367fb",
   "metadata": {},
   "outputs": [],
   "source": [
    "# In Last notable Activity column, We can see that these categories have no value at all - \n",
    "# 'Approached upfront','Resubscribed to emails', 'View in browser link Clicked','Form Submitted on Website', 'Email Received', 'Email Marked Spam' \n",
    "\n",
    "# Let's keep considerable last activities as such and club all others to \"Other_Activity\"\n",
    "df['Last Notable Activity'] = df['Last Notable Activity'].replace(['Approached upfront','Resubscribed to emails', \n",
    "                                                                   'View in browser link Clicked','Form Submitted on Website', \n",
    "                                                                   'Email Received', 'Email Marked Spam'], 'Other_Last_Notable_Activity')"
   ]
  },
  {
   "cell_type": "markdown",
   "id": "0873d02e",
   "metadata": {},
   "source": [
    "# Treating Outliers"
   ]
  },
  {
   "cell_type": "code",
   "execution_count": 27,
   "id": "7a491cb6",
   "metadata": {},
   "outputs": [
    {
     "data": {
      "image/png": "[encoded data removed]",
      "text/plain": [
       "<Figure size 1080x360 with 3 Axes>"
      ]
     },
     "metadata": {
      "needs_background": "light"
     },
     "output_type": "display_data"
    }
   ],
   "source": [
    "cols = ['Total Time Spent on Website', 'Page Views Per Visit','TotalVisits']\n",
    "# Plotting for outliers\n",
    "plt.figure(figsize = (15, 5))\n",
    "for i, col in enumerate(cols):\n",
    "    plt.subplot(1,3, i+1)\n",
    "    sns.boxplot(df[col])\n",
    "plt.show()"
   ]
  },
  {
   "cell_type": "code",
   "execution_count": 28,
   "id": "ec297ba3",
   "metadata": {},
   "outputs": [],
   "source": [
    "# Removing outliers using 1.5 IQR method\n",
    "for col in cols:\n",
    "    q1 = df[col].quantile(0.25)\n",
    "    q3 = df[col].quantile(0.75)\n",
    "\n",
    "    iqr = q3 - q1\n",
    "\n",
    "    lower_bound = q1 -(1.5 * iqr) \n",
    "    upper_bound = q3 +(1.5 * iqr)\n",
    "\n",
    "    df = df.loc[(df[col] >= lower_bound) & (df[col] <= upper_bound)]"
   ]
  },
  {
   "cell_type": "code",
   "execution_count": 29,
   "id": "28fb7d08",
   "metadata": {},
   "outputs": [
    {
     "data": {
      "image/png": "[encoded data removed]",
      "text/plain": [
       "<Figure size 1080x360 with 3 Axes>"
      ]
     },
     "metadata": {
      "needs_background": "light"
     },
     "output_type": "display_data"
    }
   ],
   "source": [
    "# Plotting for outliers\n",
    "plt.figure(figsize = (15, 5))\n",
    "for i, col in enumerate(cols):\n",
    "    plt.subplot(1,3, i+1)\n",
    "    sns.boxplot(df[col])\n",
    "plt.show()"
   ]
  },
  {
   "cell_type": "markdown",
   "id": "731663fb",
   "metadata": {},
   "source": [
    "Based on the analysis and visualization, the columns 'What matters most to you in choosing a course', 'Search', 'Newspaper Article', 'X Education Forums', 'Newspaper', 'Digital Advertisement', 'Through Recommendations', and 'A free copy of Mastering The Interview' are considered irrelevant from a business perspective."
   ]
  },
  {
   "cell_type": "code",
   "execution_count": 30,
   "id": "3974f44a",
   "metadata": {},
   "outputs": [],
   "source": [
    "# We will drop all those columns that are not relevant from our business perspective.\n",
    "\n",
    "new_dataframe= df.copy()\n",
    "new_dataframe= new_dataframe.drop(['What matters most to you in choosing a course','Search','Newspaper Article',\n",
    "                     'X Education Forums','Newspaper','Digital Advertisement','Through Recommendations',\n",
    "                     'A free copy of Mastering The Interview'],1)"
   ]
  },
  {
   "cell_type": "code",
   "execution_count": 31,
   "id": "7a969da9",
   "metadata": {},
   "outputs": [
    {
     "data": {
      "text/plain": [
       "'100 % row is retained after missing value and outliers treatment.'"
      ]
     },
     "execution_count": 31,
     "metadata": {},
     "output_type": "execute_result"
    }
   ],
   "source": [
    "# percentage rows retained\n",
    "f'{round(100 * (new_dataframe.shape[0] / df.shape[0]))} % row is retained after missing value and outliers treatment.'"
   ]
  },
  {
   "cell_type": "code",
   "execution_count": 32,
   "id": "f5a80939",
   "metadata": {},
   "outputs": [
    {
     "data": {
      "image/png": "[encoded data removed]",
      "text/plain": [
       "<Figure size 432x216 with 2 Axes>"
      ]
     },
     "metadata": {
      "needs_background": "light"
     },
     "output_type": "display_data"
    }
   ],
   "source": [
    "# To check the correlation among varibles\n",
    "plt.figure(figsize=(6,3))\n",
    "sns.heatmap(df.corr(), )\n",
    "plt.show()"
   ]
  },
  {
   "cell_type": "markdown",
   "id": "4caba8e4",
   "metadata": {},
   "source": [
    "# Data Preprocessing"
   ]
  },
  {
   "cell_type": "code",
   "execution_count": 33,
   "id": "45224682",
   "metadata": {},
   "outputs": [
    {
     "name": "stdout",
     "output_type": "stream",
     "text": [
      "<class 'pandas.core.frame.DataFrame'>\n",
      "Int64Index: 8474 entries, 0 to 9239\n",
      "Data columns (total 15 columns):\n",
      " #   Column                           Non-Null Count  Dtype  \n",
      "---  ------                           --------------  -----  \n",
      " 0   Lead Number                      8474 non-null   int64  \n",
      " 1   Lead Origin                      8474 non-null   object \n",
      " 2   Lead Source                      8474 non-null   object \n",
      " 3   Do Not Email                     8474 non-null   object \n",
      " 4   Do Not Call                      8474 non-null   object \n",
      " 5   Converted                        8474 non-null   int64  \n",
      " 6   TotalVisits                      8474 non-null   float64\n",
      " 7   Total Time Spent on Website      8474 non-null   int64  \n",
      " 8   Page Views Per Visit             8474 non-null   float64\n",
      " 9   Last Activity                    8474 non-null   object \n",
      " 10  Specialization                   8474 non-null   object \n",
      " 11  What is your current occupation  8474 non-null   object \n",
      " 12  Tags                             8474 non-null   object \n",
      " 13  City                             8474 non-null   object \n",
      " 14  Last Notable Activity            8474 non-null   object \n",
      "dtypes: float64(2), int64(3), object(10)\n",
      "memory usage: 1.0+ MB\n"
     ]
    }
   ],
   "source": [
    "new_dataframe.info()"
   ]
  },
  {
   "cell_type": "markdown",
   "id": "af3c4406",
   "metadata": {},
   "source": [
    "# Creating Dummy Variables"
   ]
  },
  {
   "cell_type": "code",
   "execution_count": 34,
   "id": "198c8255",
   "metadata": {},
   "outputs": [],
   "source": [
    "# converting binary variables Yes/No to 1/0\n",
    "\n",
    "yes_no_col = ['Do Not Email', 'Do Not Call']\n",
    "def binary_map(x):\n",
    "    return x.map({'Yes': 1, \"No\": 0})\n",
    "\n",
    "new_dataframe[yes_no_col] = new_dataframe[yes_no_col].apply(binary_map)"
   ]
  },
  {
   "cell_type": "code",
   "execution_count": 35,
   "id": "107f5b1a",
   "metadata": {},
   "outputs": [],
   "source": [
    "dummy_cols = ['Lead Origin', 'Lead Source', 'Last Activity', 'Specialization',\n",
    "                       'What is your current occupation','Tags', 'City', 'Last Notable Activity']"
   ]
  },
  {
   "cell_type": "code",
   "execution_count": 36,
   "id": "3d5da862",
   "metadata": {},
   "outputs": [
    {
     "data": {
      "text/plain": [
       "(8474, 80)"
      ]
     },
     "execution_count": 36,
     "metadata": {},
     "output_type": "execute_result"
    }
   ],
   "source": [
    "# creating dummy columns\n",
    "dummies = pd.get_dummies(new_dataframe[dummy_cols], drop_first=True)\n",
    "\n",
    "\n",
    "# concat with original data set\n",
    "new_dataframe = pd.concat([new_dataframe,dummies], axis = 1)\n",
    "\n",
    "# dropping the original columns\n",
    "new_dataframe.drop(dummy_cols, axis = 1, inplace = True)\n",
    "new_dataframe.shape"
   ]
  },
  {
   "cell_type": "code",
   "execution_count": 37,
   "id": "c563fbdc",
   "metadata": {},
   "outputs": [],
   "source": [
    "new_dataframe.set_index('Lead Number', inplace = True)"
   ]
  },
  {
   "cell_type": "code",
   "execution_count": 38,
   "id": "245acaf5",
   "metadata": {},
   "outputs": [
    {
     "data": {
      "text/html": [
       "<div>\n",
       "<style scoped>\n",
       "    .dataframe tbody tr th:only-of-type {\n",
       "        vertical-align: middle;\n",
       "    }\n",
       "\n",
       "    .dataframe tbody tr th {\n",
       "        vertical-align: top;\n",
       "    }\n",
       "\n",
       "    .dataframe thead th {\n",
       "        text-align: right;\n",
       "    }\n",
       "</style>\n",
       "<table border=\"1\" class=\"dataframe\">\n",
       "  <thead>\n",
       "    <tr style=\"text-align: right;\">\n",
       "      <th></th>\n",
       "      <th>Do Not Email</th>\n",
       "      <th>Do Not Call</th>\n",
       "      <th>Converted</th>\n",
       "      <th>TotalVisits</th>\n",
       "      <th>Total Time Spent on Website</th>\n",
       "      <th>Page Views Per Visit</th>\n",
       "      <th>Lead Origin_Landing Page Submission</th>\n",
       "      <th>Lead Origin_Lead Add Form</th>\n",
       "      <th>Lead Origin_Lead Import</th>\n",
       "      <th>Lead Source_Facebook</th>\n",
       "      <th>...</th>\n",
       "      <th>Last Notable Activity_Email Link Clicked</th>\n",
       "      <th>Last Notable Activity_Email Opened</th>\n",
       "      <th>Last Notable Activity_Had a Phone Conversation</th>\n",
       "      <th>Last Notable Activity_Modified</th>\n",
       "      <th>Last Notable Activity_Olark Chat Conversation</th>\n",
       "      <th>Last Notable Activity_Other_Last_Notable_Activity</th>\n",
       "      <th>Last Notable Activity_Page Visited on Website</th>\n",
       "      <th>Last Notable Activity_SMS Sent</th>\n",
       "      <th>Last Notable Activity_Unreachable</th>\n",
       "      <th>Last Notable Activity_Unsubscribed</th>\n",
       "    </tr>\n",
       "    <tr>\n",
       "      <th>Lead Number</th>\n",
       "      <th></th>\n",
       "      <th></th>\n",
       "      <th></th>\n",
       "      <th></th>\n",
       "      <th></th>\n",
       "      <th></th>\n",
       "      <th></th>\n",
       "      <th></th>\n",
       "      <th></th>\n",
       "      <th></th>\n",
       "      <th></th>\n",
       "      <th></th>\n",
       "      <th></th>\n",
       "      <th></th>\n",
       "      <th></th>\n",
       "      <th></th>\n",
       "      <th></th>\n",
       "      <th></th>\n",
       "      <th></th>\n",
       "      <th></th>\n",
       "      <th></th>\n",
       "    </tr>\n",
       "  </thead>\n",
       "  <tbody>\n",
       "    <tr>\n",
       "      <th>660737</th>\n",
       "      <td>0</td>\n",
       "      <td>0</td>\n",
       "      <td>0</td>\n",
       "      <td>0.0</td>\n",
       "      <td>0</td>\n",
       "      <td>0.0</td>\n",
       "      <td>0</td>\n",
       "      <td>0</td>\n",
       "      <td>0</td>\n",
       "      <td>0</td>\n",
       "      <td>...</td>\n",
       "      <td>0</td>\n",
       "      <td>0</td>\n",
       "      <td>0</td>\n",
       "      <td>1</td>\n",
       "      <td>0</td>\n",
       "      <td>0</td>\n",
       "      <td>0</td>\n",
       "      <td>0</td>\n",
       "      <td>0</td>\n",
       "      <td>0</td>\n",
       "    </tr>\n",
       "    <tr>\n",
       "      <th>660728</th>\n",
       "      <td>0</td>\n",
       "      <td>0</td>\n",
       "      <td>0</td>\n",
       "      <td>5.0</td>\n",
       "      <td>674</td>\n",
       "      <td>2.5</td>\n",
       "      <td>0</td>\n",
       "      <td>0</td>\n",
       "      <td>0</td>\n",
       "      <td>0</td>\n",
       "      <td>...</td>\n",
       "      <td>0</td>\n",
       "      <td>1</td>\n",
       "      <td>0</td>\n",
       "      <td>0</td>\n",
       "      <td>0</td>\n",
       "      <td>0</td>\n",
       "      <td>0</td>\n",
       "      <td>0</td>\n",
       "      <td>0</td>\n",
       "      <td>0</td>\n",
       "    </tr>\n",
       "    <tr>\n",
       "      <th>660727</th>\n",
       "      <td>0</td>\n",
       "      <td>0</td>\n",
       "      <td>1</td>\n",
       "      <td>2.0</td>\n",
       "      <td>1532</td>\n",
       "      <td>2.0</td>\n",
       "      <td>1</td>\n",
       "      <td>0</td>\n",
       "      <td>0</td>\n",
       "      <td>0</td>\n",
       "      <td>...</td>\n",
       "      <td>0</td>\n",
       "      <td>1</td>\n",
       "      <td>0</td>\n",
       "      <td>0</td>\n",
       "      <td>0</td>\n",
       "      <td>0</td>\n",
       "      <td>0</td>\n",
       "      <td>0</td>\n",
       "      <td>0</td>\n",
       "      <td>0</td>\n",
       "    </tr>\n",
       "    <tr>\n",
       "      <th>660719</th>\n",
       "      <td>0</td>\n",
       "      <td>0</td>\n",
       "      <td>0</td>\n",
       "      <td>1.0</td>\n",
       "      <td>305</td>\n",
       "      <td>1.0</td>\n",
       "      <td>1</td>\n",
       "      <td>0</td>\n",
       "      <td>0</td>\n",
       "      <td>0</td>\n",
       "      <td>...</td>\n",
       "      <td>0</td>\n",
       "      <td>0</td>\n",
       "      <td>0</td>\n",
       "      <td>1</td>\n",
       "      <td>0</td>\n",
       "      <td>0</td>\n",
       "      <td>0</td>\n",
       "      <td>0</td>\n",
       "      <td>0</td>\n",
       "      <td>0</td>\n",
       "    </tr>\n",
       "    <tr>\n",
       "      <th>660681</th>\n",
       "      <td>0</td>\n",
       "      <td>0</td>\n",
       "      <td>1</td>\n",
       "      <td>2.0</td>\n",
       "      <td>1428</td>\n",
       "      <td>1.0</td>\n",
       "      <td>1</td>\n",
       "      <td>0</td>\n",
       "      <td>0</td>\n",
       "      <td>0</td>\n",
       "      <td>...</td>\n",
       "      <td>0</td>\n",
       "      <td>0</td>\n",
       "      <td>0</td>\n",
       "      <td>1</td>\n",
       "      <td>0</td>\n",
       "      <td>0</td>\n",
       "      <td>0</td>\n",
       "      <td>0</td>\n",
       "      <td>0</td>\n",
       "      <td>0</td>\n",
       "    </tr>\n",
       "  </tbody>\n",
       "</table>\n",
       "<p>5 rows × 79 columns</p>\n",
       "</div>"
      ],
      "text/plain": [
       "             Do Not Email  Do Not Call  Converted  TotalVisits  \\\n",
       "Lead Number                                                      \n",
       "660737                  0            0          0          0.0   \n",
       "660728                  0            0          0          5.0   \n",
       "660727                  0            0          1          2.0   \n",
       "660719                  0            0          0          1.0   \n",
       "660681                  0            0          1          2.0   \n",
       "\n",
       "             Total Time Spent on Website  Page Views Per Visit  \\\n",
       "Lead Number                                                      \n",
       "660737                                 0                   0.0   \n",
       "660728                               674                   2.5   \n",
       "660727                              1532                   2.0   \n",
       "660719                               305                   1.0   \n",
       "660681                              1428                   1.0   \n",
       "\n",
       "             Lead Origin_Landing Page Submission  Lead Origin_Lead Add Form  \\\n",
       "Lead Number                                                                   \n",
       "660737                                         0                          0   \n",
       "660728                                         0                          0   \n",
       "660727                                         1                          0   \n",
       "660719                                         1                          0   \n",
       "660681                                         1                          0   \n",
       "\n",
       "             Lead Origin_Lead Import  Lead Source_Facebook  ...  \\\n",
       "Lead Number                                                 ...   \n",
       "660737                             0                     0  ...   \n",
       "660728                             0                     0  ...   \n",
       "660727                             0                     0  ...   \n",
       "660719                             0                     0  ...   \n",
       "660681                             0                     0  ...   \n",
       "\n",
       "             Last Notable Activity_Email Link Clicked  \\\n",
       "Lead Number                                             \n",
       "660737                                              0   \n",
       "660728                                              0   \n",
       "660727                                              0   \n",
       "660719                                              0   \n",
       "660681                                              0   \n",
       "\n",
       "             Last Notable Activity_Email Opened  \\\n",
       "Lead Number                                       \n",
       "660737                                        0   \n",
       "660728                                        1   \n",
       "660727                                        1   \n",
       "660719                                        0   \n",
       "660681                                        0   \n",
       "\n",
       "             Last Notable Activity_Had a Phone Conversation  \\\n",
       "Lead Number                                                   \n",
       "660737                                                    0   \n",
       "660728                                                    0   \n",
       "660727                                                    0   \n",
       "660719                                                    0   \n",
       "660681                                                    0   \n",
       "\n",
       "             Last Notable Activity_Modified  \\\n",
       "Lead Number                                   \n",
       "660737                                    1   \n",
       "660728                                    0   \n",
       "660727                                    0   \n",
       "660719                                    1   \n",
       "660681                                    1   \n",
       "\n",
       "             Last Notable Activity_Olark Chat Conversation  \\\n",
       "Lead Number                                                  \n",
       "660737                                                   0   \n",
       "660728                                                   0   \n",
       "660727                                                   0   \n",
       "660719                                                   0   \n",
       "660681                                                   0   \n",
       "\n",
       "             Last Notable Activity_Other_Last_Notable_Activity  \\\n",
       "Lead Number                                                      \n",
       "660737                                                       0   \n",
       "660728                                                       0   \n",
       "660727                                                       0   \n",
       "660719                                                       0   \n",
       "660681                                                       0   \n",
       "\n",
       "             Last Notable Activity_Page Visited on Website  \\\n",
       "Lead Number                                                  \n",
       "660737                                                   0   \n",
       "660728                                                   0   \n",
       "660727                                                   0   \n",
       "660719                                                   0   \n",
       "660681                                                   0   \n",
       "\n",
       "             Last Notable Activity_SMS Sent  \\\n",
       "Lead Number                                   \n",
       "660737                                    0   \n",
       "660728                                    0   \n",
       "660727                                    0   \n",
       "660719                                    0   \n",
       "660681                                    0   \n",
       "\n",
       "             Last Notable Activity_Unreachable  \\\n",
       "Lead Number                                      \n",
       "660737                                       0   \n",
       "660728                                       0   \n",
       "660727                                       0   \n",
       "660719                                       0   \n",
       "660681                                       0   \n",
       "\n",
       "             Last Notable Activity_Unsubscribed  \n",
       "Lead Number                                      \n",
       "660737                                        0  \n",
       "660728                                        0  \n",
       "660727                                        0  \n",
       "660719                                        0  \n",
       "660681                                        0  \n",
       "\n",
       "[5 rows x 79 columns]"
      ]
     },
     "execution_count": 38,
     "metadata": {},
     "output_type": "execute_result"
    }
   ],
   "source": [
    "new_dataframe.head()"
   ]
  },
  {
   "cell_type": "code",
   "execution_count": 39,
   "id": "14d94b5e",
   "metadata": {},
   "outputs": [],
   "source": [
    "# Putting feature variable to X\n",
    "X = new_dataframe.drop(['Converted'], axis=1)\n",
    "\n",
    "# storing response variable to y\n",
    "y = new_dataframe['Converted']\n",
    "\n",
    "# Splitting the data into train and test\n",
    "X_train, X_test, y_train, y_test = train_test_split(X, y, train_size=0.7, test_size=0.3, random_state=100)"
   ]
  },
  {
   "cell_type": "code",
   "execution_count": 40,
   "id": "6f17f264",
   "metadata": {},
   "outputs": [],
   "source": [
    "# Scaling for continuous variables:\n",
    "\n",
    "scaler = StandardScaler()\n",
    "\n",
    "X_train[['Total Time Spent on Website', 'Page Views Per Visit','TotalVisits']] = scaler.fit_transform(X_train[['Total Time Spent on Website', 'Page Views Per Visit',\n",
    "                                                                                                               'TotalVisits']])"
   ]
  },
  {
   "cell_type": "code",
   "execution_count": 41,
   "id": "5bc98cde",
   "metadata": {},
   "outputs": [
    {
     "data": {
      "text/plain": [
       "37.65636063252301"
      ]
     },
     "execution_count": 41,
     "metadata": {},
     "output_type": "execute_result"
    }
   ],
   "source": [
    "# Checking the conversion rate\n",
    "conversion_rate = (sum(new_dataframe['Converted'])/len(new_dataframe['Converted'].index))*100\n",
    "conversion_rate"
   ]
  },
  {
   "cell_type": "markdown",
   "id": "6322a229",
   "metadata": {},
   "source": [
    "The current conversion rate of around 38% suggests a dataset that is neither heavily imbalanced nor balanced, thus requiring no special treatment."
   ]
  },
  {
   "cell_type": "markdown",
   "id": "f353ce14",
   "metadata": {},
   "source": [
    "# Model Building"
   ]
  },
  {
   "cell_type": "code",
   "execution_count": 42,
   "id": "edb1fbcc",
   "metadata": {},
   "outputs": [
    {
     "data": {
      "text/html": [
       "<table class=\"simpletable\">\n",
       "<caption>Generalized Linear Model Regression Results</caption>\n",
       "<tr>\n",
       "  <th>Dep. Variable:</th>       <td>Converted</td>    <th>  No. Observations:  </th>  <td>  5931</td> \n",
       "</tr>\n",
       "<tr>\n",
       "  <th>Model:</th>                  <td>GLM</td>       <th>  Df Residuals:      </th>  <td>  5852</td> \n",
       "</tr>\n",
       "<tr>\n",
       "  <th>Model Family:</th>        <td>Binomial</td>     <th>  Df Model:          </th>  <td>    78</td> \n",
       "</tr>\n",
       "<tr>\n",
       "  <th>Link Function:</th>         <td>Logit</td>      <th>  Scale:             </th> <td>  1.0000</td>\n",
       "</tr>\n",
       "<tr>\n",
       "  <th>Method:</th>                <td>IRLS</td>       <th>  Log-Likelihood:    </th> <td> -961.99</td>\n",
       "</tr>\n",
       "<tr>\n",
       "  <th>Date:</th>            <td>Fri, 02 Jun 2023</td> <th>  Deviance:          </th> <td>  1924.0</td>\n",
       "</tr>\n",
       "<tr>\n",
       "  <th>Time:</th>                <td>11:31:30</td>     <th>  Pearson chi2:      </th> <td>1.17e+04</td>\n",
       "</tr>\n",
       "<tr>\n",
       "  <th>No. Iterations:</th>         <td>23</td>        <th>  Pseudo R-squ. (CS):</th>  <td>0.6319</td> \n",
       "</tr>\n",
       "<tr>\n",
       "  <th>Covariance Type:</th>     <td>nonrobust</td>    <th>                     </th>     <td> </td>   \n",
       "</tr>\n",
       "</table>\n",
       "<table class=\"simpletable\">\n",
       "<tr>\n",
       "                            <td></td>                              <th>coef</th>     <th>std err</th>      <th>z</th>      <th>P>|z|</th>  <th>[0.025</th>    <th>0.975]</th>  \n",
       "</tr>\n",
       "<tr>\n",
       "  <th>const</th>                                                <td>   -5.9634</td> <td>    2.447</td> <td>   -2.437</td> <td> 0.015</td> <td>  -10.759</td> <td>   -1.167</td>\n",
       "</tr>\n",
       "<tr>\n",
       "  <th>Do Not Email</th>                                         <td>   -1.4124</td> <td>    0.364</td> <td>   -3.880</td> <td> 0.000</td> <td>   -2.126</td> <td>   -0.699</td>\n",
       "</tr>\n",
       "<tr>\n",
       "  <th>Do Not Call</th>                                          <td>   19.8527</td> <td> 1.31e+05</td> <td>    0.000</td> <td> 1.000</td> <td>-2.57e+05</td> <td> 2.57e+05</td>\n",
       "</tr>\n",
       "<tr>\n",
       "  <th>TotalVisits</th>                                          <td>    0.1044</td> <td>    0.101</td> <td>    1.033</td> <td> 0.301</td> <td>   -0.094</td> <td>    0.302</td>\n",
       "</tr>\n",
       "<tr>\n",
       "  <th>Total Time Spent on Website</th>                          <td>    1.0723</td> <td>    0.072</td> <td>   14.877</td> <td> 0.000</td> <td>    0.931</td> <td>    1.214</td>\n",
       "</tr>\n",
       "<tr>\n",
       "  <th>Page Views Per Visit</th>                                 <td>   -0.1281</td> <td>    0.116</td> <td>   -1.108</td> <td> 0.268</td> <td>   -0.354</td> <td>    0.098</td>\n",
       "</tr>\n",
       "<tr>\n",
       "  <th>Lead Origin_Landing Page Submission</th>                  <td>   -0.3435</td> <td>    0.264</td> <td>   -1.303</td> <td> 0.193</td> <td>   -0.860</td> <td>    0.173</td>\n",
       "</tr>\n",
       "<tr>\n",
       "  <th>Lead Origin_Lead Add Form</th>                            <td>    0.7068</td> <td>    1.232</td> <td>    0.574</td> <td> 0.566</td> <td>   -1.708</td> <td>    3.122</td>\n",
       "</tr>\n",
       "<tr>\n",
       "  <th>Lead Origin_Lead Import</th>                              <td>    1.6554</td> <td>    1.738</td> <td>    0.952</td> <td> 0.341</td> <td>   -1.752</td> <td>    5.062</td>\n",
       "</tr>\n",
       "<tr>\n",
       "  <th>Lead Source_Facebook</th>                                 <td>   -1.5439</td> <td>    1.729</td> <td>   -0.893</td> <td> 0.372</td> <td>   -4.932</td> <td>    1.844</td>\n",
       "</tr>\n",
       "<tr>\n",
       "  <th>Lead Source_Google</th>                                   <td>    0.0791</td> <td>    0.183</td> <td>    0.433</td> <td> 0.665</td> <td>   -0.279</td> <td>    0.437</td>\n",
       "</tr>\n",
       "<tr>\n",
       "  <th>Lead Source_Olark Chat</th>                               <td>    1.0364</td> <td>    0.278</td> <td>    3.724</td> <td> 0.000</td> <td>    0.491</td> <td>    1.582</td>\n",
       "</tr>\n",
       "<tr>\n",
       "  <th>Lead Source_Organic Search</th>                           <td>    0.3238</td> <td>    0.251</td> <td>    1.290</td> <td> 0.197</td> <td>   -0.168</td> <td>    0.816</td>\n",
       "</tr>\n",
       "<tr>\n",
       "  <th>Lead Source_Other_Platforms</th>                          <td>    1.5816</td> <td>    0.902</td> <td>    1.754</td> <td> 0.080</td> <td>   -0.186</td> <td>    3.349</td>\n",
       "</tr>\n",
       "<tr>\n",
       "  <th>Lead Source_Reference</th>                                <td>    1.0838</td> <td>    1.321</td> <td>    0.821</td> <td> 0.412</td> <td>   -1.505</td> <td>    3.672</td>\n",
       "</tr>\n",
       "<tr>\n",
       "  <th>Lead Source_Referral Sites</th>                           <td>    0.5885</td> <td>    0.542</td> <td>    1.086</td> <td> 0.277</td> <td>   -0.473</td> <td>    1.650</td>\n",
       "</tr>\n",
       "<tr>\n",
       "  <th>Lead Source_Welingak Website</th>                         <td>    3.4447</td> <td>    1.595</td> <td>    2.159</td> <td> 0.031</td> <td>    0.318</td> <td>    6.571</td>\n",
       "</tr>\n",
       "<tr>\n",
       "  <th>Last Activity_Email Bounced</th>                          <td>   -1.0228</td> <td>    0.975</td> <td>   -1.049</td> <td> 0.294</td> <td>   -2.933</td> <td>    0.888</td>\n",
       "</tr>\n",
       "<tr>\n",
       "  <th>Last Activity_Email Link Clicked</th>                     <td>    1.1357</td> <td>    0.719</td> <td>    1.579</td> <td> 0.114</td> <td>   -0.274</td> <td>    2.546</td>\n",
       "</tr>\n",
       "<tr>\n",
       "  <th>Last Activity_Email Opened</th>                           <td>    0.7192</td> <td>    0.445</td> <td>    1.617</td> <td> 0.106</td> <td>   -0.152</td> <td>    1.591</td>\n",
       "</tr>\n",
       "<tr>\n",
       "  <th>Last Activity_Form Submitted on Website</th>              <td>    0.6673</td> <td>    0.629</td> <td>    1.061</td> <td> 0.289</td> <td>   -0.565</td> <td>    1.900</td>\n",
       "</tr>\n",
       "<tr>\n",
       "  <th>Last Activity_Olark Chat Conversation</th>                <td>   -0.2964</td> <td>    0.462</td> <td>   -0.642</td> <td> 0.521</td> <td>   -1.202</td> <td>    0.609</td>\n",
       "</tr>\n",
       "<tr>\n",
       "  <th>Last Activity_Other_Activity</th>                         <td>   -0.9349</td> <td>    1.286</td> <td>   -0.727</td> <td> 0.467</td> <td>   -3.456</td> <td>    1.586</td>\n",
       "</tr>\n",
       "<tr>\n",
       "  <th>Last Activity_Page Visited on Website</th>                <td>    0.4389</td> <td>    0.557</td> <td>    0.788</td> <td> 0.431</td> <td>   -0.653</td> <td>    1.531</td>\n",
       "</tr>\n",
       "<tr>\n",
       "  <th>Last Activity_SMS Sent</th>                               <td>    1.8422</td> <td>    0.422</td> <td>    4.367</td> <td> 0.000</td> <td>    1.015</td> <td>    2.669</td>\n",
       "</tr>\n",
       "<tr>\n",
       "  <th>Last Activity_Unreachable</th>                            <td>    0.7506</td> <td>    1.215</td> <td>    0.618</td> <td> 0.537</td> <td>   -1.631</td> <td>    3.132</td>\n",
       "</tr>\n",
       "<tr>\n",
       "  <th>Last Activity_Unsubscribed</th>                           <td>  -16.9280</td> <td>  3.9e+04</td> <td>   -0.000</td> <td> 1.000</td> <td>-7.64e+04</td> <td> 7.63e+04</td>\n",
       "</tr>\n",
       "<tr>\n",
       "  <th>Specialization_Business Administration</th>               <td>   -0.4579</td> <td>    0.469</td> <td>   -0.977</td> <td> 0.329</td> <td>   -1.377</td> <td>    0.461</td>\n",
       "</tr>\n",
       "<tr>\n",
       "  <th>Specialization_E-Business</th>                            <td>   -0.5063</td> <td>    0.694</td> <td>   -0.730</td> <td> 0.466</td> <td>   -1.866</td> <td>    0.853</td>\n",
       "</tr>\n",
       "<tr>\n",
       "  <th>Specialization_E-COMMERCE</th>                            <td>    0.1804</td> <td>    0.628</td> <td>    0.287</td> <td> 0.774</td> <td>   -1.050</td> <td>    1.410</td>\n",
       "</tr>\n",
       "<tr>\n",
       "  <th>Specialization_Finance Management</th>                    <td>   -0.6867</td> <td>    0.403</td> <td>   -1.704</td> <td> 0.088</td> <td>   -1.477</td> <td>    0.103</td>\n",
       "</tr>\n",
       "<tr>\n",
       "  <th>Specialization_Healthcare Management</th>                 <td>   -0.5177</td> <td>    0.624</td> <td>   -0.830</td> <td> 0.407</td> <td>   -1.741</td> <td>    0.705</td>\n",
       "</tr>\n",
       "<tr>\n",
       "  <th>Specialization_Hospitality Management</th>                <td>   -0.9334</td> <td>    0.672</td> <td>   -1.390</td> <td> 0.165</td> <td>   -2.250</td> <td>    0.383</td>\n",
       "</tr>\n",
       "<tr>\n",
       "  <th>Specialization_Human Resource Management</th>             <td>   -0.3360</td> <td>    0.399</td> <td>   -0.842</td> <td> 0.400</td> <td>   -1.118</td> <td>    0.446</td>\n",
       "</tr>\n",
       "<tr>\n",
       "  <th>Specialization_IT Projects Management</th>                <td>   -0.2508</td> <td>    0.496</td> <td>   -0.506</td> <td> 0.613</td> <td>   -1.223</td> <td>    0.721</td>\n",
       "</tr>\n",
       "<tr>\n",
       "  <th>Specialization_International Business</th>                <td>   -0.7088</td> <td>    0.548</td> <td>   -1.292</td> <td> 0.196</td> <td>   -1.784</td> <td>    0.366</td>\n",
       "</tr>\n",
       "<tr>\n",
       "  <th>Specialization_Marketing Management</th>                  <td>   -0.1820</td> <td>    0.405</td> <td>   -0.449</td> <td> 0.653</td> <td>   -0.976</td> <td>    0.612</td>\n",
       "</tr>\n",
       "<tr>\n",
       "  <th>Specialization_Media and Advertising</th>                 <td>   -0.6056</td> <td>    0.608</td> <td>   -0.997</td> <td> 0.319</td> <td>   -1.796</td> <td>    0.585</td>\n",
       "</tr>\n",
       "<tr>\n",
       "  <th>Specialization_Not Provided</th>                          <td>   -0.4442</td> <td>    0.419</td> <td>   -1.061</td> <td> 0.289</td> <td>   -1.264</td> <td>    0.376</td>\n",
       "</tr>\n",
       "<tr>\n",
       "  <th>Specialization_Operations Management</th>                 <td>   -0.3746</td> <td>    0.438</td> <td>   -0.855</td> <td> 0.392</td> <td>   -1.233</td> <td>    0.484</td>\n",
       "</tr>\n",
       "<tr>\n",
       "  <th>Specialization_Retail Management</th>                     <td>   -0.4289</td> <td>    0.691</td> <td>   -0.621</td> <td> 0.535</td> <td>   -1.782</td> <td>    0.925</td>\n",
       "</tr>\n",
       "<tr>\n",
       "  <th>Specialization_Rural and Agribusiness</th>                <td>   -0.1017</td> <td>    0.928</td> <td>   -0.109</td> <td> 0.913</td> <td>   -1.921</td> <td>    1.718</td>\n",
       "</tr>\n",
       "<tr>\n",
       "  <th>Specialization_Services Excellence</th>                   <td>    0.6765</td> <td>    0.899</td> <td>    0.752</td> <td> 0.452</td> <td>   -1.086</td> <td>    2.439</td>\n",
       "</tr>\n",
       "<tr>\n",
       "  <th>Specialization_Supply Chain Management</th>               <td>   -1.1992</td> <td>    0.511</td> <td>   -2.348</td> <td> 0.019</td> <td>   -2.200</td> <td>   -0.198</td>\n",
       "</tr>\n",
       "<tr>\n",
       "  <th>Specialization_Travel and Tourism</th>                    <td>   -0.8373</td> <td>    0.610</td> <td>   -1.372</td> <td> 0.170</td> <td>   -2.033</td> <td>    0.359</td>\n",
       "</tr>\n",
       "<tr>\n",
       "  <th>What is your current occupation_Housewife</th>            <td>   24.5562</td> <td> 4.91e+04</td> <td>    0.001</td> <td> 1.000</td> <td>-9.62e+04</td> <td> 9.63e+04</td>\n",
       "</tr>\n",
       "<tr>\n",
       "  <th>What is your current occupation_Not Provided</th>         <td>    1.1073</td> <td>    2.062</td> <td>    0.537</td> <td> 0.591</td> <td>   -2.934</td> <td>    5.148</td>\n",
       "</tr>\n",
       "<tr>\n",
       "  <th>What is your current occupation_Other</th>                <td>    3.6300</td> <td>    2.617</td> <td>    1.387</td> <td> 0.165</td> <td>   -1.500</td> <td>    8.760</td>\n",
       "</tr>\n",
       "<tr>\n",
       "  <th>What is your current occupation_Student</th>              <td>    3.5075</td> <td>    2.147</td> <td>    1.634</td> <td> 0.102</td> <td>   -0.700</td> <td>    7.715</td>\n",
       "</tr>\n",
       "<tr>\n",
       "  <th>What is your current occupation_Unemployed</th>           <td>    3.4885</td> <td>    2.056</td> <td>    1.697</td> <td> 0.090</td> <td>   -0.542</td> <td>    7.519</td>\n",
       "</tr>\n",
       "<tr>\n",
       "  <th>What is your current occupation_Working Professional</th> <td>    3.5227</td> <td>    2.076</td> <td>    1.697</td> <td> 0.090</td> <td>   -0.546</td> <td>    7.592</td>\n",
       "</tr>\n",
       "<tr>\n",
       "  <th>Tags_Busy</th>                                            <td>    3.6969</td> <td>    0.668</td> <td>    5.536</td> <td> 0.000</td> <td>    2.388</td> <td>    5.006</td>\n",
       "</tr>\n",
       "<tr>\n",
       "  <th>Tags_Closed by Horizzon</th>                              <td>    9.8544</td> <td>    1.214</td> <td>    8.118</td> <td> 0.000</td> <td>    7.475</td> <td>   12.234</td>\n",
       "</tr>\n",
       "<tr>\n",
       "  <th>Tags_Interested  in full time MBA</th>                    <td>    1.0228</td> <td>    0.967</td> <td>    1.057</td> <td> 0.290</td> <td>   -0.873</td> <td>    2.919</td>\n",
       "</tr>\n",
       "<tr>\n",
       "  <th>Tags_Interested in other courses</th>                     <td>    0.3461</td> <td>    0.791</td> <td>    0.437</td> <td> 0.662</td> <td>   -1.205</td> <td>    1.897</td>\n",
       "</tr>\n",
       "<tr>\n",
       "  <th>Tags_Lost to EINS</th>                                    <td>    9.3912</td> <td>    0.890</td> <td>   10.547</td> <td> 0.000</td> <td>    7.646</td> <td>   11.136</td>\n",
       "</tr>\n",
       "<tr>\n",
       "  <th>Tags_Not Provided</th>                                    <td>    4.5895</td> <td>    0.633</td> <td>    7.253</td> <td> 0.000</td> <td>    3.349</td> <td>    5.830</td>\n",
       "</tr>\n",
       "<tr>\n",
       "  <th>Tags_Not doing further education</th>                     <td>    0.6057</td> <td>    1.197</td> <td>    0.506</td> <td> 0.613</td> <td>   -1.740</td> <td>    2.952</td>\n",
       "</tr>\n",
       "<tr>\n",
       "  <th>Tags_Other_Tags</th>                                      <td>    1.2156</td> <td>    0.710</td> <td>    1.712</td> <td> 0.087</td> <td>   -0.176</td> <td>    2.607</td>\n",
       "</tr>\n",
       "<tr>\n",
       "  <th>Tags_Ringing</th>                                         <td>   -0.9220</td> <td>    0.681</td> <td>   -1.355</td> <td> 0.176</td> <td>   -2.256</td> <td>    0.412</td>\n",
       "</tr>\n",
       "<tr>\n",
       "  <th>Tags_Will revert after reading the email</th>             <td>    7.4954</td> <td>    0.652</td> <td>   11.491</td> <td> 0.000</td> <td>    6.217</td> <td>    8.774</td>\n",
       "</tr>\n",
       "<tr>\n",
       "  <th>Tags_invalid number</th>                                  <td>   -0.7994</td> <td>    1.340</td> <td>   -0.597</td> <td> 0.551</td> <td>   -3.425</td> <td>    1.827</td>\n",
       "</tr>\n",
       "<tr>\n",
       "  <th>Tags_switched off</th>                                    <td>   -1.2501</td> <td>    0.974</td> <td>   -1.283</td> <td> 0.199</td> <td>   -3.159</td> <td>    0.659</td>\n",
       "</tr>\n",
       "<tr>\n",
       "  <th>Tags_wrong number given</th>                              <td>  -21.4718</td> <td> 2.11e+04</td> <td>   -0.001</td> <td> 0.999</td> <td>-4.13e+04</td> <td> 4.13e+04</td>\n",
       "</tr>\n",
       "<tr>\n",
       "  <th>City_Other Cities</th>                                    <td>   -0.1887</td> <td>    0.260</td> <td>   -0.725</td> <td> 0.468</td> <td>   -0.699</td> <td>    0.321</td>\n",
       "</tr>\n",
       "<tr>\n",
       "  <th>City_Other Cities of Maharashtra</th>                     <td>   -0.3568</td> <td>    0.308</td> <td>   -1.160</td> <td> 0.246</td> <td>   -0.960</td> <td>    0.246</td>\n",
       "</tr>\n",
       "<tr>\n",
       "  <th>City_Other Metro Cities</th>                              <td>    0.0188</td> <td>    0.372</td> <td>    0.051</td> <td> 0.960</td> <td>   -0.710</td> <td>    0.748</td>\n",
       "</tr>\n",
       "<tr>\n",
       "  <th>City_Thane & Outskirts</th>                               <td>    0.0239</td> <td>    0.258</td> <td>    0.093</td> <td> 0.926</td> <td>   -0.481</td> <td>    0.529</td>\n",
       "</tr>\n",
       "<tr>\n",
       "  <th>City_Tier II Cities</th>                                  <td>    0.0281</td> <td>    0.733</td> <td>    0.038</td> <td> 0.969</td> <td>   -1.408</td> <td>    1.464</td>\n",
       "</tr>\n",
       "<tr>\n",
       "  <th>Last Notable Activity_Email Link Clicked</th>             <td>   -3.7243</td> <td>    1.319</td> <td>   -2.823</td> <td> 0.005</td> <td>   -6.310</td> <td>   -1.139</td>\n",
       "</tr>\n",
       "<tr>\n",
       "  <th>Last Notable Activity_Email Opened</th>                   <td>   -2.2662</td> <td>    1.099</td> <td>   -2.062</td> <td> 0.039</td> <td>   -4.420</td> <td>   -0.112</td>\n",
       "</tr>\n",
       "<tr>\n",
       "  <th>Last Notable Activity_Had a Phone Conversation</th>       <td>   -0.9432</td> <td>    3.731</td> <td>   -0.253</td> <td> 0.800</td> <td>   -8.256</td> <td>    6.369</td>\n",
       "</tr>\n",
       "<tr>\n",
       "  <th>Last Notable Activity_Modified</th>                       <td>   -3.1401</td> <td>    1.065</td> <td>   -2.949</td> <td> 0.003</td> <td>   -5.227</td> <td>   -1.053</td>\n",
       "</tr>\n",
       "<tr>\n",
       "  <th>Last Notable Activity_Olark Chat Conversation</th>        <td>   -3.3116</td> <td>    1.209</td> <td>   -2.740</td> <td> 0.006</td> <td>   -5.681</td> <td>   -0.942</td>\n",
       "</tr>\n",
       "<tr>\n",
       "  <th>Last Notable Activity_Other_Last_Notable_Activity</th>    <td>   -1.3714</td> <td>    2.300</td> <td>   -0.596</td> <td> 0.551</td> <td>   -5.879</td> <td>    3.136</td>\n",
       "</tr>\n",
       "<tr>\n",
       "  <th>Last Notable Activity_Page Visited on Website</th>        <td>   -2.0275</td> <td>    1.187</td> <td>   -1.709</td> <td> 0.088</td> <td>   -4.353</td> <td>    0.298</td>\n",
       "</tr>\n",
       "<tr>\n",
       "  <th>Last Notable Activity_SMS Sent</th>                       <td>   -1.0463</td> <td>    1.091</td> <td>   -0.959</td> <td> 0.337</td> <td>   -3.184</td> <td>    1.091</td>\n",
       "</tr>\n",
       "<tr>\n",
       "  <th>Last Notable Activity_Unreachable</th>                    <td>   -1.0250</td> <td>    1.752</td> <td>   -0.585</td> <td> 0.558</td> <td>   -4.459</td> <td>    2.408</td>\n",
       "</tr>\n",
       "<tr>\n",
       "  <th>Last Notable Activity_Unsubscribed</th>                   <td>   16.7826</td> <td>  3.9e+04</td> <td>    0.000</td> <td> 1.000</td> <td>-7.63e+04</td> <td> 7.64e+04</td>\n",
       "</tr>\n",
       "</table>"
      ],
      "text/plain": [
       "<class 'statsmodels.iolib.summary.Summary'>\n",
       "\"\"\"\n",
       "                 Generalized Linear Model Regression Results                  \n",
       "==============================================================================\n",
       "Dep. Variable:              Converted   No. Observations:                 5931\n",
       "Model:                            GLM   Df Residuals:                     5852\n",
       "Model Family:                Binomial   Df Model:                           78\n",
       "Link Function:                  Logit   Scale:                          1.0000\n",
       "Method:                          IRLS   Log-Likelihood:                -961.99\n",
       "Date:                Fri, 02 Jun 2023   Deviance:                       1924.0\n",
       "Time:                        11:31:30   Pearson chi2:                 1.17e+04\n",
       "No. Iterations:                    23   Pseudo R-squ. (CS):             0.6319\n",
       "Covariance Type:            nonrobust                                         \n",
       "========================================================================================================================\n",
       "                                                           coef    std err          z      P>|z|      [0.025      0.975]\n",
       "------------------------------------------------------------------------------------------------------------------------\n",
       "const                                                   -5.9634      2.447     -2.437      0.015     -10.759      -1.167\n",
       "Do Not Email                                            -1.4124      0.364     -3.880      0.000      -2.126      -0.699\n",
       "Do Not Call                                             19.8527   1.31e+05      0.000      1.000   -2.57e+05    2.57e+05\n",
       "TotalVisits                                              0.1044      0.101      1.033      0.301      -0.094       0.302\n",
       "Total Time Spent on Website                              1.0723      0.072     14.877      0.000       0.931       1.214\n",
       "Page Views Per Visit                                    -0.1281      0.116     -1.108      0.268      -0.354       0.098\n",
       "Lead Origin_Landing Page Submission                     -0.3435      0.264     -1.303      0.193      -0.860       0.173\n",
       "Lead Origin_Lead Add Form                                0.7068      1.232      0.574      0.566      -1.708       3.122\n",
       "Lead Origin_Lead Import                                  1.6554      1.738      0.952      0.341      -1.752       5.062\n",
       "Lead Source_Facebook                                    -1.5439      1.729     -0.893      0.372      -4.932       1.844\n",
       "Lead Source_Google                                       0.0791      0.183      0.433      0.665      -0.279       0.437\n",
       "Lead Source_Olark Chat                                   1.0364      0.278      3.724      0.000       0.491       1.582\n",
       "Lead Source_Organic Search                               0.3238      0.251      1.290      0.197      -0.168       0.816\n",
       "Lead Source_Other_Platforms                              1.5816      0.902      1.754      0.080      -0.186       3.349\n",
       "Lead Source_Reference                                    1.0838      1.321      0.821      0.412      -1.505       3.672\n",
       "Lead Source_Referral Sites                               0.5885      0.542      1.086      0.277      -0.473       1.650\n",
       "Lead Source_Welingak Website                             3.4447      1.595      2.159      0.031       0.318       6.571\n",
       "Last Activity_Email Bounced                             -1.0228      0.975     -1.049      0.294      -2.933       0.888\n",
       "Last Activity_Email Link Clicked                         1.1357      0.719      1.579      0.114      -0.274       2.546\n",
       "Last Activity_Email Opened                               0.7192      0.445      1.617      0.106      -0.152       1.591\n",
       "Last Activity_Form Submitted on Website                  0.6673      0.629      1.061      0.289      -0.565       1.900\n",
       "Last Activity_Olark Chat Conversation                   -0.2964      0.462     -0.642      0.521      -1.202       0.609\n",
       "Last Activity_Other_Activity                            -0.9349      1.286     -0.727      0.467      -3.456       1.586\n",
       "Last Activity_Page Visited on Website                    0.4389      0.557      0.788      0.431      -0.653       1.531\n",
       "Last Activity_SMS Sent                                   1.8422      0.422      4.367      0.000       1.015       2.669\n",
       "Last Activity_Unreachable                                0.7506      1.215      0.618      0.537      -1.631       3.132\n",
       "Last Activity_Unsubscribed                             -16.9280    3.9e+04     -0.000      1.000   -7.64e+04    7.63e+04\n",
       "Specialization_Business Administration                  -0.4579      0.469     -0.977      0.329      -1.377       0.461\n",
       "Specialization_E-Business                               -0.5063      0.694     -0.730      0.466      -1.866       0.853\n",
       "Specialization_E-COMMERCE                                0.1804      0.628      0.287      0.774      -1.050       1.410\n",
       "Specialization_Finance Management                       -0.6867      0.403     -1.704      0.088      -1.477       0.103\n",
       "Specialization_Healthcare Management                    -0.5177      0.624     -0.830      0.407      -1.741       0.705\n",
       "Specialization_Hospitality Management                   -0.9334      0.672     -1.390      0.165      -2.250       0.383\n",
       "Specialization_Human Resource Management                -0.3360      0.399     -0.842      0.400      -1.118       0.446\n",
       "Specialization_IT Projects Management                   -0.2508      0.496     -0.506      0.613      -1.223       0.721\n",
       "Specialization_International Business                   -0.7088      0.548     -1.292      0.196      -1.784       0.366\n",
       "Specialization_Marketing Management                     -0.1820      0.405     -0.449      0.653      -0.976       0.612\n",
       "Specialization_Media and Advertising                    -0.6056      0.608     -0.997      0.319      -1.796       0.585\n",
       "Specialization_Not Provided                             -0.4442      0.419     -1.061      0.289      -1.264       0.376\n",
       "Specialization_Operations Management                    -0.3746      0.438     -0.855      0.392      -1.233       0.484\n",
       "Specialization_Retail Management                        -0.4289      0.691     -0.621      0.535      -1.782       0.925\n",
       "Specialization_Rural and Agribusiness                   -0.1017      0.928     -0.109      0.913      -1.921       1.718\n",
       "Specialization_Services Excellence                       0.6765      0.899      0.752      0.452      -1.086       2.439\n",
       "Specialization_Supply Chain Management                  -1.1992      0.511     -2.348      0.019      -2.200      -0.198\n",
       "Specialization_Travel and Tourism                       -0.8373      0.610     -1.372      0.170      -2.033       0.359\n",
       "What is your current occupation_Housewife               24.5562   4.91e+04      0.001      1.000   -9.62e+04    9.63e+04\n",
       "What is your current occupation_Not Provided             1.1073      2.062      0.537      0.591      -2.934       5.148\n",
       "What is your current occupation_Other                    3.6300      2.617      1.387      0.165      -1.500       8.760\n",
       "What is your current occupation_Student                  3.5075      2.147      1.634      0.102      -0.700       7.715\n",
       "What is your current occupation_Unemployed               3.4885      2.056      1.697      0.090      -0.542       7.519\n",
       "What is your current occupation_Working Professional     3.5227      2.076      1.697      0.090      -0.546       7.592\n",
       "Tags_Busy                                                3.6969      0.668      5.536      0.000       2.388       5.006\n",
       "Tags_Closed by Horizzon                                  9.8544      1.214      8.118      0.000       7.475      12.234\n",
       "Tags_Interested  in full time MBA                        1.0228      0.967      1.057      0.290      -0.873       2.919\n",
       "Tags_Interested in other courses                         0.3461      0.791      0.437      0.662      -1.205       1.897\n",
       "Tags_Lost to EINS                                        9.3912      0.890     10.547      0.000       7.646      11.136\n",
       "Tags_Not Provided                                        4.5895      0.633      7.253      0.000       3.349       5.830\n",
       "Tags_Not doing further education                         0.6057      1.197      0.506      0.613      -1.740       2.952\n",
       "Tags_Other_Tags                                          1.2156      0.710      1.712      0.087      -0.176       2.607\n",
       "Tags_Ringing                                            -0.9220      0.681     -1.355      0.176      -2.256       0.412\n",
       "Tags_Will revert after reading the email                 7.4954      0.652     11.491      0.000       6.217       8.774\n",
       "Tags_invalid number                                     -0.7994      1.340     -0.597      0.551      -3.425       1.827\n",
       "Tags_switched off                                       -1.2501      0.974     -1.283      0.199      -3.159       0.659\n",
       "Tags_wrong number given                                -21.4718   2.11e+04     -0.001      0.999   -4.13e+04    4.13e+04\n",
       "City_Other Cities                                       -0.1887      0.260     -0.725      0.468      -0.699       0.321\n",
       "City_Other Cities of Maharashtra                        -0.3568      0.308     -1.160      0.246      -0.960       0.246\n",
       "City_Other Metro Cities                                  0.0188      0.372      0.051      0.960      -0.710       0.748\n",
       "City_Thane & Outskirts                                   0.0239      0.258      0.093      0.926      -0.481       0.529\n",
       "City_Tier II Cities                                      0.0281      0.733      0.038      0.969      -1.408       1.464\n",
       "Last Notable Activity_Email Link Clicked                -3.7243      1.319     -2.823      0.005      -6.310      -1.139\n",
       "Last Notable Activity_Email Opened                      -2.2662      1.099     -2.062      0.039      -4.420      -0.112\n",
       "Last Notable Activity_Had a Phone Conversation          -0.9432      3.731     -0.253      0.800      -8.256       6.369\n",
       "Last Notable Activity_Modified                          -3.1401      1.065     -2.949      0.003      -5.227      -1.053\n",
       "Last Notable Activity_Olark Chat Conversation           -3.3116      1.209     -2.740      0.006      -5.681      -0.942\n",
       "Last Notable Activity_Other_Last_Notable_Activity       -1.3714      2.300     -0.596      0.551      -5.879       3.136\n",
       "Last Notable Activity_Page Visited on Website           -2.0275      1.187     -1.709      0.088      -4.353       0.298\n",
       "Last Notable Activity_SMS Sent                          -1.0463      1.091     -0.959      0.337      -3.184       1.091\n",
       "Last Notable Activity_Unreachable                       -1.0250      1.752     -0.585      0.558      -4.459       2.408\n",
       "Last Notable Activity_Unsubscribed                      16.7826    3.9e+04      0.000      1.000   -7.63e+04    7.64e+04\n",
       "========================================================================================================================\n",
       "\"\"\""
      ]
     },
     "execution_count": 42,
     "metadata": {},
     "output_type": "execute_result"
    }
   ],
   "source": [
    "# Logistic regression model with StatsModels\n",
    "logis = sm.GLM(y_train,(sm.add_constant(X_train)), family = sm.families.Binomial())\n",
    "logis.fit().summary()"
   ]
  },
  {
   "cell_type": "markdown",
   "id": "6f6e0557",
   "metadata": {},
   "source": [
    "# Feature Selection using RFE"
   ]
  },
  {
   "cell_type": "code",
   "execution_count": 43,
   "id": "72ee16b2",
   "metadata": {},
   "outputs": [],
   "source": [
    "# Creating object of LogisticRegression class from sklearn.linear_model\n",
    "logireg = LogisticRegression()\n",
    "\n",
    "# running RFE with 15 variables as output using sklearn.feature_selection\n",
    "rfe = RFE(logireg, n_features_to_select=15)             \n",
    "rfe = rfe.fit(X_train, y_train)"
   ]
  },
  {
   "cell_type": "code",
   "execution_count": 44,
   "id": "c79fd4f4",
   "metadata": {},
   "outputs": [
    {
     "data": {
      "text/plain": [
       "Index(['Do Not Email', 'Lead Origin_Lead Add Form',\n",
       "       'Lead Source_Welingak Website', 'Last Activity_Olark Chat Conversation',\n",
       "       'What is your current occupation_Not Provided', 'Tags_Busy',\n",
       "       'Tags_Closed by Horizzon', 'Tags_Lost to EINS', 'Tags_Not Provided',\n",
       "       'Tags_Ringing', 'Tags_Will revert after reading the email',\n",
       "       'Tags_invalid number', 'Tags_switched off', 'Tags_wrong number given',\n",
       "       'Last Notable Activity_SMS Sent'],\n",
       "      dtype='object')"
      ]
     },
     "execution_count": 44,
     "metadata": {},
     "output_type": "execute_result"
    }
   ],
   "source": [
    "col = X_train.columns[rfe.support_]\n",
    "col"
   ]
  },
  {
   "cell_type": "markdown",
   "id": "f74f5f5f",
   "metadata": {},
   "source": [
    "# VIF"
   ]
  },
  {
   "cell_type": "code",
   "execution_count": 45,
   "id": "24bca3c9",
   "metadata": {},
   "outputs": [],
   "source": [
    "# Function to calculate VIF\n",
    "def get_vif(column, X_train):\n",
    "    vif = pd.DataFrame()\n",
    "    vif['Features'] = X_train[column].columns\n",
    "    vif['VIF'] = [variance_inflation_factor(X_train[column].values, i) for i in range(X_train[column].shape[1])]\n",
    "    vif['VIF'] = round(vif['VIF'], 2)\n",
    "    vif = vif.sort_values(by = \"VIF\", ascending = False)\n",
    "    return vif"
   ]
  },
  {
   "cell_type": "code",
   "execution_count": 46,
   "id": "bffa4e40",
   "metadata": {},
   "outputs": [
    {
     "data": {
      "text/html": [
       "<table class=\"simpletable\">\n",
       "<caption>Generalized Linear Model Regression Results</caption>\n",
       "<tr>\n",
       "  <th>Dep. Variable:</th>       <td>Converted</td>    <th>  No. Observations:  </th>  <td>  5931</td> \n",
       "</tr>\n",
       "<tr>\n",
       "  <th>Model:</th>                  <td>GLM</td>       <th>  Df Residuals:      </th>  <td>  5915</td> \n",
       "</tr>\n",
       "<tr>\n",
       "  <th>Model Family:</th>        <td>Binomial</td>     <th>  Df Model:          </th>  <td>    15</td> \n",
       "</tr>\n",
       "<tr>\n",
       "  <th>Link Function:</th>         <td>Logit</td>      <th>  Scale:             </th> <td>  1.0000</td>\n",
       "</tr>\n",
       "<tr>\n",
       "  <th>Method:</th>                <td>IRLS</td>       <th>  Log-Likelihood:    </th> <td> -1148.8</td>\n",
       "</tr>\n",
       "<tr>\n",
       "  <th>Date:</th>            <td>Fri, 02 Jun 2023</td> <th>  Deviance:          </th> <td>  2297.6</td>\n",
       "</tr>\n",
       "<tr>\n",
       "  <th>Time:</th>                <td>11:31:43</td>     <th>  Pearson chi2:      </th> <td>8.54e+03</td>\n",
       "</tr>\n",
       "<tr>\n",
       "  <th>No. Iterations:</th>         <td>22</td>        <th>  Pseudo R-squ. (CS):</th>  <td>0.6080</td> \n",
       "</tr>\n",
       "<tr>\n",
       "  <th>Covariance Type:</th>     <td>nonrobust</td>    <th>                     </th>     <td> </td>   \n",
       "</tr>\n",
       "</table>\n",
       "<table class=\"simpletable\">\n",
       "<tr>\n",
       "                        <td></td>                          <th>coef</th>     <th>std err</th>      <th>z</th>      <th>P>|z|</th>  <th>[0.025</th>    <th>0.975]</th>  \n",
       "</tr>\n",
       "<tr>\n",
       "  <th>const</th>                                        <td>   -3.7262</td> <td>    0.219</td> <td>  -16.994</td> <td> 0.000</td> <td>   -4.156</td> <td>   -3.296</td>\n",
       "</tr>\n",
       "<tr>\n",
       "  <th>Do Not Email</th>                                 <td>   -1.4833</td> <td>    0.247</td> <td>   -6.003</td> <td> 0.000</td> <td>   -1.968</td> <td>   -0.999</td>\n",
       "</tr>\n",
       "<tr>\n",
       "  <th>Lead Origin_Lead Add Form</th>                    <td>    0.8823</td> <td>    0.421</td> <td>    2.094</td> <td> 0.036</td> <td>    0.057</td> <td>    1.708</td>\n",
       "</tr>\n",
       "<tr>\n",
       "  <th>Lead Source_Welingak Website</th>                 <td>    2.2732</td> <td>    1.107</td> <td>    2.054</td> <td> 0.040</td> <td>    0.104</td> <td>    4.443</td>\n",
       "</tr>\n",
       "<tr>\n",
       "  <th>Last Activity_Olark Chat Conversation</th>        <td>   -1.5218</td> <td>    0.239</td> <td>   -6.364</td> <td> 0.000</td> <td>   -1.990</td> <td>   -1.053</td>\n",
       "</tr>\n",
       "<tr>\n",
       "  <th>What is your current occupation_Not Provided</th> <td>   -2.4399</td> <td>    0.147</td> <td>  -16.549</td> <td> 0.000</td> <td>   -2.729</td> <td>   -2.151</td>\n",
       "</tr>\n",
       "<tr>\n",
       "  <th>Tags_Busy</th>                                    <td>    3.0057</td> <td>    0.314</td> <td>    9.586</td> <td> 0.000</td> <td>    2.391</td> <td>    3.620</td>\n",
       "</tr>\n",
       "<tr>\n",
       "  <th>Tags_Closed by Horizzon</th>                      <td>    8.6717</td> <td>    1.032</td> <td>    8.403</td> <td> 0.000</td> <td>    6.649</td> <td>   10.694</td>\n",
       "</tr>\n",
       "<tr>\n",
       "  <th>Tags_Lost to EINS</th>                            <td>    8.6679</td> <td>    0.659</td> <td>   13.163</td> <td> 0.000</td> <td>    7.377</td> <td>    9.959</td>\n",
       "</tr>\n",
       "<tr>\n",
       "  <th>Tags_Not Provided</th>                            <td>    3.9544</td> <td>    0.248</td> <td>   15.946</td> <td> 0.000</td> <td>    3.468</td> <td>    4.440</td>\n",
       "</tr>\n",
       "<tr>\n",
       "  <th>Tags_Ringing</th>                                 <td>   -1.5820</td> <td>    0.345</td> <td>   -4.590</td> <td> 0.000</td> <td>   -2.257</td> <td>   -0.906</td>\n",
       "</tr>\n",
       "<tr>\n",
       "  <th>Tags_Will revert after reading the email</th>     <td>    6.6167</td> <td>    0.272</td> <td>   24.298</td> <td> 0.000</td> <td>    6.083</td> <td>    7.150</td>\n",
       "</tr>\n",
       "<tr>\n",
       "  <th>Tags_invalid number</th>                          <td>   -1.4870</td> <td>    1.057</td> <td>   -1.407</td> <td> 0.159</td> <td>   -3.558</td> <td>    0.584</td>\n",
       "</tr>\n",
       "<tr>\n",
       "  <th>Tags_switched off</th>                            <td>   -2.2141</td> <td>    0.756</td> <td>   -2.929</td> <td> 0.003</td> <td>   -3.696</td> <td>   -0.732</td>\n",
       "</tr>\n",
       "<tr>\n",
       "  <th>Tags_wrong number given</th>                      <td>  -20.8699</td> <td> 1.37e+04</td> <td>   -0.002</td> <td> 0.999</td> <td>-2.69e+04</td> <td> 2.69e+04</td>\n",
       "</tr>\n",
       "<tr>\n",
       "  <th>Last Notable Activity_SMS Sent</th>               <td>    2.6009</td> <td>    0.139</td> <td>   18.708</td> <td> 0.000</td> <td>    2.328</td> <td>    2.873</td>\n",
       "</tr>\n",
       "</table>"
      ],
      "text/plain": [
       "<class 'statsmodels.iolib.summary.Summary'>\n",
       "\"\"\"\n",
       "                 Generalized Linear Model Regression Results                  \n",
       "==============================================================================\n",
       "Dep. Variable:              Converted   No. Observations:                 5931\n",
       "Model:                            GLM   Df Residuals:                     5915\n",
       "Model Family:                Binomial   Df Model:                           15\n",
       "Link Function:                  Logit   Scale:                          1.0000\n",
       "Method:                          IRLS   Log-Likelihood:                -1148.8\n",
       "Date:                Fri, 02 Jun 2023   Deviance:                       2297.6\n",
       "Time:                        11:31:43   Pearson chi2:                 8.54e+03\n",
       "No. Iterations:                    22   Pseudo R-squ. (CS):             0.6080\n",
       "Covariance Type:            nonrobust                                         \n",
       "================================================================================================================\n",
       "                                                   coef    std err          z      P>|z|      [0.025      0.975]\n",
       "----------------------------------------------------------------------------------------------------------------\n",
       "const                                           -3.7262      0.219    -16.994      0.000      -4.156      -3.296\n",
       "Do Not Email                                    -1.4833      0.247     -6.003      0.000      -1.968      -0.999\n",
       "Lead Origin_Lead Add Form                        0.8823      0.421      2.094      0.036       0.057       1.708\n",
       "Lead Source_Welingak Website                     2.2732      1.107      2.054      0.040       0.104       4.443\n",
       "Last Activity_Olark Chat Conversation           -1.5218      0.239     -6.364      0.000      -1.990      -1.053\n",
       "What is your current occupation_Not Provided    -2.4399      0.147    -16.549      0.000      -2.729      -2.151\n",
       "Tags_Busy                                        3.0057      0.314      9.586      0.000       2.391       3.620\n",
       "Tags_Closed by Horizzon                          8.6717      1.032      8.403      0.000       6.649      10.694\n",
       "Tags_Lost to EINS                                8.6679      0.659     13.163      0.000       7.377       9.959\n",
       "Tags_Not Provided                                3.9544      0.248     15.946      0.000       3.468       4.440\n",
       "Tags_Ringing                                    -1.5820      0.345     -4.590      0.000      -2.257      -0.906\n",
       "Tags_Will revert after reading the email         6.6167      0.272     24.298      0.000       6.083       7.150\n",
       "Tags_invalid number                             -1.4870      1.057     -1.407      0.159      -3.558       0.584\n",
       "Tags_switched off                               -2.2141      0.756     -2.929      0.003      -3.696      -0.732\n",
       "Tags_wrong number given                        -20.8699   1.37e+04     -0.002      0.999   -2.69e+04    2.69e+04\n",
       "Last Notable Activity_SMS Sent                   2.6009      0.139     18.708      0.000       2.328       2.873\n",
       "================================================================================================================\n",
       "\"\"\""
      ]
     },
     "execution_count": 46,
     "metadata": {},
     "output_type": "execute_result"
    }
   ],
   "source": [
    "# Adding constant\n",
    "X_train_sm = sm.add_constant(X_train[col])\n",
    "\n",
    "# Running sm.GLM\n",
    "logis1 = sm.GLM(y_train,X_train_sm, family = sm.families.Binomial())\n",
    "res = logis1.fit()\n",
    "res.summary()"
   ]
  },
  {
   "cell_type": "code",
   "execution_count": 47,
   "id": "a8a24380",
   "metadata": {},
   "outputs": [
    {
     "data": {
      "text/html": [
       "<div>\n",
       "<style scoped>\n",
       "    .dataframe tbody tr th:only-of-type {\n",
       "        vertical-align: middle;\n",
       "    }\n",
       "\n",
       "    .dataframe tbody tr th {\n",
       "        vertical-align: top;\n",
       "    }\n",
       "\n",
       "    .dataframe thead th {\n",
       "        text-align: right;\n",
       "    }\n",
       "</style>\n",
       "<table border=\"1\" class=\"dataframe\">\n",
       "  <thead>\n",
       "    <tr style=\"text-align: right;\">\n",
       "      <th></th>\n",
       "      <th>Features</th>\n",
       "      <th>VIF</th>\n",
       "    </tr>\n",
       "  </thead>\n",
       "  <tbody>\n",
       "    <tr>\n",
       "      <th>8</th>\n",
       "      <td>Tags_Not Provided</td>\n",
       "      <td>5.06</td>\n",
       "    </tr>\n",
       "    <tr>\n",
       "      <th>4</th>\n",
       "      <td>What is your current occupation_Not Provided</td>\n",
       "      <td>4.72</td>\n",
       "    </tr>\n",
       "    <tr>\n",
       "      <th>14</th>\n",
       "      <td>Last Notable Activity_SMS Sent</td>\n",
       "      <td>1.64</td>\n",
       "    </tr>\n",
       "    <tr>\n",
       "      <th>1</th>\n",
       "      <td>Lead Origin_Lead Add Form</td>\n",
       "      <td>1.58</td>\n",
       "    </tr>\n",
       "    <tr>\n",
       "      <th>10</th>\n",
       "      <td>Tags_Will revert after reading the email</td>\n",
       "      <td>1.47</td>\n",
       "    </tr>\n",
       "    <tr>\n",
       "      <th>2</th>\n",
       "      <td>Lead Source_Welingak Website</td>\n",
       "      <td>1.40</td>\n",
       "    </tr>\n",
       "    <tr>\n",
       "      <th>3</th>\n",
       "      <td>Last Activity_Olark Chat Conversation</td>\n",
       "      <td>1.16</td>\n",
       "    </tr>\n",
       "    <tr>\n",
       "      <th>6</th>\n",
       "      <td>Tags_Closed by Horizzon</td>\n",
       "      <td>1.10</td>\n",
       "    </tr>\n",
       "    <tr>\n",
       "      <th>9</th>\n",
       "      <td>Tags_Ringing</td>\n",
       "      <td>1.09</td>\n",
       "    </tr>\n",
       "    <tr>\n",
       "      <th>0</th>\n",
       "      <td>Do Not Email</td>\n",
       "      <td>1.08</td>\n",
       "    </tr>\n",
       "    <tr>\n",
       "      <th>5</th>\n",
       "      <td>Tags_Busy</td>\n",
       "      <td>1.03</td>\n",
       "    </tr>\n",
       "    <tr>\n",
       "      <th>7</th>\n",
       "      <td>Tags_Lost to EINS</td>\n",
       "      <td>1.03</td>\n",
       "    </tr>\n",
       "    <tr>\n",
       "      <th>12</th>\n",
       "      <td>Tags_switched off</td>\n",
       "      <td>1.03</td>\n",
       "    </tr>\n",
       "    <tr>\n",
       "      <th>11</th>\n",
       "      <td>Tags_invalid number</td>\n",
       "      <td>1.01</td>\n",
       "    </tr>\n",
       "    <tr>\n",
       "      <th>13</th>\n",
       "      <td>Tags_wrong number given</td>\n",
       "      <td>1.01</td>\n",
       "    </tr>\n",
       "  </tbody>\n",
       "</table>\n",
       "</div>"
      ],
      "text/plain": [
       "                                        Features   VIF\n",
       "8                              Tags_Not Provided  5.06\n",
       "4   What is your current occupation_Not Provided  4.72\n",
       "14                Last Notable Activity_SMS Sent  1.64\n",
       "1                      Lead Origin_Lead Add Form  1.58\n",
       "10      Tags_Will revert after reading the email  1.47\n",
       "2                   Lead Source_Welingak Website  1.40\n",
       "3          Last Activity_Olark Chat Conversation  1.16\n",
       "6                        Tags_Closed by Horizzon  1.10\n",
       "9                                   Tags_Ringing  1.09\n",
       "0                                   Do Not Email  1.08\n",
       "5                                      Tags_Busy  1.03\n",
       "7                              Tags_Lost to EINS  1.03\n",
       "12                             Tags_switched off  1.03\n",
       "11                           Tags_invalid number  1.01\n",
       "13                       Tags_wrong number given  1.01"
      ]
     },
     "execution_count": 47,
     "metadata": {},
     "output_type": "execute_result"
    }
   ],
   "source": [
    "# Create a dataframe that will contain the names of all the feature variables and their respective VIFs\n",
    "get_vif(col, X_train)"
   ]
  },
  {
   "cell_type": "code",
   "execution_count": 48,
   "id": "a1e11a86",
   "metadata": {},
   "outputs": [
    {
     "data": {
      "text/html": [
       "<table class=\"simpletable\">\n",
       "<caption>Generalized Linear Model Regression Results</caption>\n",
       "<tr>\n",
       "  <th>Dep. Variable:</th>       <td>Converted</td>    <th>  No. Observations:  </th>  <td>  5931</td> \n",
       "</tr>\n",
       "<tr>\n",
       "  <th>Model:</th>                  <td>GLM</td>       <th>  Df Residuals:      </th>  <td>  5916</td> \n",
       "</tr>\n",
       "<tr>\n",
       "  <th>Model Family:</th>        <td>Binomial</td>     <th>  Df Model:          </th>  <td>    14</td> \n",
       "</tr>\n",
       "<tr>\n",
       "  <th>Link Function:</th>         <td>Logit</td>      <th>  Scale:             </th> <td>  1.0000</td>\n",
       "</tr>\n",
       "<tr>\n",
       "  <th>Method:</th>                <td>IRLS</td>       <th>  Log-Likelihood:    </th> <td> -1358.4</td>\n",
       "</tr>\n",
       "<tr>\n",
       "  <th>Date:</th>            <td>Fri, 02 Jun 2023</td> <th>  Deviance:          </th> <td>  2716.7</td>\n",
       "</tr>\n",
       "<tr>\n",
       "  <th>Time:</th>                <td>11:31:44</td>     <th>  Pearson chi2:      </th> <td>9.48e+03</td>\n",
       "</tr>\n",
       "<tr>\n",
       "  <th>No. Iterations:</th>         <td>22</td>        <th>  Pseudo R-squ. (CS):</th>  <td>0.5793</td> \n",
       "</tr>\n",
       "<tr>\n",
       "  <th>Covariance Type:</th>     <td>nonrobust</td>    <th>                     </th>     <td> </td>   \n",
       "</tr>\n",
       "</table>\n",
       "<table class=\"simpletable\">\n",
       "<tr>\n",
       "                        <td></td>                          <th>coef</th>     <th>std err</th>      <th>z</th>      <th>P>|z|</th>  <th>[0.025</th>    <th>0.975]</th>  \n",
       "</tr>\n",
       "<tr>\n",
       "  <th>const</th>                                        <td>   -1.6403</td> <td>    0.083</td> <td>  -19.707</td> <td> 0.000</td> <td>   -1.803</td> <td>   -1.477</td>\n",
       "</tr>\n",
       "<tr>\n",
       "  <th>Do Not Email</th>                                 <td>   -1.3733</td> <td>    0.234</td> <td>   -5.878</td> <td> 0.000</td> <td>   -1.831</td> <td>   -0.915</td>\n",
       "</tr>\n",
       "<tr>\n",
       "  <th>Lead Origin_Lead Add Form</th>                    <td>    1.1037</td> <td>    0.377</td> <td>    2.930</td> <td> 0.003</td> <td>    0.365</td> <td>    1.842</td>\n",
       "</tr>\n",
       "<tr>\n",
       "  <th>Lead Source_Welingak Website</th>                 <td>    3.8359</td> <td>    1.089</td> <td>    3.521</td> <td> 0.000</td> <td>    1.701</td> <td>    5.971</td>\n",
       "</tr>\n",
       "<tr>\n",
       "  <th>Last Activity_Olark Chat Conversation</th>        <td>   -1.4770</td> <td>    0.230</td> <td>   -6.417</td> <td> 0.000</td> <td>   -1.928</td> <td>   -1.026</td>\n",
       "</tr>\n",
       "<tr>\n",
       "  <th>What is your current occupation_Not Provided</th> <td>   -0.6975</td> <td>    0.116</td> <td>   -6.004</td> <td> 0.000</td> <td>   -0.925</td> <td>   -0.470</td>\n",
       "</tr>\n",
       "<tr>\n",
       "  <th>Tags_Busy</th>                                    <td>    0.8041</td> <td>    0.247</td> <td>    3.252</td> <td> 0.001</td> <td>    0.319</td> <td>    1.289</td>\n",
       "</tr>\n",
       "<tr>\n",
       "  <th>Tags_Closed by Horizzon</th>                      <td>    6.5318</td> <td>    1.011</td> <td>    6.463</td> <td> 0.000</td> <td>    4.551</td> <td>    8.513</td>\n",
       "</tr>\n",
       "<tr>\n",
       "  <th>Tags_Lost to EINS</th>                            <td>    5.4731</td> <td>    0.596</td> <td>    9.182</td> <td> 0.000</td> <td>    4.305</td> <td>    6.641</td>\n",
       "</tr>\n",
       "<tr>\n",
       "  <th>Tags_Ringing</th>                                 <td>   -3.9644</td> <td>    0.280</td> <td>  -14.167</td> <td> 0.000</td> <td>   -4.513</td> <td>   -3.416</td>\n",
       "</tr>\n",
       "<tr>\n",
       "  <th>Tags_Will revert after reading the email</th>     <td>    4.4871</td> <td>    0.181</td> <td>   24.759</td> <td> 0.000</td> <td>    4.132</td> <td>    4.842</td>\n",
       "</tr>\n",
       "<tr>\n",
       "  <th>Tags_invalid number</th>                          <td>   -3.8488</td> <td>    1.039</td> <td>   -3.705</td> <td> 0.000</td> <td>   -5.885</td> <td>   -1.813</td>\n",
       "</tr>\n",
       "<tr>\n",
       "  <th>Tags_switched off</th>                            <td>   -4.5874</td> <td>    0.728</td> <td>   -6.298</td> <td> 0.000</td> <td>   -6.015</td> <td>   -3.160</td>\n",
       "</tr>\n",
       "<tr>\n",
       "  <th>Tags_wrong number given</th>                      <td>  -23.1987</td> <td> 1.34e+04</td> <td>   -0.002</td> <td> 0.999</td> <td>-2.63e+04</td> <td> 2.63e+04</td>\n",
       "</tr>\n",
       "<tr>\n",
       "  <th>Last Notable Activity_SMS Sent</th>               <td>    2.9140</td> <td>    0.127</td> <td>   22.911</td> <td> 0.000</td> <td>    2.665</td> <td>    3.163</td>\n",
       "</tr>\n",
       "</table>"
      ],
      "text/plain": [
       "<class 'statsmodels.iolib.summary.Summary'>\n",
       "\"\"\"\n",
       "                 Generalized Linear Model Regression Results                  \n",
       "==============================================================================\n",
       "Dep. Variable:              Converted   No. Observations:                 5931\n",
       "Model:                            GLM   Df Residuals:                     5916\n",
       "Model Family:                Binomial   Df Model:                           14\n",
       "Link Function:                  Logit   Scale:                          1.0000\n",
       "Method:                          IRLS   Log-Likelihood:                -1358.4\n",
       "Date:                Fri, 02 Jun 2023   Deviance:                       2716.7\n",
       "Time:                        11:31:44   Pearson chi2:                 9.48e+03\n",
       "No. Iterations:                    22   Pseudo R-squ. (CS):             0.5793\n",
       "Covariance Type:            nonrobust                                         \n",
       "================================================================================================================\n",
       "                                                   coef    std err          z      P>|z|      [0.025      0.975]\n",
       "----------------------------------------------------------------------------------------------------------------\n",
       "const                                           -1.6403      0.083    -19.707      0.000      -1.803      -1.477\n",
       "Do Not Email                                    -1.3733      0.234     -5.878      0.000      -1.831      -0.915\n",
       "Lead Origin_Lead Add Form                        1.1037      0.377      2.930      0.003       0.365       1.842\n",
       "Lead Source_Welingak Website                     3.8359      1.089      3.521      0.000       1.701       5.971\n",
       "Last Activity_Olark Chat Conversation           -1.4770      0.230     -6.417      0.000      -1.928      -1.026\n",
       "What is your current occupation_Not Provided    -0.6975      0.116     -6.004      0.000      -0.925      -0.470\n",
       "Tags_Busy                                        0.8041      0.247      3.252      0.001       0.319       1.289\n",
       "Tags_Closed by Horizzon                          6.5318      1.011      6.463      0.000       4.551       8.513\n",
       "Tags_Lost to EINS                                5.4731      0.596      9.182      0.000       4.305       6.641\n",
       "Tags_Ringing                                    -3.9644      0.280    -14.167      0.000      -4.513      -3.416\n",
       "Tags_Will revert after reading the email         4.4871      0.181     24.759      0.000       4.132       4.842\n",
       "Tags_invalid number                             -3.8488      1.039     -3.705      0.000      -5.885      -1.813\n",
       "Tags_switched off                               -4.5874      0.728     -6.298      0.000      -6.015      -3.160\n",
       "Tags_wrong number given                        -23.1987   1.34e+04     -0.002      0.999   -2.63e+04    2.63e+04\n",
       "Last Notable Activity_SMS Sent                   2.9140      0.127     22.911      0.000       2.665       3.163\n",
       "================================================================================================================\n",
       "\"\"\""
      ]
     },
     "execution_count": 48,
     "metadata": {},
     "output_type": "execute_result"
    }
   ],
   "source": [
    "# Since the VIF for the 'Tags_Not Provided' variable is greater than 5, it will be dropped, and the model will be rebuilt.\n",
    "# Dropping 'Tags_Not Provided'\n",
    "col1 = col.drop('Tags_Not Provided',1)\n",
    "\n",
    "#Model 2\n",
    "X_train_sm = sm.add_constant(X_train[col1])\n",
    "logis1 = sm.GLM(y_train,X_train_sm, family = sm.families.Binomial())\n",
    "res = logis1.fit()\n",
    "res.summary()"
   ]
  },
  {
   "cell_type": "code",
   "execution_count": 49,
   "id": "ab51e066",
   "metadata": {},
   "outputs": [
    {
     "data": {
      "text/html": [
       "<div>\n",
       "<style scoped>\n",
       "    .dataframe tbody tr th:only-of-type {\n",
       "        vertical-align: middle;\n",
       "    }\n",
       "\n",
       "    .dataframe tbody tr th {\n",
       "        vertical-align: top;\n",
       "    }\n",
       "\n",
       "    .dataframe thead th {\n",
       "        text-align: right;\n",
       "    }\n",
       "</style>\n",
       "<table border=\"1\" class=\"dataframe\">\n",
       "  <thead>\n",
       "    <tr style=\"text-align: right;\">\n",
       "      <th></th>\n",
       "      <th>Features</th>\n",
       "      <th>VIF</th>\n",
       "    </tr>\n",
       "  </thead>\n",
       "  <tbody>\n",
       "    <tr>\n",
       "      <th>1</th>\n",
       "      <td>Lead Origin_Lead Add Form</td>\n",
       "      <td>1.57</td>\n",
       "    </tr>\n",
       "    <tr>\n",
       "      <th>13</th>\n",
       "      <td>Last Notable Activity_SMS Sent</td>\n",
       "      <td>1.54</td>\n",
       "    </tr>\n",
       "    <tr>\n",
       "      <th>9</th>\n",
       "      <td>Tags_Will revert after reading the email</td>\n",
       "      <td>1.43</td>\n",
       "    </tr>\n",
       "    <tr>\n",
       "      <th>2</th>\n",
       "      <td>Lead Source_Welingak Website</td>\n",
       "      <td>1.32</td>\n",
       "    </tr>\n",
       "    <tr>\n",
       "      <th>4</th>\n",
       "      <td>What is your current occupation_Not Provided</td>\n",
       "      <td>1.22</td>\n",
       "    </tr>\n",
       "    <tr>\n",
       "      <th>3</th>\n",
       "      <td>Last Activity_Olark Chat Conversation</td>\n",
       "      <td>1.15</td>\n",
       "    </tr>\n",
       "    <tr>\n",
       "      <th>6</th>\n",
       "      <td>Tags_Closed by Horizzon</td>\n",
       "      <td>1.10</td>\n",
       "    </tr>\n",
       "    <tr>\n",
       "      <th>8</th>\n",
       "      <td>Tags_Ringing</td>\n",
       "      <td>1.08</td>\n",
       "    </tr>\n",
       "    <tr>\n",
       "      <th>0</th>\n",
       "      <td>Do Not Email</td>\n",
       "      <td>1.07</td>\n",
       "    </tr>\n",
       "    <tr>\n",
       "      <th>5</th>\n",
       "      <td>Tags_Busy</td>\n",
       "      <td>1.03</td>\n",
       "    </tr>\n",
       "    <tr>\n",
       "      <th>11</th>\n",
       "      <td>Tags_switched off</td>\n",
       "      <td>1.03</td>\n",
       "    </tr>\n",
       "    <tr>\n",
       "      <th>7</th>\n",
       "      <td>Tags_Lost to EINS</td>\n",
       "      <td>1.01</td>\n",
       "    </tr>\n",
       "    <tr>\n",
       "      <th>10</th>\n",
       "      <td>Tags_invalid number</td>\n",
       "      <td>1.01</td>\n",
       "    </tr>\n",
       "    <tr>\n",
       "      <th>12</th>\n",
       "      <td>Tags_wrong number given</td>\n",
       "      <td>1.01</td>\n",
       "    </tr>\n",
       "  </tbody>\n",
       "</table>\n",
       "</div>"
      ],
      "text/plain": [
       "                                        Features   VIF\n",
       "1                      Lead Origin_Lead Add Form  1.57\n",
       "13                Last Notable Activity_SMS Sent  1.54\n",
       "9       Tags_Will revert after reading the email  1.43\n",
       "2                   Lead Source_Welingak Website  1.32\n",
       "4   What is your current occupation_Not Provided  1.22\n",
       "3          Last Activity_Olark Chat Conversation  1.15\n",
       "6                        Tags_Closed by Horizzon  1.10\n",
       "8                                   Tags_Ringing  1.08\n",
       "0                                   Do Not Email  1.07\n",
       "5                                      Tags_Busy  1.03\n",
       "11                             Tags_switched off  1.03\n",
       "7                              Tags_Lost to EINS  1.01\n",
       "10                           Tags_invalid number  1.01\n",
       "12                       Tags_wrong number given  1.01"
      ]
     },
     "execution_count": 49,
     "metadata": {},
     "output_type": "execute_result"
    }
   ],
   "source": [
    "# again checking the VIF now:\n",
    "get_vif(col1, X_train)"
   ]
  },
  {
   "cell_type": "markdown",
   "id": "83885b05",
   "metadata": {},
   "source": [
    "Since all the VIF values are below 5, there is no issue with multicollinearity. However, we will drop the 'Tags_wrong number given' column due to its high p-value and rebuild the model."
   ]
  },
  {
   "cell_type": "code",
   "execution_count": 50,
   "id": "e350be78",
   "metadata": {},
   "outputs": [
    {
     "data": {
      "text/html": [
       "<table class=\"simpletable\">\n",
       "<caption>Generalized Linear Model Regression Results</caption>\n",
       "<tr>\n",
       "  <th>Dep. Variable:</th>       <td>Converted</td>    <th>  No. Observations:  </th>  <td>  5931</td> \n",
       "</tr>\n",
       "<tr>\n",
       "  <th>Model:</th>                  <td>GLM</td>       <th>  Df Residuals:      </th>  <td>  5917</td> \n",
       "</tr>\n",
       "<tr>\n",
       "  <th>Model Family:</th>        <td>Binomial</td>     <th>  Df Model:          </th>  <td>    13</td> \n",
       "</tr>\n",
       "<tr>\n",
       "  <th>Link Function:</th>         <td>Logit</td>      <th>  Scale:             </th> <td>  1.0000</td>\n",
       "</tr>\n",
       "<tr>\n",
       "  <th>Method:</th>                <td>IRLS</td>       <th>  Log-Likelihood:    </th> <td> -1370.7</td>\n",
       "</tr>\n",
       "<tr>\n",
       "  <th>Date:</th>            <td>Fri, 02 Jun 2023</td> <th>  Deviance:          </th> <td>  2741.4</td>\n",
       "</tr>\n",
       "<tr>\n",
       "  <th>Time:</th>                <td>11:31:45</td>     <th>  Pearson chi2:      </th> <td>9.22e+03</td>\n",
       "</tr>\n",
       "<tr>\n",
       "  <th>No. Iterations:</th>          <td>8</td>        <th>  Pseudo R-squ. (CS):</th>  <td>0.5775</td> \n",
       "</tr>\n",
       "<tr>\n",
       "  <th>Covariance Type:</th>     <td>nonrobust</td>    <th>                     </th>     <td> </td>   \n",
       "</tr>\n",
       "</table>\n",
       "<table class=\"simpletable\">\n",
       "<tr>\n",
       "                        <td></td>                          <th>coef</th>     <th>std err</th>      <th>z</th>      <th>P>|z|</th>  <th>[0.025</th>    <th>0.975]</th>  \n",
       "</tr>\n",
       "<tr>\n",
       "  <th>const</th>                                        <td>   -1.6734</td> <td>    0.083</td> <td>  -20.090</td> <td> 0.000</td> <td>   -1.837</td> <td>   -1.510</td>\n",
       "</tr>\n",
       "<tr>\n",
       "  <th>Do Not Email</th>                                 <td>   -1.4469</td> <td>    0.232</td> <td>   -6.246</td> <td> 0.000</td> <td>   -1.901</td> <td>   -0.993</td>\n",
       "</tr>\n",
       "<tr>\n",
       "  <th>Lead Origin_Lead Add Form</th>                    <td>    1.1432</td> <td>    0.375</td> <td>    3.045</td> <td> 0.002</td> <td>    0.407</td> <td>    1.879</td>\n",
       "</tr>\n",
       "<tr>\n",
       "  <th>Lead Source_Welingak Website</th>                 <td>    3.8499</td> <td>    1.089</td> <td>    3.535</td> <td> 0.000</td> <td>    1.715</td> <td>    5.985</td>\n",
       "</tr>\n",
       "<tr>\n",
       "  <th>Last Activity_Olark Chat Conversation</th>        <td>   -1.4742</td> <td>    0.230</td> <td>   -6.399</td> <td> 0.000</td> <td>   -1.926</td> <td>   -1.023</td>\n",
       "</tr>\n",
       "<tr>\n",
       "  <th>What is your current occupation_Not Provided</th> <td>   -0.6414</td> <td>    0.115</td> <td>   -5.572</td> <td> 0.000</td> <td>   -0.867</td> <td>   -0.416</td>\n",
       "</tr>\n",
       "<tr>\n",
       "  <th>Tags_Busy</th>                                    <td>    0.8622</td> <td>    0.245</td> <td>    3.516</td> <td> 0.000</td> <td>    0.382</td> <td>    1.343</td>\n",
       "</tr>\n",
       "<tr>\n",
       "  <th>Tags_Closed by Horizzon</th>                      <td>    6.5602</td> <td>    1.011</td> <td>    6.491</td> <td> 0.000</td> <td>    4.579</td> <td>    8.541</td>\n",
       "</tr>\n",
       "<tr>\n",
       "  <th>Tags_Lost to EINS</th>                            <td>    5.4805</td> <td>    0.596</td> <td>    9.200</td> <td> 0.000</td> <td>    4.313</td> <td>    6.648</td>\n",
       "</tr>\n",
       "<tr>\n",
       "  <th>Tags_Ringing</th>                                 <td>   -3.8800</td> <td>    0.279</td> <td>  -13.931</td> <td> 0.000</td> <td>   -4.426</td> <td>   -3.334</td>\n",
       "</tr>\n",
       "<tr>\n",
       "  <th>Tags_Will revert after reading the email</th>     <td>    4.5264</td> <td>    0.181</td> <td>   24.978</td> <td> 0.000</td> <td>    4.171</td> <td>    4.882</td>\n",
       "</tr>\n",
       "<tr>\n",
       "  <th>Tags_invalid number</th>                          <td>   -3.7581</td> <td>    1.038</td> <td>   -3.620</td> <td> 0.000</td> <td>   -5.793</td> <td>   -1.723</td>\n",
       "</tr>\n",
       "<tr>\n",
       "  <th>Tags_switched off</th>                            <td>   -4.4942</td> <td>    0.728</td> <td>   -6.175</td> <td> 0.000</td> <td>   -5.921</td> <td>   -3.068</td>\n",
       "</tr>\n",
       "<tr>\n",
       "  <th>Last Notable Activity_SMS Sent</th>               <td>    2.8525</td> <td>    0.125</td> <td>   22.867</td> <td> 0.000</td> <td>    2.608</td> <td>    3.097</td>\n",
       "</tr>\n",
       "</table>"
      ],
      "text/plain": [
       "<class 'statsmodels.iolib.summary.Summary'>\n",
       "\"\"\"\n",
       "                 Generalized Linear Model Regression Results                  \n",
       "==============================================================================\n",
       "Dep. Variable:              Converted   No. Observations:                 5931\n",
       "Model:                            GLM   Df Residuals:                     5917\n",
       "Model Family:                Binomial   Df Model:                           13\n",
       "Link Function:                  Logit   Scale:                          1.0000\n",
       "Method:                          IRLS   Log-Likelihood:                -1370.7\n",
       "Date:                Fri, 02 Jun 2023   Deviance:                       2741.4\n",
       "Time:                        11:31:45   Pearson chi2:                 9.22e+03\n",
       "No. Iterations:                     8   Pseudo R-squ. (CS):             0.5775\n",
       "Covariance Type:            nonrobust                                         \n",
       "================================================================================================================\n",
       "                                                   coef    std err          z      P>|z|      [0.025      0.975]\n",
       "----------------------------------------------------------------------------------------------------------------\n",
       "const                                           -1.6734      0.083    -20.090      0.000      -1.837      -1.510\n",
       "Do Not Email                                    -1.4469      0.232     -6.246      0.000      -1.901      -0.993\n",
       "Lead Origin_Lead Add Form                        1.1432      0.375      3.045      0.002       0.407       1.879\n",
       "Lead Source_Welingak Website                     3.8499      1.089      3.535      0.000       1.715       5.985\n",
       "Last Activity_Olark Chat Conversation           -1.4742      0.230     -6.399      0.000      -1.926      -1.023\n",
       "What is your current occupation_Not Provided    -0.6414      0.115     -5.572      0.000      -0.867      -0.416\n",
       "Tags_Busy                                        0.8622      0.245      3.516      0.000       0.382       1.343\n",
       "Tags_Closed by Horizzon                          6.5602      1.011      6.491      0.000       4.579       8.541\n",
       "Tags_Lost to EINS                                5.4805      0.596      9.200      0.000       4.313       6.648\n",
       "Tags_Ringing                                    -3.8800      0.279    -13.931      0.000      -4.426      -3.334\n",
       "Tags_Will revert after reading the email         4.5264      0.181     24.978      0.000       4.171       4.882\n",
       "Tags_invalid number                             -3.7581      1.038     -3.620      0.000      -5.793      -1.723\n",
       "Tags_switched off                               -4.4942      0.728     -6.175      0.000      -5.921      -3.068\n",
       "Last Notable Activity_SMS Sent                   2.8525      0.125     22.867      0.000       2.608       3.097\n",
       "================================================================================================================\n",
       "\"\"\""
      ]
     },
     "execution_count": 50,
     "metadata": {},
     "output_type": "execute_result"
    }
   ],
   "source": [
    "# Dropping 'Tags_wrong number given' as p-value is 0.999\n",
    "col2 = col1.drop('Tags_wrong number given',1)\n",
    "\n",
    "X_train_sm = sm.add_constant(X_train[col2])\n",
    "logis2 = sm.GLM(y_train,X_train_sm, family = sm.families.Binomial())\n",
    "res = logis2.fit()\n",
    "res.summary()"
   ]
  },
  {
   "cell_type": "code",
   "execution_count": 51,
   "id": "be39dcba",
   "metadata": {},
   "outputs": [
    {
     "data": {
      "text/html": [
       "<div>\n",
       "<style scoped>\n",
       "    .dataframe tbody tr th:only-of-type {\n",
       "        vertical-align: middle;\n",
       "    }\n",
       "\n",
       "    .dataframe tbody tr th {\n",
       "        vertical-align: top;\n",
       "    }\n",
       "\n",
       "    .dataframe thead th {\n",
       "        text-align: right;\n",
       "    }\n",
       "</style>\n",
       "<table border=\"1\" class=\"dataframe\">\n",
       "  <thead>\n",
       "    <tr style=\"text-align: right;\">\n",
       "      <th></th>\n",
       "      <th>Features</th>\n",
       "      <th>VIF</th>\n",
       "    </tr>\n",
       "  </thead>\n",
       "  <tbody>\n",
       "    <tr>\n",
       "      <th>1</th>\n",
       "      <td>Lead Origin_Lead Add Form</td>\n",
       "      <td>1.57</td>\n",
       "    </tr>\n",
       "    <tr>\n",
       "      <th>12</th>\n",
       "      <td>Last Notable Activity_SMS Sent</td>\n",
       "      <td>1.53</td>\n",
       "    </tr>\n",
       "    <tr>\n",
       "      <th>9</th>\n",
       "      <td>Tags_Will revert after reading the email</td>\n",
       "      <td>1.43</td>\n",
       "    </tr>\n",
       "    <tr>\n",
       "      <th>2</th>\n",
       "      <td>Lead Source_Welingak Website</td>\n",
       "      <td>1.32</td>\n",
       "    </tr>\n",
       "    <tr>\n",
       "      <th>4</th>\n",
       "      <td>What is your current occupation_Not Provided</td>\n",
       "      <td>1.22</td>\n",
       "    </tr>\n",
       "    <tr>\n",
       "      <th>3</th>\n",
       "      <td>Last Activity_Olark Chat Conversation</td>\n",
       "      <td>1.15</td>\n",
       "    </tr>\n",
       "    <tr>\n",
       "      <th>6</th>\n",
       "      <td>Tags_Closed by Horizzon</td>\n",
       "      <td>1.10</td>\n",
       "    </tr>\n",
       "    <tr>\n",
       "      <th>8</th>\n",
       "      <td>Tags_Ringing</td>\n",
       "      <td>1.08</td>\n",
       "    </tr>\n",
       "    <tr>\n",
       "      <th>0</th>\n",
       "      <td>Do Not Email</td>\n",
       "      <td>1.07</td>\n",
       "    </tr>\n",
       "    <tr>\n",
       "      <th>5</th>\n",
       "      <td>Tags_Busy</td>\n",
       "      <td>1.03</td>\n",
       "    </tr>\n",
       "    <tr>\n",
       "      <th>11</th>\n",
       "      <td>Tags_switched off</td>\n",
       "      <td>1.03</td>\n",
       "    </tr>\n",
       "    <tr>\n",
       "      <th>7</th>\n",
       "      <td>Tags_Lost to EINS</td>\n",
       "      <td>1.01</td>\n",
       "    </tr>\n",
       "    <tr>\n",
       "      <th>10</th>\n",
       "      <td>Tags_invalid number</td>\n",
       "      <td>1.01</td>\n",
       "    </tr>\n",
       "  </tbody>\n",
       "</table>\n",
       "</div>"
      ],
      "text/plain": [
       "                                        Features   VIF\n",
       "1                      Lead Origin_Lead Add Form  1.57\n",
       "12                Last Notable Activity_SMS Sent  1.53\n",
       "9       Tags_Will revert after reading the email  1.43\n",
       "2                   Lead Source_Welingak Website  1.32\n",
       "4   What is your current occupation_Not Provided  1.22\n",
       "3          Last Activity_Olark Chat Conversation  1.15\n",
       "6                        Tags_Closed by Horizzon  1.10\n",
       "8                                   Tags_Ringing  1.08\n",
       "0                                   Do Not Email  1.07\n",
       "5                                      Tags_Busy  1.03\n",
       "11                             Tags_switched off  1.03\n",
       "7                              Tags_Lost to EINS  1.01\n",
       "10                           Tags_invalid number  1.01"
      ]
     },
     "execution_count": 51,
     "metadata": {},
     "output_type": "execute_result"
    }
   ],
   "source": [
    "get_vif(col2, X_train)"
   ]
  },
  {
   "cell_type": "markdown",
   "id": "c96a410e",
   "metadata": {},
   "source": [
    "# Model Evaluation"
   ]
  },
  {
   "cell_type": "code",
   "execution_count": 52,
   "id": "008dba60",
   "metadata": {},
   "outputs": [
    {
     "data": {
      "text/plain": [
       "Lead Number\n",
       "618332    0.089906\n",
       "605316    0.998940\n",
       "655685    0.003859\n",
       "581653    0.157972\n",
       "619035    0.631279\n",
       "624090    0.089906\n",
       "645483    0.945474\n",
       "623355    0.089906\n",
       "591659    0.022716\n",
       "641106    0.764786\n",
       "dtype: float64"
      ]
     },
     "execution_count": 52,
     "metadata": {},
     "output_type": "execute_result"
    }
   ],
   "source": [
    "# Getting the predicted values on the train set\n",
    "y_train_pred = res.predict(X_train_sm)\n",
    "y_train_pred[:10]"
   ]
  },
  {
   "cell_type": "code",
   "execution_count": 53,
   "id": "f75e8b49",
   "metadata": {},
   "outputs": [
    {
     "data": {
      "text/plain": [
       "array([0.08990584, 0.99894028, 0.00385924, 0.15797205, 0.63127942,\n",
       "       0.08990584, 0.94547443, 0.08990584, 0.02271636, 0.76478586])"
      ]
     },
     "execution_count": 53,
     "metadata": {},
     "output_type": "execute_result"
    }
   ],
   "source": [
    "# Reshaping y_train_pred\n",
    "y_train_pred = y_train_pred.values.reshape(-1)\n",
    "y_train_pred[:10]"
   ]
  },
  {
   "cell_type": "code",
   "execution_count": 54,
   "id": "73c2737a",
   "metadata": {},
   "outputs": [
    {
     "data": {
      "text/html": [
       "<div>\n",
       "<style scoped>\n",
       "    .dataframe tbody tr th:only-of-type {\n",
       "        vertical-align: middle;\n",
       "    }\n",
       "\n",
       "    .dataframe tbody tr th {\n",
       "        vertical-align: top;\n",
       "    }\n",
       "\n",
       "    .dataframe thead th {\n",
       "        text-align: right;\n",
       "    }\n",
       "</style>\n",
       "<table border=\"1\" class=\"dataframe\">\n",
       "  <thead>\n",
       "    <tr style=\"text-align: right;\">\n",
       "      <th></th>\n",
       "      <th>Converted</th>\n",
       "      <th>Converted_Prob</th>\n",
       "      <th>Lead Number</th>\n",
       "    </tr>\n",
       "  </thead>\n",
       "  <tbody>\n",
       "    <tr>\n",
       "      <th>0</th>\n",
       "      <td>1</td>\n",
       "      <td>0.089906</td>\n",
       "      <td>618332</td>\n",
       "    </tr>\n",
       "    <tr>\n",
       "      <th>1</th>\n",
       "      <td>1</td>\n",
       "      <td>0.998940</td>\n",
       "      <td>605316</td>\n",
       "    </tr>\n",
       "    <tr>\n",
       "      <th>2</th>\n",
       "      <td>0</td>\n",
       "      <td>0.003859</td>\n",
       "      <td>655685</td>\n",
       "    </tr>\n",
       "    <tr>\n",
       "      <th>3</th>\n",
       "      <td>0</td>\n",
       "      <td>0.157972</td>\n",
       "      <td>581653</td>\n",
       "    </tr>\n",
       "    <tr>\n",
       "      <th>4</th>\n",
       "      <td>1</td>\n",
       "      <td>0.631279</td>\n",
       "      <td>619035</td>\n",
       "    </tr>\n",
       "  </tbody>\n",
       "</table>\n",
       "</div>"
      ],
      "text/plain": [
       "   Converted  Converted_Prob  Lead Number\n",
       "0          1        0.089906       618332\n",
       "1          1        0.998940       605316\n",
       "2          0        0.003859       655685\n",
       "3          0        0.157972       581653\n",
       "4          1        0.631279       619035"
      ]
     },
     "execution_count": 54,
     "metadata": {},
     "output_type": "execute_result"
    }
   ],
   "source": [
    "#Creating a dataframe with the actual converted flag and the predicted probabilities\n",
    "\n",
    "y_train_pred_final = pd.DataFrame({'Converted':y_train.values, 'Converted_Prob':y_train_pred})\n",
    "y_train_pred_final['Lead Number'] = y_train.index\n",
    "y_train_pred_final.head()"
   ]
  },
  {
   "cell_type": "code",
   "execution_count": 55,
   "id": "48a546f3",
   "metadata": {},
   "outputs": [
    {
     "data": {
      "text/html": [
       "<div>\n",
       "<style scoped>\n",
       "    .dataframe tbody tr th:only-of-type {\n",
       "        vertical-align: middle;\n",
       "    }\n",
       "\n",
       "    .dataframe tbody tr th {\n",
       "        vertical-align: top;\n",
       "    }\n",
       "\n",
       "    .dataframe thead th {\n",
       "        text-align: right;\n",
       "    }\n",
       "</style>\n",
       "<table border=\"1\" class=\"dataframe\">\n",
       "  <thead>\n",
       "    <tr style=\"text-align: right;\">\n",
       "      <th></th>\n",
       "      <th>Converted</th>\n",
       "      <th>Converted_Prob</th>\n",
       "      <th>Lead Number</th>\n",
       "      <th>predicted</th>\n",
       "    </tr>\n",
       "  </thead>\n",
       "  <tbody>\n",
       "    <tr>\n",
       "      <th>0</th>\n",
       "      <td>1</td>\n",
       "      <td>0.089906</td>\n",
       "      <td>618332</td>\n",
       "      <td>0</td>\n",
       "    </tr>\n",
       "    <tr>\n",
       "      <th>1</th>\n",
       "      <td>1</td>\n",
       "      <td>0.998940</td>\n",
       "      <td>605316</td>\n",
       "      <td>1</td>\n",
       "    </tr>\n",
       "    <tr>\n",
       "      <th>2</th>\n",
       "      <td>0</td>\n",
       "      <td>0.003859</td>\n",
       "      <td>655685</td>\n",
       "      <td>0</td>\n",
       "    </tr>\n",
       "    <tr>\n",
       "      <th>3</th>\n",
       "      <td>0</td>\n",
       "      <td>0.157972</td>\n",
       "      <td>581653</td>\n",
       "      <td>0</td>\n",
       "    </tr>\n",
       "    <tr>\n",
       "      <th>4</th>\n",
       "      <td>1</td>\n",
       "      <td>0.631279</td>\n",
       "      <td>619035</td>\n",
       "      <td>1</td>\n",
       "    </tr>\n",
       "  </tbody>\n",
       "</table>\n",
       "</div>"
      ],
      "text/plain": [
       "   Converted  Converted_Prob  Lead Number  predicted\n",
       "0          1        0.089906       618332          0\n",
       "1          1        0.998940       605316          1\n",
       "2          0        0.003859       655685          0\n",
       "3          0        0.157972       581653          0\n",
       "4          1        0.631279       619035          1"
      ]
     },
     "execution_count": 55,
     "metadata": {},
     "output_type": "execute_result"
    }
   ],
   "source": [
    "y_train_pred_final['predicted'] = y_train_pred_final.Converted_Prob.map(lambda x: 1 if x > 0.5 else 0)\n",
    "\n",
    "# Let's see the head\n",
    "y_train_pred_final.head()"
   ]
  },
  {
   "cell_type": "markdown",
   "id": "87210420",
   "metadata": {},
   "source": [
    "# Confusion matrix"
   ]
  },
  {
   "cell_type": "code",
   "execution_count": 56,
   "id": "99e2aa6c",
   "metadata": {},
   "outputs": [
    {
     "name": "stdout",
     "output_type": "stream",
     "text": [
      "For model with arbitrary cut-off 0.5\n",
      "\n",
      "Confusion Matrix:\n",
      "[[3549  154]\n",
      " [ 302 1926]]\n",
      "\n",
      "Overall Accuracy: 0.9231158320687911\n"
     ]
    }
   ],
   "source": [
    "print(\"For model with arbitrary cut-off 0.5\")\n",
    "confusion = metrics.confusion_matrix(y_train_pred_final.Converted, y_train_pred_final.predicted )\n",
    "print(\"\\nConfusion Matrix:\")\n",
    "print(confusion)\n",
    "\n",
    "# Let's check the overall accuracy.\n",
    "print(\"\\nOverall Accuracy:\", metrics.accuracy_score(y_train_pred_final.Converted, y_train_pred_final.predicted))"
   ]
  },
  {
   "cell_type": "markdown",
   "id": "1ba17add",
   "metadata": {},
   "source": [
    "The model has 92% accuracy"
   ]
  },
  {
   "cell_type": "code",
   "execution_count": 57,
   "id": "5dc5638a",
   "metadata": {},
   "outputs": [
    {
     "name": "stdout",
     "output_type": "stream",
     "text": [
      "sensitivity: 0.8644524236983842\n",
      "specificity: 0.9584120982986768\n",
      "false_postive_rate: 0.04158790170132325\n",
      "positive_predictive_value: 0.9259615384615385\n"
     ]
    }
   ],
   "source": [
    "# Let's check the specificity and sensitivity.\n",
    "TP = confusion[1,1] # true positive \n",
    "TN = confusion[0,0] # true negatives\n",
    "FP = confusion[0,1] # false positives\n",
    "FN = confusion[1,0] # false negatives\n",
    "\n",
    "# Let's see the sensitivity\n",
    "# It tells how many conversions have been identified correctly\n",
    "sensitivity = TP / float(TP+FN)\n",
    "\n",
    "# Let us calculate specificity\n",
    "# It tells of all how we correctly detect.\n",
    "specificity = TN / float(TN+FP)\n",
    "\n",
    "# False postive rate - predicting converted when lead have not converted\n",
    "false_postive_rate = FP/ float(TN+FP)\n",
    "\n",
    "# positive predictive value \n",
    "positive_predictive_value = TP / float(TP+FP)\n",
    "\n",
    "# Negative predictive value\n",
    "negative_predictive_value = TN / float(TN+ FN)\n",
    "\n",
    "print(\"sensitivity:\", sensitivity)\n",
    "print(\"specificity:\", specificity)\n",
    "print(\"false_postive_rate:\", false_postive_rate)\n",
    "print(\"positive_predictive_value:\", positive_predictive_value)"
   ]
  },
  {
   "cell_type": "markdown",
   "id": "3e2aec60",
   "metadata": {},
   "source": [
    "Sensitivity of the model is 86%"
   ]
  },
  {
   "cell_type": "markdown",
   "id": "d15b84fc",
   "metadata": {},
   "source": [
    "# Plotting the ROC Curve"
   ]
  },
  {
   "cell_type": "code",
   "execution_count": 58,
   "id": "a51d29bc",
   "metadata": {},
   "outputs": [],
   "source": [
    "def draw_roc( actual, probs ):\n",
    "    fpr, tpr, thresholds = metrics.roc_curve( actual, probs,\n",
    "                                              drop_intermediate = False )\n",
    "    auc_score = metrics.roc_auc_score( actual, probs )\n",
    "    plt.figure(figsize=(5, 5))\n",
    "    plt.plot( fpr, tpr, label='ROC curve (area = %0.2f)' % auc_score )\n",
    "    plt.plot([0, 1], [0, 1], 'k--')\n",
    "    plt.xlim([0.0, 1.0])\n",
    "    plt.ylim([0.0, 1.05])\n",
    "    plt.xlabel('False Positive Rate or [1 - True Negative Rate]')\n",
    "    plt.ylabel('True Positive Rate')\n",
    "    plt.title('Receiver operating characteristic')\n",
    "    plt.legend(loc=\"lower right\")\n",
    "    plt.show()\n",
    "\n",
    "    return None"
   ]
  },
  {
   "cell_type": "code",
   "execution_count": 59,
   "id": "6062d146",
   "metadata": {},
   "outputs": [
    {
     "data": {
      "image/png": "[encoded data removed]",
      "text/plain": [
       "<Figure size 360x360 with 1 Axes>"
      ]
     },
     "metadata": {
      "needs_background": "light"
     },
     "output_type": "display_data"
    }
   ],
   "source": [
    "draw_roc(y_train_pred_final.Converted, y_train_pred_final.Converted_Prob)"
   ]
  },
  {
   "cell_type": "markdown",
   "id": "96785975",
   "metadata": {},
   "source": [
    "# Finding the optimal cut off point"
   ]
  },
  {
   "cell_type": "code",
   "execution_count": 60,
   "id": "d3d74a43",
   "metadata": {},
   "outputs": [
    {
     "data": {
      "text/html": [
       "<div>\n",
       "<style scoped>\n",
       "    .dataframe tbody tr th:only-of-type {\n",
       "        vertical-align: middle;\n",
       "    }\n",
       "\n",
       "    .dataframe tbody tr th {\n",
       "        vertical-align: top;\n",
       "    }\n",
       "\n",
       "    .dataframe thead th {\n",
       "        text-align: right;\n",
       "    }\n",
       "</style>\n",
       "<table border=\"1\" class=\"dataframe\">\n",
       "  <thead>\n",
       "    <tr style=\"text-align: right;\">\n",
       "      <th></th>\n",
       "      <th>Converted</th>\n",
       "      <th>Converted_Prob</th>\n",
       "      <th>Lead Number</th>\n",
       "      <th>predicted</th>\n",
       "      <th>0.0</th>\n",
       "      <th>0.1</th>\n",
       "      <th>0.2</th>\n",
       "      <th>0.3</th>\n",
       "      <th>0.4</th>\n",
       "      <th>0.5</th>\n",
       "      <th>0.6</th>\n",
       "      <th>0.7</th>\n",
       "      <th>0.8</th>\n",
       "      <th>0.9</th>\n",
       "    </tr>\n",
       "  </thead>\n",
       "  <tbody>\n",
       "    <tr>\n",
       "      <th>0</th>\n",
       "      <td>1</td>\n",
       "      <td>0.089906</td>\n",
       "      <td>618332</td>\n",
       "      <td>0</td>\n",
       "      <td>1</td>\n",
       "      <td>0</td>\n",
       "      <td>0</td>\n",
       "      <td>0</td>\n",
       "      <td>0</td>\n",
       "      <td>0</td>\n",
       "      <td>0</td>\n",
       "      <td>0</td>\n",
       "      <td>0</td>\n",
       "      <td>0</td>\n",
       "    </tr>\n",
       "    <tr>\n",
       "      <th>1</th>\n",
       "      <td>1</td>\n",
       "      <td>0.998940</td>\n",
       "      <td>605316</td>\n",
       "      <td>1</td>\n",
       "      <td>1</td>\n",
       "      <td>1</td>\n",
       "      <td>1</td>\n",
       "      <td>1</td>\n",
       "      <td>1</td>\n",
       "      <td>1</td>\n",
       "      <td>1</td>\n",
       "      <td>1</td>\n",
       "      <td>1</td>\n",
       "      <td>1</td>\n",
       "    </tr>\n",
       "    <tr>\n",
       "      <th>2</th>\n",
       "      <td>0</td>\n",
       "      <td>0.003859</td>\n",
       "      <td>655685</td>\n",
       "      <td>0</td>\n",
       "      <td>1</td>\n",
       "      <td>0</td>\n",
       "      <td>0</td>\n",
       "      <td>0</td>\n",
       "      <td>0</td>\n",
       "      <td>0</td>\n",
       "      <td>0</td>\n",
       "      <td>0</td>\n",
       "      <td>0</td>\n",
       "      <td>0</td>\n",
       "    </tr>\n",
       "    <tr>\n",
       "      <th>3</th>\n",
       "      <td>0</td>\n",
       "      <td>0.157972</td>\n",
       "      <td>581653</td>\n",
       "      <td>0</td>\n",
       "      <td>1</td>\n",
       "      <td>1</td>\n",
       "      <td>0</td>\n",
       "      <td>0</td>\n",
       "      <td>0</td>\n",
       "      <td>0</td>\n",
       "      <td>0</td>\n",
       "      <td>0</td>\n",
       "      <td>0</td>\n",
       "      <td>0</td>\n",
       "    </tr>\n",
       "    <tr>\n",
       "      <th>4</th>\n",
       "      <td>1</td>\n",
       "      <td>0.631279</td>\n",
       "      <td>619035</td>\n",
       "      <td>1</td>\n",
       "      <td>1</td>\n",
       "      <td>1</td>\n",
       "      <td>1</td>\n",
       "      <td>1</td>\n",
       "      <td>1</td>\n",
       "      <td>1</td>\n",
       "      <td>1</td>\n",
       "      <td>0</td>\n",
       "      <td>0</td>\n",
       "      <td>0</td>\n",
       "    </tr>\n",
       "  </tbody>\n",
       "</table>\n",
       "</div>"
      ],
      "text/plain": [
       "   Converted  Converted_Prob  Lead Number  predicted  0.0  0.1  0.2  0.3  0.4  \\\n",
       "0          1        0.089906       618332          0    1    0    0    0    0   \n",
       "1          1        0.998940       605316          1    1    1    1    1    1   \n",
       "2          0        0.003859       655685          0    1    0    0    0    0   \n",
       "3          0        0.157972       581653          0    1    1    0    0    0   \n",
       "4          1        0.631279       619035          1    1    1    1    1    1   \n",
       "\n",
       "   0.5  0.6  0.7  0.8  0.9  \n",
       "0    0    0    0    0    0  \n",
       "1    1    1    1    1    1  \n",
       "2    0    0    0    0    0  \n",
       "3    0    0    0    0    0  \n",
       "4    1    1    0    0    0  "
      ]
     },
     "execution_count": 60,
     "metadata": {},
     "output_type": "execute_result"
    }
   ],
   "source": [
    "# Let's create columns with different probability cutoffs \n",
    "numbers = [float(x)/10 for x in range(10)]\n",
    "for i in numbers:\n",
    "    y_train_pred_final[i]= y_train_pred_final.Converted_Prob.map(lambda x: 1 if x > i else 0)\n",
    "y_train_pred_final.head()"
   ]
  },
  {
   "cell_type": "code",
   "execution_count": 61,
   "id": "2692747e",
   "metadata": {},
   "outputs": [
    {
     "name": "stdout",
     "output_type": "stream",
     "text": [
      "     prob  accuracy     sensi     speci\n",
      "0.0   0.0  0.375653  1.000000  0.000000\n",
      "0.1   0.1  0.812173  0.939408  0.735620\n",
      "0.2   0.2  0.921936  0.883752  0.944910\n",
      "0.3   0.3  0.923453  0.882855  0.947880\n",
      "0.4   0.4  0.922610  0.866697  0.956252\n",
      "0.5   0.5  0.923116  0.864452  0.958412\n",
      "0.6   0.6  0.923116  0.864452  0.958412\n",
      "0.7   0.7  0.912156  0.806553  0.975695\n",
      "0.8   0.8  0.890575  0.736984  0.982987\n",
      "0.9   0.9  0.886697  0.715889  0.989468\n"
     ]
    }
   ],
   "source": [
    "# Now let's calculate accuracy sensitivity and specificity for various probability cutoffs.\n",
    "cutoff_dataframe = pd.DataFrame( columns = ['prob','accuracy','sensi','speci'])\n",
    "from sklearn.metrics import confusion_matrix\n",
    "\n",
    "num = [0.0,0.1,0.2,0.3,0.4,0.5,0.6,0.7,0.8,0.9]\n",
    "for i in num:\n",
    "    cm1 = metrics.confusion_matrix(y_train_pred_final.Converted, y_train_pred_final[i] )\n",
    "    total1=sum(sum(cm1))\n",
    "    accuracy = (cm1[0,0]+cm1[1,1])/total1\n",
    "    \n",
    "    speci = cm1[0,0]/(cm1[0,0]+cm1[0,1])\n",
    "    sensi = cm1[1,1]/(cm1[1,0]+cm1[1,1])\n",
    "    cutoff_dataframe.loc[i] =[ i ,accuracy,sensi,speci]\n",
    "print(cutoff_dataframe)"
   ]
  },
  {
   "cell_type": "code",
   "execution_count": 62,
   "id": "d6a51e2d",
   "metadata": {},
   "outputs": [
    {
     "data": {
      "image/png": "[encoded data removed]",
      "text/plain": [
       "<Figure size 576x288 with 1 Axes>"
      ]
     },
     "metadata": {
      "needs_background": "light"
     },
     "output_type": "display_data"
    }
   ],
   "source": [
    "# Let's plot accuracy sensitivity and specificity for various probabilities.\n",
    "cutoff_dataframe.plot.line(x='prob', y=['accuracy','sensi','speci'])\n",
    "plt.show()"
   ]
  },
  {
   "cell_type": "markdown",
   "id": "22bca8bf",
   "metadata": {},
   "source": [
    "After observing the accuracy, sensitivity, and specificity curves, we have determined that a probability cutoff of 0.2 is optimal for evaluating the model."
   ]
  },
  {
   "cell_type": "code",
   "execution_count": 63,
   "id": "de137669",
   "metadata": {},
   "outputs": [
    {
     "data": {
      "text/html": [
       "<div>\n",
       "<style scoped>\n",
       "    .dataframe tbody tr th:only-of-type {\n",
       "        vertical-align: middle;\n",
       "    }\n",
       "\n",
       "    .dataframe tbody tr th {\n",
       "        vertical-align: top;\n",
       "    }\n",
       "\n",
       "    .dataframe thead th {\n",
       "        text-align: right;\n",
       "    }\n",
       "</style>\n",
       "<table border=\"1\" class=\"dataframe\">\n",
       "  <thead>\n",
       "    <tr style=\"text-align: right;\">\n",
       "      <th></th>\n",
       "      <th>Converted</th>\n",
       "      <th>Converted_Prob</th>\n",
       "      <th>Lead Number</th>\n",
       "      <th>predicted</th>\n",
       "      <th>0.0</th>\n",
       "      <th>0.1</th>\n",
       "      <th>0.2</th>\n",
       "      <th>0.3</th>\n",
       "      <th>0.4</th>\n",
       "      <th>0.5</th>\n",
       "      <th>0.6</th>\n",
       "      <th>0.7</th>\n",
       "      <th>0.8</th>\n",
       "      <th>0.9</th>\n",
       "      <th>final_predicted</th>\n",
       "    </tr>\n",
       "  </thead>\n",
       "  <tbody>\n",
       "    <tr>\n",
       "      <th>0</th>\n",
       "      <td>1</td>\n",
       "      <td>0.089906</td>\n",
       "      <td>618332</td>\n",
       "      <td>0</td>\n",
       "      <td>1</td>\n",
       "      <td>0</td>\n",
       "      <td>0</td>\n",
       "      <td>0</td>\n",
       "      <td>0</td>\n",
       "      <td>0</td>\n",
       "      <td>0</td>\n",
       "      <td>0</td>\n",
       "      <td>0</td>\n",
       "      <td>0</td>\n",
       "      <td>0</td>\n",
       "    </tr>\n",
       "    <tr>\n",
       "      <th>1</th>\n",
       "      <td>1</td>\n",
       "      <td>0.998940</td>\n",
       "      <td>605316</td>\n",
       "      <td>1</td>\n",
       "      <td>1</td>\n",
       "      <td>1</td>\n",
       "      <td>1</td>\n",
       "      <td>1</td>\n",
       "      <td>1</td>\n",
       "      <td>1</td>\n",
       "      <td>1</td>\n",
       "      <td>1</td>\n",
       "      <td>1</td>\n",
       "      <td>1</td>\n",
       "      <td>1</td>\n",
       "    </tr>\n",
       "    <tr>\n",
       "      <th>2</th>\n",
       "      <td>0</td>\n",
       "      <td>0.003859</td>\n",
       "      <td>655685</td>\n",
       "      <td>0</td>\n",
       "      <td>1</td>\n",
       "      <td>0</td>\n",
       "      <td>0</td>\n",
       "      <td>0</td>\n",
       "      <td>0</td>\n",
       "      <td>0</td>\n",
       "      <td>0</td>\n",
       "      <td>0</td>\n",
       "      <td>0</td>\n",
       "      <td>0</td>\n",
       "      <td>0</td>\n",
       "    </tr>\n",
       "    <tr>\n",
       "      <th>3</th>\n",
       "      <td>0</td>\n",
       "      <td>0.157972</td>\n",
       "      <td>581653</td>\n",
       "      <td>0</td>\n",
       "      <td>1</td>\n",
       "      <td>1</td>\n",
       "      <td>0</td>\n",
       "      <td>0</td>\n",
       "      <td>0</td>\n",
       "      <td>0</td>\n",
       "      <td>0</td>\n",
       "      <td>0</td>\n",
       "      <td>0</td>\n",
       "      <td>0</td>\n",
       "      <td>0</td>\n",
       "    </tr>\n",
       "    <tr>\n",
       "      <th>4</th>\n",
       "      <td>1</td>\n",
       "      <td>0.631279</td>\n",
       "      <td>619035</td>\n",
       "      <td>1</td>\n",
       "      <td>1</td>\n",
       "      <td>1</td>\n",
       "      <td>1</td>\n",
       "      <td>1</td>\n",
       "      <td>1</td>\n",
       "      <td>1</td>\n",
       "      <td>1</td>\n",
       "      <td>0</td>\n",
       "      <td>0</td>\n",
       "      <td>0</td>\n",
       "      <td>1</td>\n",
       "    </tr>\n",
       "  </tbody>\n",
       "</table>\n",
       "</div>"
      ],
      "text/plain": [
       "   Converted  Converted_Prob  Lead Number  predicted  0.0  0.1  0.2  0.3  0.4  \\\n",
       "0          1        0.089906       618332          0    1    0    0    0    0   \n",
       "1          1        0.998940       605316          1    1    1    1    1    1   \n",
       "2          0        0.003859       655685          0    1    0    0    0    0   \n",
       "3          0        0.157972       581653          0    1    1    0    0    0   \n",
       "4          1        0.631279       619035          1    1    1    1    1    1   \n",
       "\n",
       "   0.5  0.6  0.7  0.8  0.9  final_predicted  \n",
       "0    0    0    0    0    0                0  \n",
       "1    1    1    1    1    1                1  \n",
       "2    0    0    0    0    0                0  \n",
       "3    0    0    0    0    0                0  \n",
       "4    1    1    0    0    0                1  "
      ]
     },
     "execution_count": 63,
     "metadata": {},
     "output_type": "execute_result"
    }
   ],
   "source": [
    "# From the above plot we get to know that 0.29 is the optimum point to take it as a cut-off\n",
    "y_train_pred_final['final_predicted'] = y_train_pred_final.Converted_Prob.map( lambda x: 1 if x > 0.2 else 0)\n",
    "\n",
    "y_train_pred_final.head()"
   ]
  },
  {
   "cell_type": "code",
   "execution_count": 64,
   "id": "38637c5e",
   "metadata": {},
   "outputs": [
    {
     "name": "stdout",
     "output_type": "stream",
     "text": [
      "Accuracy: 0.9219355926487944\n",
      "\n",
      "Confusion Matrix:\n",
      "[[3499  204]\n",
      " [ 259 1969]]\n",
      "\n",
      "sensitivity: 0.8837522441651705\n",
      "specificity: 0.9449095328112341\n",
      "false_postive_rate: 0.05509046718876587\n",
      "positive_predictive_value: 0.9061205706396687\n",
      "negative_predictive_value: 0.9310803618946248\n"
     ]
    }
   ],
   "source": [
    "# Accuracy of model with cut-off 0.2\n",
    "accuracy = metrics.accuracy_score(y_train_pred_final.Converted, y_train_pred_final.final_predicted)\n",
    "print(\"Accuracy:\", accuracy)\n",
    "\n",
    "confusion2 = metrics.confusion_matrix(y_train_pred_final.Converted, y_train_pred_final.final_predicted )\n",
    "print(\"\\nConfusion Matrix:\")\n",
    "print(confusion2)\n",
    "\n",
    "TP = confusion2[1,1] # true positive \n",
    "TN = confusion2[0,0] # true negatives\n",
    "FP = confusion2[0,1] # false positives\n",
    "FN = confusion2[1,0] # false negatives\n",
    "\n",
    "# Let's see the sensitivity\n",
    "sensitivity = TP / float(TP+FN)\n",
    "\n",
    "# Let us calculate specificity\n",
    "specificity = TN / float(TN+FP)\n",
    "\n",
    "# False postive rate - predicting converted when lead have not converted\n",
    "false_postive_rate = FP/ float(TN+FP)\n",
    "\n",
    "# positive predictive value \n",
    "positive_predictive_value = TP / float(TP+FP)\n",
    "\n",
    "# Negative predictive value\n",
    "negative_predictive_value = TN / float(TN+ FN)\n",
    "\n",
    "print(\"\\nsensitivity:\", sensitivity)\n",
    "print(\"specificity:\", specificity)\n",
    "print(\"false_postive_rate:\", false_postive_rate)\n",
    "print(\"positive_predictive_value:\", positive_predictive_value)\n",
    "print(\"negative_predictive_value:\", negative_predictive_value)\n"
   ]
  },
  {
   "cell_type": "markdown",
   "id": "cbf2dda8",
   "metadata": {},
   "source": [
    "# Precision and Recall"
   ]
  },
  {
   "cell_type": "code",
   "execution_count": 65,
   "id": "1a28096d",
   "metadata": {},
   "outputs": [
    {
     "name": "stdout",
     "output_type": "stream",
     "text": [
      "Confusion Matrix:\n",
      "[[3549  154]\n",
      " [ 302 1926]]\n",
      "\n",
      "precision: 0.9259615384615385\n",
      "recall: 0.8644524236983842\n"
     ]
    }
   ],
   "source": [
    "confusion = metrics.confusion_matrix(y_train_pred_final.Converted, y_train_pred_final.predicted)\n",
    "print(\"Confusion Matrix:\")\n",
    "print(confusion)\n",
    "\n",
    "#Precision = TP / TP + FP\n",
    "precision = confusion[1,1]/(confusion[0,1]+confusion[1,1])\n",
    "\n",
    "#Recall = TP / TP + FN\n",
    "recall = confusion[1,1]/(confusion[1,0]+confusion[1,1])\n",
    "\n",
    "print(\"\\nprecision:\", precision)\n",
    "print(\"recall:\", recall)"
   ]
  },
  {
   "cell_type": "code",
   "execution_count": 66,
   "id": "b38a61fc",
   "metadata": {},
   "outputs": [
    {
     "name": "stdout",
     "output_type": "stream",
     "text": [
      "Precision: 0.9259615384615385\n",
      "Recall: 0.8644524236983842\n"
     ]
    }
   ],
   "source": [
    "#Using sklearn to calculate the same\n",
    "from sklearn.metrics import precision_score, recall_score\n",
    "print(\"Precision:\", precision_score(y_train_pred_final.Converted, y_train_pred_final.predicted))\n",
    "print(\"Recall:\", recall_score(y_train_pred_final.Converted, y_train_pred_final.predicted))"
   ]
  },
  {
   "cell_type": "code",
   "execution_count": 67,
   "id": "62772706",
   "metadata": {},
   "outputs": [
    {
     "data": {
      "image/png": "[encoded data removed]",
      "text/plain": [
       "<Figure size 576x288 with 1 Axes>"
      ]
     },
     "metadata": {
      "needs_background": "light"
     },
     "output_type": "display_data"
    }
   ],
   "source": [
    "from sklearn.metrics import precision_recall_curve\n",
    "p, r, thresholds = precision_recall_curve(y_train_pred_final.Converted, y_train_pred_final.Converted_Prob)\n",
    "plt.plot(thresholds, p[:-1], \"g-\")\n",
    "plt.plot(thresholds, r[:-1], \"r-\")\n",
    "plt.show()"
   ]
  },
  {
   "cell_type": "markdown",
   "id": "a81481f3",
   "metadata": {},
   "source": [
    "# Making Predictions on the test dataset"
   ]
  },
  {
   "cell_type": "code",
   "execution_count": 68,
   "id": "411149d7",
   "metadata": {},
   "outputs": [],
   "source": [
    "#Scaling continuous vars of test data\n",
    "X_test[['TotalVisits','Total Time Spent on Website','Page Views Per Visit']] = scaler.transform(X_test[['TotalVisits',\n",
    "                                                            'Total Time Spent on Website','Page Views Per Visit']])"
   ]
  },
  {
   "cell_type": "code",
   "execution_count": 69,
   "id": "7147e412",
   "metadata": {},
   "outputs": [],
   "source": [
    "X_test = X_test[col2]\n",
    "X_test_sm = sm.add_constant(X_test)\n",
    "\n",
    "# Making prediction on the test set:\n",
    "y_test_pred = res.predict(X_test_sm)"
   ]
  },
  {
   "cell_type": "code",
   "execution_count": 70,
   "id": "093acac6",
   "metadata": {},
   "outputs": [],
   "source": [
    "# Converting y_pred to a dataframe which is an array\n",
    "y_pred_1 = pd.DataFrame(y_test_pred)\n",
    "\n",
    "# Converting y_test to dataframe\n",
    "y_test_df = pd.DataFrame(y_test)\n",
    "\n",
    "#Putting Lead Number to index\n",
    "y_test_df['Lead Number'] = y_test_df.index\n",
    "\n",
    "# Removing index for both dataframes to append them side by side \n",
    "y_test_df.reset_index(drop=True, inplace=True)\n",
    "y_pred_1.reset_index(drop=True, inplace=True)\n",
    "\n",
    "# Appending y_test_df and y_pred_1\n",
    "y_pred_final = pd.concat([y_test_df, y_pred_1],axis=1)"
   ]
  },
  {
   "cell_type": "code",
   "execution_count": 71,
   "id": "fd806c59",
   "metadata": {},
   "outputs": [
    {
     "data": {
      "text/html": [
       "<div>\n",
       "<style scoped>\n",
       "    .dataframe tbody tr th:only-of-type {\n",
       "        vertical-align: middle;\n",
       "    }\n",
       "\n",
       "    .dataframe tbody tr th {\n",
       "        vertical-align: top;\n",
       "    }\n",
       "\n",
       "    .dataframe thead th {\n",
       "        text-align: right;\n",
       "    }\n",
       "</style>\n",
       "<table border=\"1\" class=\"dataframe\">\n",
       "  <thead>\n",
       "    <tr style=\"text-align: right;\">\n",
       "      <th></th>\n",
       "      <th>Converted</th>\n",
       "      <th>Lead Number</th>\n",
       "      <th>Converted_Prob</th>\n",
       "    </tr>\n",
       "  </thead>\n",
       "  <tbody>\n",
       "    <tr>\n",
       "      <th>0</th>\n",
       "      <td>0</td>\n",
       "      <td>590700</td>\n",
       "      <td>0.004358</td>\n",
       "    </tr>\n",
       "    <tr>\n",
       "      <th>1</th>\n",
       "      <td>1</td>\n",
       "      <td>594833</td>\n",
       "      <td>0.996683</td>\n",
       "    </tr>\n",
       "    <tr>\n",
       "      <th>2</th>\n",
       "      <td>0</td>\n",
       "      <td>600817</td>\n",
       "      <td>0.089906</td>\n",
       "    </tr>\n",
       "    <tr>\n",
       "      <th>3</th>\n",
       "      <td>0</td>\n",
       "      <td>656621</td>\n",
       "      <td>0.003859</td>\n",
       "    </tr>\n",
       "    <tr>\n",
       "      <th>4</th>\n",
       "      <td>0</td>\n",
       "      <td>580732</td>\n",
       "      <td>0.042278</td>\n",
       "    </tr>\n",
       "  </tbody>\n",
       "</table>\n",
       "</div>"
      ],
      "text/plain": [
       "   Converted  Lead Number  Converted_Prob\n",
       "0          0       590700        0.004358\n",
       "1          1       594833        0.996683\n",
       "2          0       600817        0.089906\n",
       "3          0       656621        0.003859\n",
       "4          0       580732        0.042278"
      ]
     },
     "execution_count": 71,
     "metadata": {},
     "output_type": "execute_result"
    }
   ],
   "source": [
    "# Renaming the column \n",
    "y_pred_final= y_pred_final.rename(columns={ 0 : 'Converted_Prob'})\n",
    "y_pred_final.head()"
   ]
  },
  {
   "cell_type": "code",
   "execution_count": 72,
   "id": "5e41ece3",
   "metadata": {},
   "outputs": [
    {
     "data": {
      "text/html": [
       "<div>\n",
       "<style scoped>\n",
       "    .dataframe tbody tr th:only-of-type {\n",
       "        vertical-align: middle;\n",
       "    }\n",
       "\n",
       "    .dataframe tbody tr th {\n",
       "        vertical-align: top;\n",
       "    }\n",
       "\n",
       "    .dataframe thead th {\n",
       "        text-align: right;\n",
       "    }\n",
       "</style>\n",
       "<table border=\"1\" class=\"dataframe\">\n",
       "  <thead>\n",
       "    <tr style=\"text-align: right;\">\n",
       "      <th></th>\n",
       "      <th>Converted</th>\n",
       "      <th>Lead Number</th>\n",
       "      <th>Converted_Prob</th>\n",
       "      <th>final_predicted</th>\n",
       "    </tr>\n",
       "  </thead>\n",
       "  <tbody>\n",
       "    <tr>\n",
       "      <th>0</th>\n",
       "      <td>0</td>\n",
       "      <td>590700</td>\n",
       "      <td>0.004358</td>\n",
       "      <td>0</td>\n",
       "    </tr>\n",
       "    <tr>\n",
       "      <th>1</th>\n",
       "      <td>1</td>\n",
       "      <td>594833</td>\n",
       "      <td>0.996683</td>\n",
       "      <td>1</td>\n",
       "    </tr>\n",
       "    <tr>\n",
       "      <th>2</th>\n",
       "      <td>0</td>\n",
       "      <td>600817</td>\n",
       "      <td>0.089906</td>\n",
       "      <td>0</td>\n",
       "    </tr>\n",
       "    <tr>\n",
       "      <th>3</th>\n",
       "      <td>0</td>\n",
       "      <td>656621</td>\n",
       "      <td>0.003859</td>\n",
       "      <td>0</td>\n",
       "    </tr>\n",
       "    <tr>\n",
       "      <th>4</th>\n",
       "      <td>0</td>\n",
       "      <td>580732</td>\n",
       "      <td>0.042278</td>\n",
       "      <td>0</td>\n",
       "    </tr>\n",
       "  </tbody>\n",
       "</table>\n",
       "</div>"
      ],
      "text/plain": [
       "   Converted  Lead Number  Converted_Prob  final_predicted\n",
       "0          0       590700        0.004358                0\n",
       "1          1       594833        0.996683                1\n",
       "2          0       600817        0.089906                0\n",
       "3          0       656621        0.003859                0\n",
       "4          0       580732        0.042278                0"
      ]
     },
     "execution_count": 72,
     "metadata": {},
     "output_type": "execute_result"
    }
   ],
   "source": [
    "# Creating predicted column with 0.2 probability cutoff\n",
    "y_pred_final['final_predicted'] = y_pred_final.Converted_Prob.map(lambda x: 1 if x > 0.2 else 0)\n",
    "\n",
    "y_pred_final.head()"
   ]
  },
  {
   "cell_type": "markdown",
   "id": "cfc6dad6",
   "metadata": {},
   "source": [
    "# Accuracy"
   ]
  },
  {
   "cell_type": "code",
   "execution_count": 73,
   "id": "736ed0ac",
   "metadata": {},
   "outputs": [
    {
     "name": "stdout",
     "output_type": "stream",
     "text": [
      "Accuracy: 0.9233189146677153\n",
      "\n",
      "Confusion Matrix:\n",
      "[[1494   86]\n",
      " [ 109  854]]\n",
      "\n",
      "Sensitivity: 0.8868120456905504\n",
      "Specificity: 0.9455696202531646\n"
     ]
    }
   ],
   "source": [
    "accuracy = metrics.accuracy_score(y_pred_final.Converted, y_pred_final.final_predicted)\n",
    "print(\"Accuracy:\", accuracy)\n",
    "\n",
    "confusion3 = metrics.confusion_matrix(y_pred_final.Converted, y_pred_final.final_predicted )\n",
    "print(\"\\nConfusion Matrix:\")\n",
    "print(confusion3)\n",
    "\n",
    "TP = confusion3[1,1] # true positive \n",
    "TN = confusion3[0,0] # true negatives\n",
    "FP = confusion3[0,1] # false positives\n",
    "FN = confusion3[1,0] # false negatives\n",
    "\n",
    "# Let's see the sensitivity of our logistic regression model\n",
    "print(\"\\nSensitivity:\", TP / float(TP+FN))\n",
    "\n",
    "# Let us calculate specificity\n",
    "print(\"Specificity:\", TN / float(TN+FP))"
   ]
  },
  {
   "cell_type": "markdown",
   "id": "3fb11eee",
   "metadata": {},
   "source": [
    "# Calculating the lead score\n",
    "Lead Score = 100 * ConversionProbability"
   ]
  },
  {
   "cell_type": "code",
   "execution_count": 74,
   "id": "0884a4a6",
   "metadata": {},
   "outputs": [
    {
     "data": {
      "text/html": [
       "<div>\n",
       "<style scoped>\n",
       "    .dataframe tbody tr th:only-of-type {\n",
       "        vertical-align: middle;\n",
       "    }\n",
       "\n",
       "    .dataframe tbody tr th {\n",
       "        vertical-align: top;\n",
       "    }\n",
       "\n",
       "    .dataframe thead th {\n",
       "        text-align: right;\n",
       "    }\n",
       "</style>\n",
       "<table border=\"1\" class=\"dataframe\">\n",
       "  <thead>\n",
       "    <tr style=\"text-align: right;\">\n",
       "      <th></th>\n",
       "      <th>Converted</th>\n",
       "      <th>Lead Number</th>\n",
       "      <th>Converted_Prob</th>\n",
       "      <th>final_predicted</th>\n",
       "    </tr>\n",
       "  </thead>\n",
       "  <tbody>\n",
       "    <tr>\n",
       "      <th>0</th>\n",
       "      <td>0</td>\n",
       "      <td>590700</td>\n",
       "      <td>0.004358</td>\n",
       "      <td>0</td>\n",
       "    </tr>\n",
       "    <tr>\n",
       "      <th>1</th>\n",
       "      <td>1</td>\n",
       "      <td>594833</td>\n",
       "      <td>0.996683</td>\n",
       "      <td>1</td>\n",
       "    </tr>\n",
       "    <tr>\n",
       "      <th>2</th>\n",
       "      <td>0</td>\n",
       "      <td>600817</td>\n",
       "      <td>0.089906</td>\n",
       "      <td>0</td>\n",
       "    </tr>\n",
       "    <tr>\n",
       "      <th>3</th>\n",
       "      <td>0</td>\n",
       "      <td>656621</td>\n",
       "      <td>0.003859</td>\n",
       "      <td>0</td>\n",
       "    </tr>\n",
       "    <tr>\n",
       "      <th>4</th>\n",
       "      <td>0</td>\n",
       "      <td>580732</td>\n",
       "      <td>0.042278</td>\n",
       "      <td>0</td>\n",
       "    </tr>\n",
       "  </tbody>\n",
       "</table>\n",
       "</div>"
      ],
      "text/plain": [
       "   Converted  Lead Number  Converted_Prob  final_predicted\n",
       "0          0       590700        0.004358                0\n",
       "1          1       594833        0.996683                1\n",
       "2          0       600817        0.089906                0\n",
       "3          0       656621        0.003859                0\n",
       "4          0       580732        0.042278                0"
      ]
     },
     "execution_count": 74,
     "metadata": {},
     "output_type": "execute_result"
    }
   ],
   "source": [
    "# Selecting the test dataset along with the Conversion Probability and final predicted value for 'Converted'\n",
    "leads_test_pred = y_pred_final.copy()\n",
    "leads_test_pred.head()"
   ]
  },
  {
   "cell_type": "code",
   "execution_count": 75,
   "id": "46ee3efe",
   "metadata": {},
   "outputs": [
    {
     "data": {
      "text/html": [
       "<div>\n",
       "<style scoped>\n",
       "    .dataframe tbody tr th:only-of-type {\n",
       "        vertical-align: middle;\n",
       "    }\n",
       "\n",
       "    .dataframe tbody tr th {\n",
       "        vertical-align: top;\n",
       "    }\n",
       "\n",
       "    .dataframe thead th {\n",
       "        text-align: right;\n",
       "    }\n",
       "</style>\n",
       "<table border=\"1\" class=\"dataframe\">\n",
       "  <thead>\n",
       "    <tr style=\"text-align: right;\">\n",
       "      <th></th>\n",
       "      <th>Converted</th>\n",
       "      <th>Converted_Prob</th>\n",
       "      <th>Lead Number</th>\n",
       "      <th>predicted</th>\n",
       "      <th>0.0</th>\n",
       "      <th>0.1</th>\n",
       "      <th>0.2</th>\n",
       "      <th>0.3</th>\n",
       "      <th>0.4</th>\n",
       "      <th>0.5</th>\n",
       "      <th>0.6</th>\n",
       "      <th>0.7</th>\n",
       "      <th>0.8</th>\n",
       "      <th>0.9</th>\n",
       "      <th>final_predicted</th>\n",
       "    </tr>\n",
       "  </thead>\n",
       "  <tbody>\n",
       "    <tr>\n",
       "      <th>0</th>\n",
       "      <td>1</td>\n",
       "      <td>0.089906</td>\n",
       "      <td>618332</td>\n",
       "      <td>0</td>\n",
       "      <td>1</td>\n",
       "      <td>0</td>\n",
       "      <td>0</td>\n",
       "      <td>0</td>\n",
       "      <td>0</td>\n",
       "      <td>0</td>\n",
       "      <td>0</td>\n",
       "      <td>0</td>\n",
       "      <td>0</td>\n",
       "      <td>0</td>\n",
       "      <td>0</td>\n",
       "    </tr>\n",
       "    <tr>\n",
       "      <th>1</th>\n",
       "      <td>1</td>\n",
       "      <td>0.998940</td>\n",
       "      <td>605316</td>\n",
       "      <td>1</td>\n",
       "      <td>1</td>\n",
       "      <td>1</td>\n",
       "      <td>1</td>\n",
       "      <td>1</td>\n",
       "      <td>1</td>\n",
       "      <td>1</td>\n",
       "      <td>1</td>\n",
       "      <td>1</td>\n",
       "      <td>1</td>\n",
       "      <td>1</td>\n",
       "      <td>1</td>\n",
       "    </tr>\n",
       "    <tr>\n",
       "      <th>2</th>\n",
       "      <td>0</td>\n",
       "      <td>0.003859</td>\n",
       "      <td>655685</td>\n",
       "      <td>0</td>\n",
       "      <td>1</td>\n",
       "      <td>0</td>\n",
       "      <td>0</td>\n",
       "      <td>0</td>\n",
       "      <td>0</td>\n",
       "      <td>0</td>\n",
       "      <td>0</td>\n",
       "      <td>0</td>\n",
       "      <td>0</td>\n",
       "      <td>0</td>\n",
       "      <td>0</td>\n",
       "    </tr>\n",
       "    <tr>\n",
       "      <th>3</th>\n",
       "      <td>0</td>\n",
       "      <td>0.157972</td>\n",
       "      <td>581653</td>\n",
       "      <td>0</td>\n",
       "      <td>1</td>\n",
       "      <td>1</td>\n",
       "      <td>0</td>\n",
       "      <td>0</td>\n",
       "      <td>0</td>\n",
       "      <td>0</td>\n",
       "      <td>0</td>\n",
       "      <td>0</td>\n",
       "      <td>0</td>\n",
       "      <td>0</td>\n",
       "      <td>0</td>\n",
       "    </tr>\n",
       "    <tr>\n",
       "      <th>4</th>\n",
       "      <td>1</td>\n",
       "      <td>0.631279</td>\n",
       "      <td>619035</td>\n",
       "      <td>1</td>\n",
       "      <td>1</td>\n",
       "      <td>1</td>\n",
       "      <td>1</td>\n",
       "      <td>1</td>\n",
       "      <td>1</td>\n",
       "      <td>1</td>\n",
       "      <td>1</td>\n",
       "      <td>0</td>\n",
       "      <td>0</td>\n",
       "      <td>0</td>\n",
       "      <td>1</td>\n",
       "    </tr>\n",
       "  </tbody>\n",
       "</table>\n",
       "</div>"
      ],
      "text/plain": [
       "   Converted  Converted_Prob  Lead Number  predicted  0.0  0.1  0.2  0.3  0.4  \\\n",
       "0          1        0.089906       618332          0    1    0    0    0    0   \n",
       "1          1        0.998940       605316          1    1    1    1    1    1   \n",
       "2          0        0.003859       655685          0    1    0    0    0    0   \n",
       "3          0        0.157972       581653          0    1    1    0    0    0   \n",
       "4          1        0.631279       619035          1    1    1    1    1    1   \n",
       "\n",
       "   0.5  0.6  0.7  0.8  0.9  final_predicted  \n",
       "0    0    0    0    0    0                0  \n",
       "1    1    1    1    1    1                1  \n",
       "2    0    0    0    0    0                0  \n",
       "3    0    0    0    0    0                0  \n",
       "4    1    1    0    0    0                1  "
      ]
     },
     "execution_count": 75,
     "metadata": {},
     "output_type": "execute_result"
    }
   ],
   "source": [
    "# Selecting the train dataset along with the Conversion Probability and final predicted value for 'Converted'\n",
    "leads_train_pred = y_train_pred_final.copy()\n",
    "leads_train_pred.head()"
   ]
  },
  {
   "cell_type": "code",
   "execution_count": 76,
   "id": "04999dc4",
   "metadata": {},
   "outputs": [
    {
     "data": {
      "text/html": [
       "<div>\n",
       "<style scoped>\n",
       "    .dataframe tbody tr th:only-of-type {\n",
       "        vertical-align: middle;\n",
       "    }\n",
       "\n",
       "    .dataframe tbody tr th {\n",
       "        vertical-align: top;\n",
       "    }\n",
       "\n",
       "    .dataframe thead th {\n",
       "        text-align: right;\n",
       "    }\n",
       "</style>\n",
       "<table border=\"1\" class=\"dataframe\">\n",
       "  <thead>\n",
       "    <tr style=\"text-align: right;\">\n",
       "      <th></th>\n",
       "      <th>Lead Number</th>\n",
       "      <th>Converted</th>\n",
       "      <th>Converted_Prob</th>\n",
       "      <th>final_predicted</th>\n",
       "    </tr>\n",
       "  </thead>\n",
       "  <tbody>\n",
       "    <tr>\n",
       "      <th>0</th>\n",
       "      <td>618332</td>\n",
       "      <td>1</td>\n",
       "      <td>0.089906</td>\n",
       "      <td>0</td>\n",
       "    </tr>\n",
       "    <tr>\n",
       "      <th>1</th>\n",
       "      <td>605316</td>\n",
       "      <td>1</td>\n",
       "      <td>0.998940</td>\n",
       "      <td>1</td>\n",
       "    </tr>\n",
       "    <tr>\n",
       "      <th>2</th>\n",
       "      <td>655685</td>\n",
       "      <td>0</td>\n",
       "      <td>0.003859</td>\n",
       "      <td>0</td>\n",
       "    </tr>\n",
       "    <tr>\n",
       "      <th>3</th>\n",
       "      <td>581653</td>\n",
       "      <td>0</td>\n",
       "      <td>0.157972</td>\n",
       "      <td>0</td>\n",
       "    </tr>\n",
       "    <tr>\n",
       "      <th>4</th>\n",
       "      <td>619035</td>\n",
       "      <td>1</td>\n",
       "      <td>0.631279</td>\n",
       "      <td>1</td>\n",
       "    </tr>\n",
       "  </tbody>\n",
       "</table>\n",
       "</div>"
      ],
      "text/plain": [
       "   Lead Number  Converted  Converted_Prob  final_predicted\n",
       "0       618332          1        0.089906                0\n",
       "1       605316          1        0.998940                1\n",
       "2       655685          0        0.003859                0\n",
       "3       581653          0        0.157972                0\n",
       "4       619035          1        0.631279                1"
      ]
     },
     "execution_count": 76,
     "metadata": {},
     "output_type": "execute_result"
    }
   ],
   "source": [
    "# Dropping unnecessary columns from train dataset\n",
    "leads_train_pred = leads_train_pred[['Lead Number','Converted','Converted_Prob','final_predicted']]\n",
    "leads_train_pred.head()"
   ]
  },
  {
   "cell_type": "code",
   "execution_count": 77,
   "id": "29603a94",
   "metadata": {},
   "outputs": [
    {
     "data": {
      "text/html": [
       "<div>\n",
       "<style scoped>\n",
       "    .dataframe tbody tr th:only-of-type {\n",
       "        vertical-align: middle;\n",
       "    }\n",
       "\n",
       "    .dataframe tbody tr th {\n",
       "        vertical-align: top;\n",
       "    }\n",
       "\n",
       "    .dataframe thead th {\n",
       "        text-align: right;\n",
       "    }\n",
       "</style>\n",
       "<table border=\"1\" class=\"dataframe\">\n",
       "  <thead>\n",
       "    <tr style=\"text-align: right;\">\n",
       "      <th></th>\n",
       "      <th>Lead Number</th>\n",
       "      <th>Converted</th>\n",
       "      <th>Converted_Prob</th>\n",
       "      <th>final_predicted</th>\n",
       "    </tr>\n",
       "  </thead>\n",
       "  <tbody>\n",
       "    <tr>\n",
       "      <th>0</th>\n",
       "      <td>618332</td>\n",
       "      <td>1</td>\n",
       "      <td>0.089906</td>\n",
       "      <td>0</td>\n",
       "    </tr>\n",
       "    <tr>\n",
       "      <th>1</th>\n",
       "      <td>605316</td>\n",
       "      <td>1</td>\n",
       "      <td>0.998940</td>\n",
       "      <td>1</td>\n",
       "    </tr>\n",
       "    <tr>\n",
       "      <th>2</th>\n",
       "      <td>655685</td>\n",
       "      <td>0</td>\n",
       "      <td>0.003859</td>\n",
       "      <td>0</td>\n",
       "    </tr>\n",
       "    <tr>\n",
       "      <th>3</th>\n",
       "      <td>581653</td>\n",
       "      <td>0</td>\n",
       "      <td>0.157972</td>\n",
       "      <td>0</td>\n",
       "    </tr>\n",
       "    <tr>\n",
       "      <th>4</th>\n",
       "      <td>619035</td>\n",
       "      <td>1</td>\n",
       "      <td>0.631279</td>\n",
       "      <td>1</td>\n",
       "    </tr>\n",
       "  </tbody>\n",
       "</table>\n",
       "</div>"
      ],
      "text/plain": [
       "   Lead Number  Converted  Converted_Prob  final_predicted\n",
       "0       618332          1        0.089906                0\n",
       "1       605316          1        0.998940                1\n",
       "2       655685          0        0.003859                0\n",
       "3       581653          0        0.157972                0\n",
       "4       619035          1        0.631279                1"
      ]
     },
     "execution_count": 77,
     "metadata": {},
     "output_type": "execute_result"
    }
   ],
   "source": [
    "# Concatenating the 2 dataframes train and test along the rows with the append() function\n",
    "lead_full_pred = leads_train_pred.append(leads_test_pred)\n",
    "lead_full_pred.head()"
   ]
  },
  {
   "cell_type": "code",
   "execution_count": 78,
   "id": "990a6894",
   "metadata": {},
   "outputs": [
    {
     "name": "stdout",
     "output_type": "stream",
     "text": [
      "(5931, 4)\n",
      "(2543, 4)\n",
      "(8474, 4)\n"
     ]
    }
   ],
   "source": [
    "# Inspecting the shape of the final dataframe and the test and train dataframes\n",
    "print(leads_train_pred.shape)\n",
    "print(leads_test_pred.shape)\n",
    "print(lead_full_pred.shape)"
   ]
  },
  {
   "cell_type": "code",
   "execution_count": 79,
   "id": "f2ec6d81",
   "metadata": {},
   "outputs": [
    {
     "data": {
      "text/plain": [
       "8474"
      ]
     },
     "execution_count": 79,
     "metadata": {},
     "output_type": "execute_result"
    }
   ],
   "source": [
    "# Ensuring the Lead Numbers are unique for each lead in the finl dataframe\n",
    "len(lead_full_pred['Lead Number'].unique().tolist())"
   ]
  },
  {
   "cell_type": "code",
   "execution_count": 80,
   "id": "a6f43191",
   "metadata": {},
   "outputs": [
    {
     "data": {
      "text/html": [
       "<div>\n",
       "<style scoped>\n",
       "    .dataframe tbody tr th:only-of-type {\n",
       "        vertical-align: middle;\n",
       "    }\n",
       "\n",
       "    .dataframe tbody tr th {\n",
       "        vertical-align: top;\n",
       "    }\n",
       "\n",
       "    .dataframe thead th {\n",
       "        text-align: right;\n",
       "    }\n",
       "</style>\n",
       "<table border=\"1\" class=\"dataframe\">\n",
       "  <thead>\n",
       "    <tr style=\"text-align: right;\">\n",
       "      <th></th>\n",
       "      <th>Lead Number</th>\n",
       "      <th>Converted</th>\n",
       "      <th>Converted_Prob</th>\n",
       "      <th>final_predicted</th>\n",
       "      <th>Lead_Score</th>\n",
       "    </tr>\n",
       "  </thead>\n",
       "  <tbody>\n",
       "    <tr>\n",
       "      <th>0</th>\n",
       "      <td>618332</td>\n",
       "      <td>1</td>\n",
       "      <td>0.089906</td>\n",
       "      <td>0</td>\n",
       "      <td>9</td>\n",
       "    </tr>\n",
       "    <tr>\n",
       "      <th>1</th>\n",
       "      <td>605316</td>\n",
       "      <td>1</td>\n",
       "      <td>0.998940</td>\n",
       "      <td>1</td>\n",
       "      <td>100</td>\n",
       "    </tr>\n",
       "    <tr>\n",
       "      <th>2</th>\n",
       "      <td>655685</td>\n",
       "      <td>0</td>\n",
       "      <td>0.003859</td>\n",
       "      <td>0</td>\n",
       "      <td>0</td>\n",
       "    </tr>\n",
       "    <tr>\n",
       "      <th>3</th>\n",
       "      <td>581653</td>\n",
       "      <td>0</td>\n",
       "      <td>0.157972</td>\n",
       "      <td>0</td>\n",
       "      <td>16</td>\n",
       "    </tr>\n",
       "    <tr>\n",
       "      <th>4</th>\n",
       "      <td>619035</td>\n",
       "      <td>1</td>\n",
       "      <td>0.631279</td>\n",
       "      <td>1</td>\n",
       "      <td>63</td>\n",
       "    </tr>\n",
       "  </tbody>\n",
       "</table>\n",
       "</div>"
      ],
      "text/plain": [
       "   Lead Number  Converted  Converted_Prob  final_predicted  Lead_Score\n",
       "0       618332          1        0.089906                0           9\n",
       "1       605316          1        0.998940                1         100\n",
       "2       655685          0        0.003859                0           0\n",
       "3       581653          0        0.157972                0          16\n",
       "4       619035          1        0.631279                1          63"
      ]
     },
     "execution_count": 80,
     "metadata": {},
     "output_type": "execute_result"
    }
   ],
   "source": [
    "# Calculating the Lead Score value\n",
    "# Lead Score = 100 * Conversion_Prob\n",
    "lead_full_pred['Lead_Score'] = lead_full_pred['Converted_Prob'].apply(lambda x : round(x*100))\n",
    "lead_full_pred.head()"
   ]
  },
  {
   "cell_type": "code",
   "execution_count": 81,
   "id": "a1ab9f3d",
   "metadata": {},
   "outputs": [
    {
     "data": {
      "text/html": [
       "<div>\n",
       "<style scoped>\n",
       "    .dataframe tbody tr th:only-of-type {\n",
       "        vertical-align: middle;\n",
       "    }\n",
       "\n",
       "    .dataframe tbody tr th {\n",
       "        vertical-align: top;\n",
       "    }\n",
       "\n",
       "    .dataframe thead th {\n",
       "        text-align: right;\n",
       "    }\n",
       "</style>\n",
       "<table border=\"1\" class=\"dataframe\">\n",
       "  <thead>\n",
       "    <tr style=\"text-align: right;\">\n",
       "      <th></th>\n",
       "      <th>Converted</th>\n",
       "      <th>Converted_Prob</th>\n",
       "      <th>final_predicted</th>\n",
       "      <th>Lead_Score</th>\n",
       "    </tr>\n",
       "    <tr>\n",
       "      <th>Lead Number</th>\n",
       "      <th></th>\n",
       "      <th></th>\n",
       "      <th></th>\n",
       "      <th></th>\n",
       "    </tr>\n",
       "  </thead>\n",
       "  <tbody>\n",
       "    <tr>\n",
       "      <th>579533</th>\n",
       "      <td>1</td>\n",
       "      <td>0.945474</td>\n",
       "      <td>1</td>\n",
       "      <td>95</td>\n",
       "    </tr>\n",
       "    <tr>\n",
       "      <th>579538</th>\n",
       "      <td>1</td>\n",
       "      <td>0.631279</td>\n",
       "      <td>1</td>\n",
       "      <td>63</td>\n",
       "    </tr>\n",
       "    <tr>\n",
       "      <th>579545</th>\n",
       "      <td>0</td>\n",
       "      <td>0.017534</td>\n",
       "      <td>0</td>\n",
       "      <td>2</td>\n",
       "    </tr>\n",
       "    <tr>\n",
       "      <th>579546</th>\n",
       "      <td>0</td>\n",
       "      <td>0.764786</td>\n",
       "      <td>1</td>\n",
       "      <td>76</td>\n",
       "    </tr>\n",
       "    <tr>\n",
       "      <th>579564</th>\n",
       "      <td>1</td>\n",
       "      <td>0.803152</td>\n",
       "      <td>1</td>\n",
       "      <td>80</td>\n",
       "    </tr>\n",
       "  </tbody>\n",
       "</table>\n",
       "</div>"
      ],
      "text/plain": [
       "             Converted  Converted_Prob  final_predicted  Lead_Score\n",
       "Lead Number                                                        \n",
       "579533               1        0.945474                1          95\n",
       "579538               1        0.631279                1          63\n",
       "579545               0        0.017534                0           2\n",
       "579546               0        0.764786                1          76\n",
       "579564               1        0.803152                1          80"
      ]
     },
     "execution_count": 81,
     "metadata": {},
     "output_type": "execute_result"
    }
   ],
   "source": [
    "# Making the Lead Number column as index\n",
    "\n",
    "lead_full_pred = lead_full_pred.set_index('Lead Number').sort_index(axis = 0, ascending = True)\n",
    "lead_full_pred.head()"
   ]
  },
  {
   "cell_type": "code",
   "execution_count": 82,
   "id": "e1bf3f06",
   "metadata": {},
   "outputs": [
    {
     "data": {
      "text/plain": [
       "Do Not Email                                   -1.45\n",
       "Lead Origin_Lead Add Form                       1.14\n",
       "Lead Source_Welingak Website                    3.85\n",
       "Last Activity_Olark Chat Conversation          -1.47\n",
       "What is your current occupation_Not Provided   -0.64\n",
       "Tags_Busy                                       0.86\n",
       "Tags_Closed by Horizzon                         6.56\n",
       "Tags_Lost to EINS                               5.48\n",
       "Tags_Ringing                                   -3.88\n",
       "Tags_Will revert after reading the email        4.53\n",
       "Tags_invalid number                            -3.76\n",
       "Tags_switched off                              -4.49\n",
       "Last Notable Activity_SMS Sent                  2.85\n",
       "dtype: float64"
      ]
     },
     "execution_count": 82,
     "metadata": {},
     "output_type": "execute_result"
    }
   ],
   "source": [
    "# Selecting the coefficients of the selected features from our final model excluding the intercept\n",
    "\n",
    "pd.options.display.float_format = '{:.2f}'.format\n",
    "new_params = res.params[1:]\n",
    "new_params"
   ]
  },
  {
   "cell_type": "code",
   "execution_count": 83,
   "id": "bd19ca8c",
   "metadata": {},
   "outputs": [
    {
     "data": {
      "text/plain": [
       "Do Not Email                                   -22.06\n",
       "Lead Origin_Lead Add Form                       17.43\n",
       "Lead Source_Welingak Website                    58.69\n",
       "Last Activity_Olark Chat Conversation          -22.47\n",
       "What is your current occupation_Not Provided    -9.78\n",
       "Tags_Busy                                       13.14\n",
       "Tags_Closed by Horizzon                        100.00\n",
       "Tags_Lost to EINS                               83.54\n",
       "Tags_Ringing                                   -59.14\n",
       "Tags_Will revert after reading the email        69.00\n",
       "Tags_invalid number                            -57.29\n",
       "Tags_switched off                              -68.51\n",
       "Last Notable Activity_SMS Sent                  43.48\n",
       "dtype: float64"
      ]
     },
     "execution_count": 83,
     "metadata": {},
     "output_type": "execute_result"
    }
   ],
   "source": [
    "# Getting a relative coeffient value for all the features wrt the feature with the highest coefficient\n",
    "\n",
    "feature_importance = new_params\n",
    "feature_importance = 100.0 * (feature_importance / feature_importance.max())\n",
    "feature_importance"
   ]
  },
  {
   "cell_type": "code",
   "execution_count": 84,
   "id": "54136ce7",
   "metadata": {},
   "outputs": [
    {
     "data": {
      "image/png": "[encoded data removed]",
      "text/plain": [
       "<Figure size 720x576 with 1 Axes>"
      ]
     },
     "metadata": {
      "needs_background": "light"
     },
     "output_type": "display_data"
    }
   ],
   "source": [
    "# Plot showing the feature variables based on their relative coefficient values\n",
    "plt.figure(figsize = (10,8))\n",
    "feature_importance.sort_values(ascending=False).plot(kind='bar')\n",
    "plt.title('Feature variables based on their relative coefficient')\n",
    "plt.ylabel('Relative Coefficient')\n",
    "plt.show()"
   ]
  },
  {
   "cell_type": "code",
   "execution_count": 85,
   "id": "900fe6b1",
   "metadata": {},
   "outputs": [
    {
     "data": {
      "text/html": [
       "<div>\n",
       "<style scoped>\n",
       "    .dataframe tbody tr th:only-of-type {\n",
       "        vertical-align: middle;\n",
       "    }\n",
       "\n",
       "    .dataframe tbody tr th {\n",
       "        vertical-align: top;\n",
       "    }\n",
       "\n",
       "    .dataframe thead th {\n",
       "        text-align: right;\n",
       "    }\n",
       "</style>\n",
       "<table border=\"1\" class=\"dataframe\">\n",
       "  <thead>\n",
       "    <tr style=\"text-align: right;\">\n",
       "      <th></th>\n",
       "      <th>index</th>\n",
       "      <th>0</th>\n",
       "    </tr>\n",
       "  </thead>\n",
       "  <tbody>\n",
       "    <tr>\n",
       "      <th>6</th>\n",
       "      <td>Tags_Closed by Horizzon</td>\n",
       "      <td>100.00</td>\n",
       "    </tr>\n",
       "    <tr>\n",
       "      <th>7</th>\n",
       "      <td>Tags_Lost to EINS</td>\n",
       "      <td>83.54</td>\n",
       "    </tr>\n",
       "    <tr>\n",
       "      <th>9</th>\n",
       "      <td>Tags_Will revert after reading the email</td>\n",
       "      <td>69.00</td>\n",
       "    </tr>\n",
       "  </tbody>\n",
       "</table>\n",
       "</div>"
      ],
      "text/plain": [
       "                                      index      0\n",
       "6                   Tags_Closed by Horizzon 100.00\n",
       "7                         Tags_Lost to EINS  83.54\n",
       "9  Tags_Will revert after reading the email  69.00"
      ]
     },
     "execution_count": 85,
     "metadata": {},
     "output_type": "execute_result"
    }
   ],
   "source": [
    "# Selecting Top 3 features which contribute most towards the probability of a lead getting converted\n",
    "\n",
    "pd.DataFrame(feature_importance).reset_index().sort_values(by=0,ascending=False).head(3)"
   ]
  },
  {
   "cell_type": "markdown",
   "id": "abef30f0",
   "metadata": {},
   "source": [
    "# Conclusion\n",
    "The top three variables that contribute most towards probability of lead getting converted are:\n",
    "\n",
    "Tags - Closed by Horizzon, Lost to EINS, We will revert after reading the email\n",
    "\n",
    "Lead Source – Welingak Website\n",
    "\n",
    "Last Notable Activity – SMS Sent\n",
    "\n",
    "Top 3 variables that need improvement to convert a lead are:\n",
    "\n",
    "Tags_Ringing\n",
    "Tag_switched off\n",
    "Tags_invalid number"
   ]
  }
 ],
 "metadata": {
  "kernelspec": {
   "display_name": "Python 3 (ipykernel)",
   "language": "python",
   "name": "python3"
  },
  "language_info": {
   "codemirror_mode": {
    "name": "ipython",
    "version": 3
   },
   "file_extension": ".py",
   "mimetype": "text/x-python",
   "name": "python",
   "nbconvert_exporter": "python",
   "pygments_lexer": "ipython3",
   "version": "3.9.12"
  }
 },
 "nbformat": 4,
 "nbformat_minor": 5
}
